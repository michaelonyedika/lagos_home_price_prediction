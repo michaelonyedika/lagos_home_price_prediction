{
 "cells": [
  {
   "cell_type": "code",
   "execution_count": 1,
   "id": "20ae9f52",
   "metadata": {},
   "outputs": [],
   "source": [
    "import pandas as pd\n",
    "import numpy as np\n",
    "from matplotlib import pyplot as plt\n",
    "%matplotlib inline\n",
    "import matplotlib \n",
    "matplotlib.rcParams[\"figure.figsize\"] = (6,6)"
   ]
  },
  {
   "cell_type": "code",
   "execution_count": 2,
   "id": "500df3c5",
   "metadata": {},
   "outputs": [
    {
     "data": {
      "text/html": [
       "<div>\n",
       "<style scoped>\n",
       "    .dataframe tbody tr th:only-of-type {\n",
       "        vertical-align: middle;\n",
       "    }\n",
       "\n",
       "    .dataframe tbody tr th {\n",
       "        vertical-align: top;\n",
       "    }\n",
       "\n",
       "    .dataframe thead th {\n",
       "        text-align: right;\n",
       "    }\n",
       "</style>\n",
       "<table border=\"1\" class=\"dataframe\">\n",
       "  <thead>\n",
       "    <tr style=\"text-align: right;\">\n",
       "      <th></th>\n",
       "      <th>Unnamed: 0</th>\n",
       "      <th>Price</th>\n",
       "      <th>Pid</th>\n",
       "      <th>Property_name</th>\n",
       "      <th>Address</th>\n",
       "      <th>Neighboorhood</th>\n",
       "    </tr>\n",
       "  </thead>\n",
       "  <tbody>\n",
       "    <tr>\n",
       "      <th>0</th>\n",
       "      <td>0</td>\n",
       "      <td>400000</td>\n",
       "      <td>H1190</td>\n",
       "      <td>1 bedroom mini flat Flat / Apartment for rent ...</td>\n",
       "      <td>Fidiso Estate Abijo Ajah Lagos</td>\n",
       "      <td>Ajah</td>\n",
       "    </tr>\n",
       "    <tr>\n",
       "      <th>1</th>\n",
       "      <td>1</td>\n",
       "      <td>14000000</td>\n",
       "      <td>G7398</td>\n",
       "      <td>3 bedroom Flat / Apartment for rent Gerrard Ge...</td>\n",
       "      <td>Gerrard Gerrard Gerard Road Ikoyi Lagos</td>\n",
       "      <td>Ikoyi</td>\n",
       "    </tr>\n",
       "    <tr>\n",
       "      <th>2</th>\n",
       "      <td>2</td>\n",
       "      <td>200000</td>\n",
       "      <td>H5843</td>\n",
       "      <td>1 bedroom mini flat Flat / Apartment for rent ...</td>\n",
       "      <td>Obadia Akoka Yaba Lagos</td>\n",
       "      <td>Yaba</td>\n",
       "    </tr>\n",
       "    <tr>\n",
       "      <th>3</th>\n",
       "      <td>3</td>\n",
       "      <td>800000</td>\n",
       "      <td>H1194</td>\n",
       "      <td>2 bedroom Flat / Apartment for rent Iju Ishaga...</td>\n",
       "      <td>surulere Iju Ishaga Road Gbaja Surulere Lagos</td>\n",
       "      <td>Surulere</td>\n",
       "    </tr>\n",
       "    <tr>\n",
       "      <th>4</th>\n",
       "      <td>4</td>\n",
       "      <td>300000</td>\n",
       "      <td>H5842</td>\n",
       "      <td>1 bedroom mini flat Flat / Apartment for rent ...</td>\n",
       "      <td>Close to Unilag Abule Oja Yaba Lagos</td>\n",
       "      <td>Yaba</td>\n",
       "    </tr>\n",
       "  </tbody>\n",
       "</table>\n",
       "</div>"
      ],
      "text/plain": [
       "   Unnamed: 0     Price    Pid  \\\n",
       "0           0    400000  H1190   \n",
       "1           1  14000000  G7398   \n",
       "2           2    200000  H5843   \n",
       "3           3    800000  H1194   \n",
       "4           4    300000  H5842   \n",
       "\n",
       "                                       Property_name  \\\n",
       "0  1 bedroom mini flat Flat / Apartment for rent ...   \n",
       "1  3 bedroom Flat / Apartment for rent Gerrard Ge...   \n",
       "2  1 bedroom mini flat Flat / Apartment for rent ...   \n",
       "3  2 bedroom Flat / Apartment for rent Iju Ishaga...   \n",
       "4  1 bedroom mini flat Flat / Apartment for rent ...   \n",
       "\n",
       "                                         Address Neighboorhood  \n",
       "0                 Fidiso Estate Abijo Ajah Lagos          Ajah  \n",
       "1        Gerrard Gerrard Gerard Road Ikoyi Lagos         Ikoyi  \n",
       "2                        Obadia Akoka Yaba Lagos          Yaba  \n",
       "3  surulere Iju Ishaga Road Gbaja Surulere Lagos      Surulere  \n",
       "4           Close to Unilag Abule Oja Yaba Lagos          Yaba  "
      ]
     },
     "execution_count": 2,
     "metadata": {},
     "output_type": "execute_result"
    }
   ],
   "source": [
    "df = pd.read_csv('data/rent_2.csv')\n",
    "df.head()"
   ]
  },
  {
   "cell_type": "code",
   "execution_count": 3,
   "id": "6cec802f",
   "metadata": {},
   "outputs": [
    {
     "data": {
      "text/plain": [
       "(9853, 6)"
      ]
     },
     "execution_count": 3,
     "metadata": {},
     "output_type": "execute_result"
    }
   ],
   "source": [
    "df.shape"
   ]
  },
  {
   "cell_type": "code",
   "execution_count": 4,
   "id": "710a10aa",
   "metadata": {},
   "outputs": [
    {
     "data": {
      "text/plain": [
       "Unnamed: 0       0\n",
       "Price            0\n",
       "Pid              0\n",
       "Property_name    0\n",
       "Address          0\n",
       "Neighboorhood    0\n",
       "dtype: int64"
      ]
     },
     "execution_count": 4,
     "metadata": {},
     "output_type": "execute_result"
    }
   ],
   "source": [
    "df.isnull().sum()"
   ]
  },
  {
   "cell_type": "code",
   "execution_count": 5,
   "id": "132d9a61",
   "metadata": {},
   "outputs": [
    {
     "data": {
      "text/html": [
       "<div>\n",
       "<style scoped>\n",
       "    .dataframe tbody tr th:only-of-type {\n",
       "        vertical-align: middle;\n",
       "    }\n",
       "\n",
       "    .dataframe tbody tr th {\n",
       "        vertical-align: top;\n",
       "    }\n",
       "\n",
       "    .dataframe thead th {\n",
       "        text-align: right;\n",
       "    }\n",
       "</style>\n",
       "<table border=\"1\" class=\"dataframe\">\n",
       "  <thead>\n",
       "    <tr style=\"text-align: right;\">\n",
       "      <th></th>\n",
       "      <th>Price</th>\n",
       "      <th>Property_name</th>\n",
       "      <th>Neighboorhood</th>\n",
       "    </tr>\n",
       "  </thead>\n",
       "  <tbody>\n",
       "    <tr>\n",
       "      <th>0</th>\n",
       "      <td>400000</td>\n",
       "      <td>1 bedroom mini flat Flat / Apartment for rent ...</td>\n",
       "      <td>Ajah</td>\n",
       "    </tr>\n",
       "    <tr>\n",
       "      <th>1</th>\n",
       "      <td>14000000</td>\n",
       "      <td>3 bedroom Flat / Apartment for rent Gerrard Ge...</td>\n",
       "      <td>Ikoyi</td>\n",
       "    </tr>\n",
       "    <tr>\n",
       "      <th>2</th>\n",
       "      <td>200000</td>\n",
       "      <td>1 bedroom mini flat Flat / Apartment for rent ...</td>\n",
       "      <td>Yaba</td>\n",
       "    </tr>\n",
       "    <tr>\n",
       "      <th>3</th>\n",
       "      <td>800000</td>\n",
       "      <td>2 bedroom Flat / Apartment for rent Iju Ishaga...</td>\n",
       "      <td>Surulere</td>\n",
       "    </tr>\n",
       "    <tr>\n",
       "      <th>4</th>\n",
       "      <td>300000</td>\n",
       "      <td>1 bedroom mini flat Flat / Apartment for rent ...</td>\n",
       "      <td>Yaba</td>\n",
       "    </tr>\n",
       "  </tbody>\n",
       "</table>\n",
       "</div>"
      ],
      "text/plain": [
       "      Price                                      Property_name Neighboorhood\n",
       "0    400000  1 bedroom mini flat Flat / Apartment for rent ...          Ajah\n",
       "1  14000000  3 bedroom Flat / Apartment for rent Gerrard Ge...         Ikoyi\n",
       "2    200000  1 bedroom mini flat Flat / Apartment for rent ...          Yaba\n",
       "3    800000  2 bedroom Flat / Apartment for rent Iju Ishaga...      Surulere\n",
       "4    300000  1 bedroom mini flat Flat / Apartment for rent ...          Yaba"
      ]
     },
     "execution_count": 5,
     "metadata": {},
     "output_type": "execute_result"
    }
   ],
   "source": [
    "df = df.drop(['Unnamed: 0', 'Pid', 'Address'], axis='columns')\n",
    "df.head()"
   ]
  },
  {
   "cell_type": "code",
   "execution_count": 6,
   "id": "7a58020a",
   "metadata": {},
   "outputs": [],
   "source": [
    "def is_num(x):\n",
    "    tokens = x.split(' ')[0]\n",
    "    try:\n",
    "        int(tokens)\n",
    "    except:\n",
    "        return False\n",
    "    return True"
   ]
  },
  {
   "cell_type": "code",
   "execution_count": 7,
   "id": "df29d7c4",
   "metadata": {
    "scrolled": false
   },
   "outputs": [
    {
     "data": {
      "text/html": [
       "<div>\n",
       "<style scoped>\n",
       "    .dataframe tbody tr th:only-of-type {\n",
       "        vertical-align: middle;\n",
       "    }\n",
       "\n",
       "    .dataframe tbody tr th {\n",
       "        vertical-align: top;\n",
       "    }\n",
       "\n",
       "    .dataframe thead th {\n",
       "        text-align: right;\n",
       "    }\n",
       "</style>\n",
       "<table border=\"1\" class=\"dataframe\">\n",
       "  <thead>\n",
       "    <tr style=\"text-align: right;\">\n",
       "      <th></th>\n",
       "      <th>Price</th>\n",
       "      <th>Property_name</th>\n",
       "      <th>Neighboorhood</th>\n",
       "    </tr>\n",
       "  </thead>\n",
       "  <tbody>\n",
       "    <tr>\n",
       "      <th>0</th>\n",
       "      <td>400000</td>\n",
       "      <td>1 bedroom mini flat Flat / Apartment for rent ...</td>\n",
       "      <td>Ajah</td>\n",
       "    </tr>\n",
       "    <tr>\n",
       "      <th>1</th>\n",
       "      <td>14000000</td>\n",
       "      <td>3 bedroom Flat / Apartment for rent Gerrard Ge...</td>\n",
       "      <td>Ikoyi</td>\n",
       "    </tr>\n",
       "    <tr>\n",
       "      <th>2</th>\n",
       "      <td>200000</td>\n",
       "      <td>1 bedroom mini flat Flat / Apartment for rent ...</td>\n",
       "      <td>Yaba</td>\n",
       "    </tr>\n",
       "    <tr>\n",
       "      <th>3</th>\n",
       "      <td>800000</td>\n",
       "      <td>2 bedroom Flat / Apartment for rent Iju Ishaga...</td>\n",
       "      <td>Surulere</td>\n",
       "    </tr>\n",
       "    <tr>\n",
       "      <th>4</th>\n",
       "      <td>300000</td>\n",
       "      <td>1 bedroom mini flat Flat / Apartment for rent ...</td>\n",
       "      <td>Yaba</td>\n",
       "    </tr>\n",
       "  </tbody>\n",
       "</table>\n",
       "</div>"
      ],
      "text/plain": [
       "      Price                                      Property_name Neighboorhood\n",
       "0    400000  1 bedroom mini flat Flat / Apartment for rent ...          Ajah\n",
       "1  14000000  3 bedroom Flat / Apartment for rent Gerrard Ge...         Ikoyi\n",
       "2    200000  1 bedroom mini flat Flat / Apartment for rent ...          Yaba\n",
       "3    800000  2 bedroom Flat / Apartment for rent Iju Ishaga...      Surulere\n",
       "4    300000  1 bedroom mini flat Flat / Apartment for rent ...          Yaba"
      ]
     },
     "execution_count": 7,
     "metadata": {},
     "output_type": "execute_result"
    }
   ],
   "source": [
    "df2 = df[df.Property_name.apply(is_num)]\n",
    "df2.head()"
   ]
  },
  {
   "cell_type": "code",
   "execution_count": 8,
   "id": "17ad6f1c",
   "metadata": {
    "scrolled": false
   },
   "outputs": [
    {
     "data": {
      "text/html": [
       "<div>\n",
       "<style scoped>\n",
       "    .dataframe tbody tr th:only-of-type {\n",
       "        vertical-align: middle;\n",
       "    }\n",
       "\n",
       "    .dataframe tbody tr th {\n",
       "        vertical-align: top;\n",
       "    }\n",
       "\n",
       "    .dataframe thead th {\n",
       "        text-align: right;\n",
       "    }\n",
       "</style>\n",
       "<table border=\"1\" class=\"dataframe\">\n",
       "  <thead>\n",
       "    <tr style=\"text-align: right;\">\n",
       "      <th></th>\n",
       "      <th>Price</th>\n",
       "      <th>Property_name</th>\n",
       "      <th>Neighboorhood</th>\n",
       "    </tr>\n",
       "  </thead>\n",
       "  <tbody>\n",
       "    <tr>\n",
       "      <th>6</th>\n",
       "      <td>300000</td>\n",
       "      <td>Self Contain for rent Akoka Abule-Oja Yaba Lagos</td>\n",
       "      <td>Yaba</td>\n",
       "    </tr>\n",
       "    <tr>\n",
       "      <th>11</th>\n",
       "      <td>7000</td>\n",
       "      <td>Shop for rent Fola Agoro Yaba Lagos</td>\n",
       "      <td>Yaba</td>\n",
       "    </tr>\n",
       "    <tr>\n",
       "      <th>13</th>\n",
       "      <td>500000</td>\n",
       "      <td>Office Space for rent GRA Phase 2 Beside Karis...</td>\n",
       "      <td>Kosofe</td>\n",
       "    </tr>\n",
       "    <tr>\n",
       "      <th>27</th>\n",
       "      <td>1500000</td>\n",
       "      <td>300.0 square meter Flat / Apartment for rent A...</td>\n",
       "      <td>Yaba</td>\n",
       "    </tr>\n",
       "    <tr>\n",
       "      <th>37</th>\n",
       "      <td>250000</td>\n",
       "      <td>Flat / Apartment for rent Shomolu Shomolu Lagos</td>\n",
       "      <td>Shomolu</td>\n",
       "    </tr>\n",
       "    <tr>\n",
       "      <th>41</th>\n",
       "      <td>300000</td>\n",
       "      <td>Self Contain for rent Shomolu Shomolu Lagos</td>\n",
       "      <td>Shomolu</td>\n",
       "    </tr>\n",
       "    <tr>\n",
       "      <th>43</th>\n",
       "      <td>5000000</td>\n",
       "      <td>Flat / Apartment for rent Adeola Odeku Victori...</td>\n",
       "      <td>VI</td>\n",
       "    </tr>\n",
       "    <tr>\n",
       "      <th>48</th>\n",
       "      <td>120000</td>\n",
       "      <td>Shop for rent Akoka Yaba Lagos</td>\n",
       "      <td>Yaba</td>\n",
       "    </tr>\n",
       "    <tr>\n",
       "      <th>73</th>\n",
       "      <td>300000</td>\n",
       "      <td>Self Contain for rent Abule-Oja Yaba Lagos</td>\n",
       "      <td>Yaba</td>\n",
       "    </tr>\n",
       "    <tr>\n",
       "      <th>74</th>\n",
       "      <td>300000</td>\n",
       "      <td>Self Contain for rent Abule-Oja Yaba Lagos</td>\n",
       "      <td>Yaba</td>\n",
       "    </tr>\n",
       "  </tbody>\n",
       "</table>\n",
       "</div>"
      ],
      "text/plain": [
       "      Price                                      Property_name Neighboorhood\n",
       "6    300000   Self Contain for rent Akoka Abule-Oja Yaba Lagos          Yaba\n",
       "11     7000                Shop for rent Fola Agoro Yaba Lagos          Yaba\n",
       "13   500000  Office Space for rent GRA Phase 2 Beside Karis...        Kosofe\n",
       "27  1500000  300.0 square meter Flat / Apartment for rent A...          Yaba\n",
       "37   250000    Flat / Apartment for rent Shomolu Shomolu Lagos       Shomolu\n",
       "41   300000        Self Contain for rent Shomolu Shomolu Lagos       Shomolu\n",
       "43  5000000  Flat / Apartment for rent Adeola Odeku Victori...            VI\n",
       "48   120000                     Shop for rent Akoka Yaba Lagos          Yaba\n",
       "73   300000         Self Contain for rent Abule-Oja Yaba Lagos          Yaba\n",
       "74   300000         Self Contain for rent Abule-Oja Yaba Lagos          Yaba"
      ]
     },
     "execution_count": 8,
     "metadata": {},
     "output_type": "execute_result"
    }
   ],
   "source": [
    "df_office_and_shop = df[~df.Property_name.apply(is_num)]\n",
    "df_office_and_shop.head(10)"
   ]
  },
  {
   "cell_type": "code",
   "execution_count": 9,
   "id": "8bbc059b",
   "metadata": {},
   "outputs": [
    {
     "data": {
      "text/plain": [
       "(1022, 3)"
      ]
     },
     "execution_count": 9,
     "metadata": {},
     "output_type": "execute_result"
    }
   ],
   "source": [
    "df_office_and_shop.shape"
   ]
  },
  {
   "cell_type": "code",
   "execution_count": 10,
   "id": "69f80722",
   "metadata": {
    "scrolled": false
   },
   "outputs": [
    {
     "name": "stderr",
     "output_type": "stream",
     "text": [
      "C:\\Users\\CELESTINE TYJC\\AppData\\Local\\Temp\\ipykernel_16740\\4115023072.py:1: SettingWithCopyWarning: \n",
      "A value is trying to be set on a copy of a slice from a DataFrame.\n",
      "Try using .loc[row_indexer,col_indexer] = value instead\n",
      "\n",
      "See the caveats in the documentation: https://pandas.pydata.org/pandas-docs/stable/user_guide/indexing.html#returning-a-view-versus-a-copy\n",
      "  df2['bedroom'] = df2.Property_name.apply(lambda x: x.split(' ')[0])\n"
     ]
    },
    {
     "data": {
      "text/html": [
       "<div>\n",
       "<style scoped>\n",
       "    .dataframe tbody tr th:only-of-type {\n",
       "        vertical-align: middle;\n",
       "    }\n",
       "\n",
       "    .dataframe tbody tr th {\n",
       "        vertical-align: top;\n",
       "    }\n",
       "\n",
       "    .dataframe thead th {\n",
       "        text-align: right;\n",
       "    }\n",
       "</style>\n",
       "<table border=\"1\" class=\"dataframe\">\n",
       "  <thead>\n",
       "    <tr style=\"text-align: right;\">\n",
       "      <th></th>\n",
       "      <th>Price</th>\n",
       "      <th>Property_name</th>\n",
       "      <th>Neighboorhood</th>\n",
       "      <th>bedroom</th>\n",
       "    </tr>\n",
       "  </thead>\n",
       "  <tbody>\n",
       "    <tr>\n",
       "      <th>0</th>\n",
       "      <td>400000</td>\n",
       "      <td>1 bedroom mini flat Flat / Apartment for rent ...</td>\n",
       "      <td>Ajah</td>\n",
       "      <td>1</td>\n",
       "    </tr>\n",
       "    <tr>\n",
       "      <th>1</th>\n",
       "      <td>14000000</td>\n",
       "      <td>3 bedroom Flat / Apartment for rent Gerrard Ge...</td>\n",
       "      <td>Ikoyi</td>\n",
       "      <td>3</td>\n",
       "    </tr>\n",
       "    <tr>\n",
       "      <th>2</th>\n",
       "      <td>200000</td>\n",
       "      <td>1 bedroom mini flat Flat / Apartment for rent ...</td>\n",
       "      <td>Yaba</td>\n",
       "      <td>1</td>\n",
       "    </tr>\n",
       "    <tr>\n",
       "      <th>3</th>\n",
       "      <td>800000</td>\n",
       "      <td>2 bedroom Flat / Apartment for rent Iju Ishaga...</td>\n",
       "      <td>Surulere</td>\n",
       "      <td>2</td>\n",
       "    </tr>\n",
       "    <tr>\n",
       "      <th>4</th>\n",
       "      <td>300000</td>\n",
       "      <td>1 bedroom mini flat Flat / Apartment for rent ...</td>\n",
       "      <td>Yaba</td>\n",
       "      <td>1</td>\n",
       "    </tr>\n",
       "    <tr>\n",
       "      <th>5</th>\n",
       "      <td>300000</td>\n",
       "      <td>1 bedroom mini flat Flat / Apartment for rent ...</td>\n",
       "      <td>Yaba</td>\n",
       "      <td>1</td>\n",
       "    </tr>\n",
       "    <tr>\n",
       "      <th>7</th>\n",
       "      <td>600000</td>\n",
       "      <td>2 bedroom Flat / Apartment for rent Akoka Yaba...</td>\n",
       "      <td>Yaba</td>\n",
       "      <td>2</td>\n",
       "    </tr>\n",
       "    <tr>\n",
       "      <th>8</th>\n",
       "      <td>450000</td>\n",
       "      <td>1 bedroom mini flat Flat / Apartment for rent ...</td>\n",
       "      <td>Yaba</td>\n",
       "      <td>1</td>\n",
       "    </tr>\n",
       "    <tr>\n",
       "      <th>9</th>\n",
       "      <td>1000000</td>\n",
       "      <td>3 bedroom Flat / Apartment for rent Alapere Ko...</td>\n",
       "      <td>Alapere</td>\n",
       "      <td>3</td>\n",
       "    </tr>\n",
       "    <tr>\n",
       "      <th>10</th>\n",
       "      <td>500000</td>\n",
       "      <td>2 bedroom Flat / Apartment for rent Palmgroove...</td>\n",
       "      <td>Shomolu</td>\n",
       "      <td>2</td>\n",
       "    </tr>\n",
       "  </tbody>\n",
       "</table>\n",
       "</div>"
      ],
      "text/plain": [
       "       Price                                      Property_name Neighboorhood  \\\n",
       "0     400000  1 bedroom mini flat Flat / Apartment for rent ...          Ajah   \n",
       "1   14000000  3 bedroom Flat / Apartment for rent Gerrard Ge...         Ikoyi   \n",
       "2     200000  1 bedroom mini flat Flat / Apartment for rent ...          Yaba   \n",
       "3     800000  2 bedroom Flat / Apartment for rent Iju Ishaga...      Surulere   \n",
       "4     300000  1 bedroom mini flat Flat / Apartment for rent ...          Yaba   \n",
       "5     300000  1 bedroom mini flat Flat / Apartment for rent ...          Yaba   \n",
       "7     600000  2 bedroom Flat / Apartment for rent Akoka Yaba...          Yaba   \n",
       "8     450000  1 bedroom mini flat Flat / Apartment for rent ...          Yaba   \n",
       "9    1000000  3 bedroom Flat / Apartment for rent Alapere Ko...       Alapere   \n",
       "10    500000  2 bedroom Flat / Apartment for rent Palmgroove...       Shomolu   \n",
       "\n",
       "   bedroom  \n",
       "0        1  \n",
       "1        3  \n",
       "2        1  \n",
       "3        2  \n",
       "4        1  \n",
       "5        1  \n",
       "7        2  \n",
       "8        1  \n",
       "9        3  \n",
       "10       2  "
      ]
     },
     "execution_count": 10,
     "metadata": {},
     "output_type": "execute_result"
    }
   ],
   "source": [
    "df2['bedroom'] = df2.Property_name.apply(lambda x: x.split(' ')[0])\n",
    "df2.head(10)"
   ]
  },
  {
   "cell_type": "code",
   "execution_count": 11,
   "id": "95a0224b",
   "metadata": {},
   "outputs": [
    {
     "data": {
      "text/plain": [
       "(8831, 4)"
      ]
     },
     "execution_count": 11,
     "metadata": {},
     "output_type": "execute_result"
    }
   ],
   "source": [
    "df2.shape"
   ]
  },
  {
   "cell_type": "code",
   "execution_count": 12,
   "id": "ca70faf6",
   "metadata": {},
   "outputs": [
    {
     "data": {
      "text/plain": [
       "3     3967\n",
       "2     1750\n",
       "4     1207\n",
       "1     1156\n",
       "5      593\n",
       "6       67\n",
       "7       38\n",
       "10      35\n",
       "8       14\n",
       "9        4\n",
       "Name: bedroom, dtype: int64"
      ]
     },
     "execution_count": 12,
     "metadata": {},
     "output_type": "execute_result"
    }
   ],
   "source": [
    "df2.bedroom.value_counts()"
   ]
  },
  {
   "cell_type": "code",
   "execution_count": 13,
   "id": "60a3166b",
   "metadata": {
    "scrolled": true
   },
   "outputs": [
    {
     "name": "stderr",
     "output_type": "stream",
     "text": [
      "C:\\Users\\CELESTINE TYJC\\AppData\\Local\\Temp\\ipykernel_16740\\1650627025.py:1: SettingWithCopyWarning: \n",
      "A value is trying to be set on a copy of a slice from a DataFrame.\n",
      "Try using .loc[row_indexer,col_indexer] = value instead\n",
      "\n",
      "See the caveats in the documentation: https://pandas.pydata.org/pandas-docs/stable/user_guide/indexing.html#returning-a-view-versus-a-copy\n",
      "  df2['bedroom'] = df2.bedroom.apply(lambda x: int(x))\n"
     ]
    }
   ],
   "source": [
    "df2['bedroom'] = df2.bedroom.apply(lambda x: int(x))"
   ]
  },
  {
   "cell_type": "code",
   "execution_count": 14,
   "id": "01c782ec",
   "metadata": {
    "scrolled": false
   },
   "outputs": [
    {
     "data": {
      "text/html": [
       "<div>\n",
       "<style scoped>\n",
       "    .dataframe tbody tr th:only-of-type {\n",
       "        vertical-align: middle;\n",
       "    }\n",
       "\n",
       "    .dataframe tbody tr th {\n",
       "        vertical-align: top;\n",
       "    }\n",
       "\n",
       "    .dataframe thead th {\n",
       "        text-align: right;\n",
       "    }\n",
       "</style>\n",
       "<table border=\"1\" class=\"dataframe\">\n",
       "  <thead>\n",
       "    <tr style=\"text-align: right;\">\n",
       "      <th></th>\n",
       "      <th>Price</th>\n",
       "      <th>Property_name</th>\n",
       "      <th>Neighboorhood</th>\n",
       "      <th>bedroom</th>\n",
       "    </tr>\n",
       "  </thead>\n",
       "  <tbody>\n",
       "    <tr>\n",
       "      <th>111</th>\n",
       "      <td>3000000</td>\n",
       "      <td>6 bedroom Duplex for rent Oke-Alo Millenuim/UP...</td>\n",
       "      <td>Gbagada</td>\n",
       "      <td>6</td>\n",
       "    </tr>\n",
       "    <tr>\n",
       "      <th>119</th>\n",
       "      <td>3500000</td>\n",
       "      <td>6 bedroom Duplex for rent Gbagada Phase2 Phase...</td>\n",
       "      <td>Gbagada</td>\n",
       "      <td>6</td>\n",
       "    </tr>\n",
       "    <tr>\n",
       "      <th>180</th>\n",
       "      <td>2500000</td>\n",
       "      <td>6 bedroom Duplex for rent Kilo-Marsha Surulere...</td>\n",
       "      <td>Surulere</td>\n",
       "      <td>6</td>\n",
       "    </tr>\n",
       "    <tr>\n",
       "      <th>410</th>\n",
       "      <td>3800000</td>\n",
       "      <td>7 bedroom Duplex for rent Okealo Millenuim/UPS...</td>\n",
       "      <td>Gbagada</td>\n",
       "      <td>7</td>\n",
       "    </tr>\n",
       "    <tr>\n",
       "      <th>463</th>\n",
       "      <td>12000000</td>\n",
       "      <td>7 bedroom Commercial Property for rent Ademola...</td>\n",
       "      <td>VI</td>\n",
       "      <td>7</td>\n",
       "    </tr>\n",
       "  </tbody>\n",
       "</table>\n",
       "</div>"
      ],
      "text/plain": [
       "        Price                                      Property_name  \\\n",
       "111   3000000  6 bedroom Duplex for rent Oke-Alo Millenuim/UP...   \n",
       "119   3500000  6 bedroom Duplex for rent Gbagada Phase2 Phase...   \n",
       "180   2500000  6 bedroom Duplex for rent Kilo-Marsha Surulere...   \n",
       "410   3800000  7 bedroom Duplex for rent Okealo Millenuim/UPS...   \n",
       "463  12000000  7 bedroom Commercial Property for rent Ademola...   \n",
       "\n",
       "    Neighboorhood  bedroom  \n",
       "111       Gbagada        6  \n",
       "119       Gbagada        6  \n",
       "180      Surulere        6  \n",
       "410       Gbagada        7  \n",
       "463            VI        7  "
      ]
     },
     "execution_count": 14,
     "metadata": {},
     "output_type": "execute_result"
    }
   ],
   "source": [
    "df2[df2['bedroom'] >= 6].head()"
   ]
  },
  {
   "cell_type": "code",
   "execution_count": 15,
   "id": "3011b91e",
   "metadata": {
    "scrolled": false
   },
   "outputs": [
    {
     "name": "stdout",
     "output_type": "stream",
     "text": [
      "40\n"
     ]
    },
    {
     "data": {
      "text/plain": [
       "Lekki           1594\n",
       "Yaba             934\n",
       "Ikeja            636\n",
       "Surulere         563\n",
       "Ojo              522\n",
       "Ikoyi            511\n",
       "Gbagada          461\n",
       "Ajah             427\n",
       "VI               374\n",
       "Kosofe           278\n",
       "Ogba             265\n",
       "Ipaja            241\n",
       "Okota            209\n",
       "Isolo            203\n",
       "Shomolu          197\n",
       "Maryland         177\n",
       "Sangotedo        159\n",
       "Ikorodu          146\n",
       "Ogudu            145\n",
       "Amuwo-Odofin     123\n",
       "Alimosho         108\n",
       "Abule-Egba        93\n",
       "Alapere           85\n",
       "Oshodi            56\n",
       "Ilupeju           55\n",
       "Bariga            49\n",
       "Agege             48\n",
       "Igando            36\n",
       "Apapa             22\n",
       "Ibeju-Lekki       22\n",
       "Ikosi             19\n",
       "Badagry           17\n",
       "Idimu             16\n",
       "Mushin            12\n",
       "Orile              8\n",
       "VGC                6\n",
       "Ejigbo             5\n",
       "Lagos-Island       4\n",
       "Ifako-Ijaiye       3\n",
       "Obalende           2\n",
       "Name: Neighboorhood, dtype: int64"
      ]
     },
     "execution_count": 15,
     "metadata": {},
     "output_type": "execute_result"
    }
   ],
   "source": [
    "print(df2.Neighboorhood.unique().shape[0])\n",
    "df2.Neighboorhood.value_counts()"
   ]
  },
  {
   "cell_type": "code",
   "execution_count": 16,
   "id": "48522b9e",
   "metadata": {},
   "outputs": [
    {
     "data": {
      "text/plain": [
       "count    8.831000e+03\n",
       "mean     2.380828e+06\n",
       "std      7.950422e+06\n",
       "min      5.000000e+02\n",
       "25%      6.000000e+05\n",
       "50%      1.000000e+06\n",
       "75%      2.500000e+06\n",
       "max      6.000000e+08\n",
       "Name: Price, dtype: float64"
      ]
     },
     "execution_count": 16,
     "metadata": {},
     "output_type": "execute_result"
    }
   ],
   "source": [
    "df2.Price.describe()"
   ]
  },
  {
   "cell_type": "code",
   "execution_count": 17,
   "id": "180c59fc",
   "metadata": {},
   "outputs": [
    {
     "data": {
      "text/plain": [
       "[8831.0,\n",
       " 2380827.9130336316,\n",
       " 7950421.701710134,\n",
       " 500.0,\n",
       " 600000.0,\n",
       " 1000000.0,\n",
       " 2500000.0,\n",
       " 600000000.0]"
      ]
     },
     "execution_count": 17,
     "metadata": {},
     "output_type": "execute_result"
    }
   ],
   "source": [
    "list(df2.Price.describe())"
   ]
  },
  {
   "cell_type": "code",
   "execution_count": 18,
   "id": "2ae7890a",
   "metadata": {},
   "outputs": [
    {
     "data": {
      "image/png": "[encoded data removed]",
      "text/plain": [
       "<Figure size 432x432 with 1 Axes>"
      ]
     },
     "metadata": {
      "needs_background": "light"
     },
     "output_type": "display_data"
    }
   ],
   "source": [
    "\n",
    "plt.hist(df2.Price, rwidth=0.8, log=True)\n",
    "plt.rcParams['figure.figsize'] = (4,4)\n",
    "plt.show()"
   ]
  },
  {
   "cell_type": "code",
   "execution_count": 19,
   "id": "38b12672",
   "metadata": {
    "scrolled": false
   },
   "outputs": [
    {
     "data": {
      "text/plain": [
       "<seaborn.axisgrid.FacetGrid at 0x232069c9dc0>"
      ]
     },
     "execution_count": 19,
     "metadata": {},
     "output_type": "execute_result"
    },
    {
     "data": {
      "image/png": "[encoded data removed]",
      "text/plain": [
       "<Figure size 360x360 with 1 Axes>"
      ]
     },
     "metadata": {
      "needs_background": "light"
     },
     "output_type": "display_data"
    }
   ],
   "source": [
    "import seaborn as sns\n",
    "sns.displot(df2.Price)"
   ]
  },
  {
   "cell_type": "code",
   "execution_count": 20,
   "id": "b32ce952",
   "metadata": {},
   "outputs": [
    {
     "data": {
      "text/plain": [
       "<seaborn.axisgrid.FacetGrid at 0x2320abc3040>"
      ]
     },
     "execution_count": 20,
     "metadata": {},
     "output_type": "execute_result"
    },
    {
     "data": {
      "image/png": "[encoded data removed]",
      "text/plain": [
       "<Figure size 360x360 with 1 Axes>"
      ]
     },
     "metadata": {
      "needs_background": "light"
     },
     "output_type": "display_data"
    }
   ],
   "source": [
    "sns.displot(df2.Price, log_scale=True)"
   ]
  },
  {
   "cell_type": "markdown",
   "id": "1ad2f09d",
   "metadata": {},
   "source": [
    "<h2 style='color: blue'>Price Outlier Remover using 1 standard deviation</h2>\n",
    "Grouping it by Neighboorhood"
   ]
  },
  {
   "cell_type": "code",
   "execution_count": 21,
   "id": "9d038d64",
   "metadata": {
    "scrolled": false
   },
   "outputs": [
    {
     "data": {
      "text/html": [
       "<div>\n",
       "<style scoped>\n",
       "    .dataframe tbody tr th:only-of-type {\n",
       "        vertical-align: middle;\n",
       "    }\n",
       "\n",
       "    .dataframe tbody tr th {\n",
       "        vertical-align: top;\n",
       "    }\n",
       "\n",
       "    .dataframe thead th {\n",
       "        text-align: right;\n",
       "    }\n",
       "</style>\n",
       "<table border=\"1\" class=\"dataframe\">\n",
       "  <thead>\n",
       "    <tr style=\"text-align: right;\">\n",
       "      <th></th>\n",
       "      <th>Price</th>\n",
       "      <th>Property_name</th>\n",
       "      <th>Neighboorhood</th>\n",
       "      <th>bedroom</th>\n",
       "    </tr>\n",
       "  </thead>\n",
       "  <tbody>\n",
       "    <tr>\n",
       "      <th>0</th>\n",
       "      <td>300000</td>\n",
       "      <td>3 bedroom Flat / Apartment for rent Ekoro Abul...</td>\n",
       "      <td>Abule-Egba</td>\n",
       "      <td>3</td>\n",
       "    </tr>\n",
       "    <tr>\n",
       "      <th>1</th>\n",
       "      <td>400000</td>\n",
       "      <td>3 bedroom Duplex for rent Alagbado Abule Egba ...</td>\n",
       "      <td>Abule-Egba</td>\n",
       "      <td>3</td>\n",
       "    </tr>\n",
       "    <tr>\n",
       "      <th>2</th>\n",
       "      <td>500000</td>\n",
       "      <td>3 bedroom Flat / Apartment for rent Social clu...</td>\n",
       "      <td>Abule-Egba</td>\n",
       "      <td>3</td>\n",
       "    </tr>\n",
       "    <tr>\n",
       "      <th>3</th>\n",
       "      <td>300000</td>\n",
       "      <td>2 bedroom Flat / Apartment for rent Olaniyi Ar...</td>\n",
       "      <td>Abule-Egba</td>\n",
       "      <td>2</td>\n",
       "    </tr>\n",
       "    <tr>\n",
       "      <th>4</th>\n",
       "      <td>400000</td>\n",
       "      <td>3 bedroom Flat / Apartment for rent Olaniyi Ar...</td>\n",
       "      <td>Abule-Egba</td>\n",
       "      <td>3</td>\n",
       "    </tr>\n",
       "  </tbody>\n",
       "</table>\n",
       "</div>"
      ],
      "text/plain": [
       "    Price                                      Property_name Neighboorhood  \\\n",
       "0  300000  3 bedroom Flat / Apartment for rent Ekoro Abul...    Abule-Egba   \n",
       "1  400000  3 bedroom Duplex for rent Alagbado Abule Egba ...    Abule-Egba   \n",
       "2  500000  3 bedroom Flat / Apartment for rent Social clu...    Abule-Egba   \n",
       "3  300000  2 bedroom Flat / Apartment for rent Olaniyi Ar...    Abule-Egba   \n",
       "4  400000  3 bedroom Flat / Apartment for rent Olaniyi Ar...    Abule-Egba   \n",
       "\n",
       "   bedroom  \n",
       "0        3  \n",
       "1        3  \n",
       "2        3  \n",
       "3        2  \n",
       "4        3  "
      ]
     },
     "execution_count": 21,
     "metadata": {},
     "output_type": "execute_result"
    }
   ],
   "source": [
    "def outlier_price_remover(df):\n",
    "    out_df = pd.DataFrame()\n",
    "    for location, location_df in df.groupby('Neighboorhood'):\n",
    "        m = np.mean(location_df.Price)\n",
    "        std = np.std(location_df.Price)    \n",
    "        reduce_df = location_df[(location_df.Price >(m-std)) & (location_df.Price <=(m+std))]\n",
    "        out_df = pd.concat([out_df, reduce_df], ignore_index=True)\n",
    "    return out_df \n",
    "df3 = outlier_price_remover(df2)\n",
    "df3.head()"
   ]
  },
  {
   "cell_type": "code",
   "execution_count": 22,
   "id": "33ef7520",
   "metadata": {},
   "outputs": [
    {
     "name": "stdout",
     "output_type": "stream",
     "text": [
      "(8050, 4)\n"
     ]
    },
    {
     "data": {
      "text/plain": [
       "781"
      ]
     },
     "execution_count": 22,
     "metadata": {},
     "output_type": "execute_result"
    }
   ],
   "source": [
    "print(df3.shape)\n",
    "df2.shape[0]-df3.shape[0]"
   ]
  },
  {
   "cell_type": "code",
   "execution_count": 23,
   "id": "9288faa3",
   "metadata": {},
   "outputs": [
    {
     "data": {
      "text/plain": [
       "count    8.050000e+03\n",
       "mean     1.982380e+06\n",
       "std      2.481905e+06\n",
       "min      5.000000e+02\n",
       "25%      6.000000e+05\n",
       "50%      1.000000e+06\n",
       "75%      2.500000e+06\n",
       "max      2.400000e+07\n",
       "Name: Price, dtype: float64"
      ]
     },
     "execution_count": 23,
     "metadata": {},
     "output_type": "execute_result"
    }
   ],
   "source": [
    "df3.Price.describe()"
   ]
  },
  {
   "cell_type": "code",
   "execution_count": 24,
   "id": "78e6bdf6",
   "metadata": {},
   "outputs": [
    {
     "data": {
      "text/plain": [
       "[8050.0,\n",
       " 1982380.2857142857,\n",
       " 2481904.707506435,\n",
       " 500.0,\n",
       " 600000.0,\n",
       " 1000000.0,\n",
       " 2500000.0,\n",
       " 24000000.0]"
      ]
     },
     "execution_count": 24,
     "metadata": {},
     "output_type": "execute_result"
    }
   ],
   "source": [
    "list(df3.Price.describe())"
   ]
  },
  {
   "cell_type": "code",
   "execution_count": 25,
   "id": "a5fab1b8",
   "metadata": {},
   "outputs": [
    {
     "data": {
      "image/png": "[encoded data removed]",
      "text/plain": [
       "<Figure size 288x288 with 1 Axes>"
      ]
     },
     "metadata": {
      "needs_background": "light"
     },
     "output_type": "display_data"
    }
   ],
   "source": [
    "plt.hist(df3.Price, rwidth=0.8, log=True)\n",
    "plt.show()"
   ]
  },
  {
   "cell_type": "code",
   "execution_count": 26,
   "id": "ac0bbbed",
   "metadata": {},
   "outputs": [
    {
     "data": {
      "image/png": "[encoded data removed]",
      "text/plain": [
       "<Figure size 288x288 with 1 Axes>"
      ]
     },
     "metadata": {
      "needs_background": "light"
     },
     "output_type": "display_data"
    }
   ],
   "source": [
    "plt.hist(df3.bedroom, rwidth=0.8)\n",
    "plt.rcParams['figure.figsize'] = (6, 6)"
   ]
  },
  {
   "cell_type": "markdown",
   "id": "98faf1b5",
   "metadata": {},
   "source": [
    "<h2 style='color: blue'>Bedroom Outlier Remover</h2>\n",
    "<h3 style='color: purple'>Removing rows with no. of bedroom higher then 7 bedrooms</h3>"
   ]
  },
  {
   "cell_type": "code",
   "execution_count": 27,
   "id": "2a3700c1",
   "metadata": {},
   "outputs": [
    {
     "name": "stdout",
     "output_type": "stream",
     "text": [
      "(27, 4)\n"
     ]
    },
    {
     "data": {
      "text/html": [
       "<div>\n",
       "<style scoped>\n",
       "    .dataframe tbody tr th:only-of-type {\n",
       "        vertical-align: middle;\n",
       "    }\n",
       "\n",
       "    .dataframe tbody tr th {\n",
       "        vertical-align: top;\n",
       "    }\n",
       "\n",
       "    .dataframe thead th {\n",
       "        text-align: right;\n",
       "    }\n",
       "</style>\n",
       "<table border=\"1\" class=\"dataframe\">\n",
       "  <thead>\n",
       "    <tr style=\"text-align: right;\">\n",
       "      <th></th>\n",
       "      <th>Price</th>\n",
       "      <th>Property_name</th>\n",
       "      <th>Neighboorhood</th>\n",
       "      <th>bedroom</th>\n",
       "    </tr>\n",
       "  </thead>\n",
       "  <tbody>\n",
       "    <tr>\n",
       "      <th>0</th>\n",
       "      <td>300000</td>\n",
       "      <td>3 bedroom Flat / Apartment for rent Ekoro Abul...</td>\n",
       "      <td>Abule-Egba</td>\n",
       "      <td>3</td>\n",
       "    </tr>\n",
       "    <tr>\n",
       "      <th>1</th>\n",
       "      <td>400000</td>\n",
       "      <td>3 bedroom Duplex for rent Alagbado Abule Egba ...</td>\n",
       "      <td>Abule-Egba</td>\n",
       "      <td>3</td>\n",
       "    </tr>\n",
       "    <tr>\n",
       "      <th>2</th>\n",
       "      <td>500000</td>\n",
       "      <td>3 bedroom Flat / Apartment for rent Social clu...</td>\n",
       "      <td>Abule-Egba</td>\n",
       "      <td>3</td>\n",
       "    </tr>\n",
       "    <tr>\n",
       "      <th>3</th>\n",
       "      <td>300000</td>\n",
       "      <td>2 bedroom Flat / Apartment for rent Olaniyi Ar...</td>\n",
       "      <td>Abule-Egba</td>\n",
       "      <td>2</td>\n",
       "    </tr>\n",
       "    <tr>\n",
       "      <th>4</th>\n",
       "      <td>400000</td>\n",
       "      <td>3 bedroom Flat / Apartment for rent Olaniyi Ar...</td>\n",
       "      <td>Abule-Egba</td>\n",
       "      <td>3</td>\n",
       "    </tr>\n",
       "  </tbody>\n",
       "</table>\n",
       "</div>"
      ],
      "text/plain": [
       "    Price                                      Property_name Neighboorhood  \\\n",
       "0  300000  3 bedroom Flat / Apartment for rent Ekoro Abul...    Abule-Egba   \n",
       "1  400000  3 bedroom Duplex for rent Alagbado Abule Egba ...    Abule-Egba   \n",
       "2  500000  3 bedroom Flat / Apartment for rent Social clu...    Abule-Egba   \n",
       "3  300000  2 bedroom Flat / Apartment for rent Olaniyi Ar...    Abule-Egba   \n",
       "4  400000  3 bedroom Flat / Apartment for rent Olaniyi Ar...    Abule-Egba   \n",
       "\n",
       "   bedroom  \n",
       "0        3  \n",
       "1        3  \n",
       "2        3  \n",
       "3        2  \n",
       "4        3  "
      ]
     },
     "execution_count": 27,
     "metadata": {},
     "output_type": "execute_result"
    }
   ],
   "source": [
    "print(df3[df3.bedroom >= 8].shape)\n",
    "df4 = df3[df3.bedroom < 8]\n",
    "df4.head()"
   ]
  },
  {
   "cell_type": "code",
   "execution_count": 28,
   "id": "ed59c5e2",
   "metadata": {},
   "outputs": [
    {
     "data": {
      "text/plain": [
       "(array([1032., 1689.,    0., 3760.,    0., 1035.,  445.,    0.,   40.,\n",
       "          22.]),\n",
       " array([1. , 1.6, 2.2, 2.8, 3.4, 4. , 4.6, 5.2, 5.8, 6.4, 7. ]),\n",
       " <BarContainer object of 10 artists>)"
      ]
     },
     "execution_count": 28,
     "metadata": {},
     "output_type": "execute_result"
    },
    {
     "data": {
      "image/png": "[encoded data removed]",
      "text/plain": [
       "<Figure size 432x432 with 1 Axes>"
      ]
     },
     "metadata": {
      "needs_background": "light"
     },
     "output_type": "display_data"
    }
   ],
   "source": [
    "plt.hist(df4.bedroom, rwidth=0.5)"
   ]
  },
  {
   "cell_type": "code",
   "execution_count": 29,
   "id": "f4ffefca",
   "metadata": {},
   "outputs": [
    {
     "data": {
      "text/plain": [
       "Lekki           1558\n",
       "Yaba             817\n",
       "Ikeja            624\n",
       "Ojo              506\n",
       "Surulere         501\n",
       "Ikoyi            411\n",
       "Ajah             408\n",
       "Gbagada          358\n",
       "VI               355\n",
       "Ogba             237\n",
       "Ipaja            236\n",
       "Okota            199\n",
       "Isolo            192\n",
       "Kosofe           186\n",
       "Shomolu          180\n",
       "Sangotedo        157\n",
       "Maryland         149\n",
       "Ogudu            144\n",
       "Ikorodu          136\n",
       "Alimosho         104\n",
       "Amuwo-Odofin      97\n",
       "Alapere           84\n",
       "Abule-Egba        71\n",
       "Oshodi            50\n",
       "Ilupeju           50\n",
       "Igando            35\n",
       "Bariga            34\n",
       "Agege             33\n",
       "Ibeju-Lekki       21\n",
       "Apapa             20\n",
       "Ikosi             16\n",
       "Badagry           14\n",
       "Mushin            11\n",
       "Idimu             11\n",
       "Orile              7\n",
       "VGC                4\n",
       "Ejigbo             3\n",
       "Lagos-Island       2\n",
       "Ifako-Ijaiye       2\n",
       "Name: Neighboorhood, dtype: int64"
      ]
     },
     "execution_count": 29,
     "metadata": {},
     "output_type": "execute_result"
    }
   ],
   "source": [
    "df4.Neighboorhood.value_counts()"
   ]
  },
  {
   "cell_type": "markdown",
   "id": "b829fa9c",
   "metadata": {},
   "source": [
    "<h2 style='color: blue'>Comparing Price of 2 bedroom & 3 bedroom in same Neighboorhood</h2>"
   ]
  },
  {
   "cell_type": "code",
   "execution_count": 30,
   "id": "dbe60788",
   "metadata": {},
   "outputs": [
    {
     "data": {
      "image/png": "[encoded data removed]",
      "text/plain": [
       "<Figure size 1080x720 with 1 Axes>"
      ]
     },
     "metadata": {
      "needs_background": "light"
     },
     "output_type": "display_data"
    }
   ],
   "source": [
    "def plot_scatter_plot(df, location):\n",
    "    bedroom2 = df[(df.Neighboorhood == location) & (df.bedroom == 2)]\n",
    "    bedroom3 = df[(df.Neighboorhood == location) & (df.bedroom == 3)]\n",
    "    plt.rcParams['figure.figsize'] = (15, 10)\n",
    "    plt.scatter(bedroom2.bedroom, bedroom2.Price, color='blue', label='2 Bedroom', s=50)\n",
    "    plt.scatter(bedroom3.bedroom, bedroom3.Price, color='red', marker='+', label='2 Bedroom', s=50) \n",
    "    plt.xlabel('No. of Bedroom')\n",
    "    plt.ylabel('Price')\n",
    "    plt.title(location)\n",
    "    plt.legend()\n",
    "    \n",
    "\n",
    "plot_scatter_plot(df4, 'Lekki')    "
   ]
  },
  {
   "cell_type": "code",
   "execution_count": 31,
   "id": "9db379a9",
   "metadata": {},
   "outputs": [
    {
     "data": {
      "text/plain": [
       "(6452, 4)"
      ]
     },
     "execution_count": 31,
     "metadata": {},
     "output_type": "execute_result"
    }
   ],
   "source": [
    "def bedroom_outlier_remover(df):\n",
    "    exclude_indices = np.array([])\n",
    "    for location, location_df in df.groupby('Neighboorhood'):\n",
    "        bedroom_stats = {}\n",
    "        for br, br_df in location_df.groupby('bedroom'):\n",
    "            bedroom_stats[br] = {\n",
    "                'mean': np.mean(br_df.Price),\n",
    "                'std': np.std(br_df.Price),\n",
    "                'count': br_df.shape[0]\n",
    "            }\n",
    "        for br, br_df in location_df.groupby('bedroom'):\n",
    "            stats = bedroom_stats.get(br-1)\n",
    "            if stats and stats['count'] > 5:\n",
    "                exclude_indices = np.append(exclude_indices, br_df[br_df.Price<(stats['mean'])].index.values)\n",
    "    return df.drop(exclude_indices, axis='index')\n",
    "    \n",
    "df5 = bedroom_outlier_remover(df4)\n",
    "df5.shape"
   ]
  },
  {
   "cell_type": "code",
   "execution_count": 32,
   "id": "9935aed5",
   "metadata": {},
   "outputs": [
    {
     "data": {
      "text/plain": [
       "1571"
      ]
     },
     "execution_count": 32,
     "metadata": {},
     "output_type": "execute_result"
    }
   ],
   "source": [
    "df4.shape[0]-df5.shape[0]"
   ]
  },
  {
   "cell_type": "code",
   "execution_count": 33,
   "id": "07b4ce0f",
   "metadata": {},
   "outputs": [
    {
     "data": {
      "image/png": "[encoded data removed]",
      "text/plain": [
       "<Figure size 1080x720 with 1 Axes>"
      ]
     },
     "metadata": {
      "needs_background": "light"
     },
     "output_type": "display_data"
    }
   ],
   "source": [
    "plot_scatter_plot(df5, 'Lekki')    "
   ]
  },
  {
   "cell_type": "code",
   "execution_count": 34,
   "id": "cbacc3ec",
   "metadata": {},
   "outputs": [
    {
     "data": {
      "image/png": "[encoded data removed]",
      "text/plain": [
       "<Figure size 1080x720 with 1 Axes>"
      ]
     },
     "metadata": {
      "needs_background": "light"
     },
     "output_type": "display_data"
    }
   ],
   "source": [
    "plt.hist(df5.Price, rwidth=0.8)\n",
    "plt.xlabel('Price')\n",
    "plt.ylabel('Count')\n",
    "plt.show()"
   ]
  },
  {
   "cell_type": "code",
   "execution_count": 35,
   "id": "232d63b9",
   "metadata": {},
   "outputs": [
    {
     "data": {
      "text/html": [
       "<div>\n",
       "<style scoped>\n",
       "    .dataframe tbody tr th:only-of-type {\n",
       "        vertical-align: middle;\n",
       "    }\n",
       "\n",
       "    .dataframe tbody tr th {\n",
       "        vertical-align: top;\n",
       "    }\n",
       "\n",
       "    .dataframe thead th {\n",
       "        text-align: right;\n",
       "    }\n",
       "</style>\n",
       "<table border=\"1\" class=\"dataframe\">\n",
       "  <thead>\n",
       "    <tr style=\"text-align: right;\">\n",
       "      <th></th>\n",
       "      <th>Price</th>\n",
       "      <th>Neighboorhood</th>\n",
       "      <th>bedroom</th>\n",
       "    </tr>\n",
       "  </thead>\n",
       "  <tbody>\n",
       "    <tr>\n",
       "      <th>1</th>\n",
       "      <td>400000</td>\n",
       "      <td>Abule-Egba</td>\n",
       "      <td>3</td>\n",
       "    </tr>\n",
       "    <tr>\n",
       "      <th>2</th>\n",
       "      <td>500000</td>\n",
       "      <td>Abule-Egba</td>\n",
       "      <td>3</td>\n",
       "    </tr>\n",
       "    <tr>\n",
       "      <th>3</th>\n",
       "      <td>300000</td>\n",
       "      <td>Abule-Egba</td>\n",
       "      <td>2</td>\n",
       "    </tr>\n",
       "    <tr>\n",
       "      <th>4</th>\n",
       "      <td>400000</td>\n",
       "      <td>Abule-Egba</td>\n",
       "      <td>3</td>\n",
       "    </tr>\n",
       "    <tr>\n",
       "      <th>6</th>\n",
       "      <td>350000</td>\n",
       "      <td>Abule-Egba</td>\n",
       "      <td>2</td>\n",
       "    </tr>\n",
       "  </tbody>\n",
       "</table>\n",
       "</div>"
      ],
      "text/plain": [
       "    Price Neighboorhood  bedroom\n",
       "1  400000    Abule-Egba        3\n",
       "2  500000    Abule-Egba        3\n",
       "3  300000    Abule-Egba        2\n",
       "4  400000    Abule-Egba        3\n",
       "6  350000    Abule-Egba        2"
      ]
     },
     "execution_count": 35,
     "metadata": {},
     "output_type": "execute_result"
    }
   ],
   "source": [
    "df6 = df5.drop('Property_name', axis='columns')\n",
    "df6.head()"
   ]
  },
  {
   "cell_type": "code",
   "execution_count": 36,
   "id": "4c069168",
   "metadata": {},
   "outputs": [
    {
     "data": {
      "text/html": [
       "<div>\n",
       "<style scoped>\n",
       "    .dataframe tbody tr th:only-of-type {\n",
       "        vertical-align: middle;\n",
       "    }\n",
       "\n",
       "    .dataframe tbody tr th {\n",
       "        vertical-align: top;\n",
       "    }\n",
       "\n",
       "    .dataframe thead th {\n",
       "        text-align: right;\n",
       "    }\n",
       "</style>\n",
       "<table border=\"1\" class=\"dataframe\">\n",
       "  <thead>\n",
       "    <tr style=\"text-align: right;\">\n",
       "      <th></th>\n",
       "      <th>Abule-Egba</th>\n",
       "      <th>Agege</th>\n",
       "      <th>Ajah</th>\n",
       "      <th>Alapere</th>\n",
       "      <th>Alimosho</th>\n",
       "      <th>Amuwo-Odofin</th>\n",
       "      <th>Apapa</th>\n",
       "      <th>Badagry</th>\n",
       "      <th>Bariga</th>\n",
       "      <th>Ejigbo</th>\n",
       "      <th>...</th>\n",
       "      <th>Ojo</th>\n",
       "      <th>Okota</th>\n",
       "      <th>Orile</th>\n",
       "      <th>Oshodi</th>\n",
       "      <th>Sangotedo</th>\n",
       "      <th>Shomolu</th>\n",
       "      <th>Surulere</th>\n",
       "      <th>VGC</th>\n",
       "      <th>VI</th>\n",
       "      <th>Yaba</th>\n",
       "    </tr>\n",
       "  </thead>\n",
       "  <tbody>\n",
       "    <tr>\n",
       "      <th>1</th>\n",
       "      <td>1</td>\n",
       "      <td>0</td>\n",
       "      <td>0</td>\n",
       "      <td>0</td>\n",
       "      <td>0</td>\n",
       "      <td>0</td>\n",
       "      <td>0</td>\n",
       "      <td>0</td>\n",
       "      <td>0</td>\n",
       "      <td>0</td>\n",
       "      <td>...</td>\n",
       "      <td>0</td>\n",
       "      <td>0</td>\n",
       "      <td>0</td>\n",
       "      <td>0</td>\n",
       "      <td>0</td>\n",
       "      <td>0</td>\n",
       "      <td>0</td>\n",
       "      <td>0</td>\n",
       "      <td>0</td>\n",
       "      <td>0</td>\n",
       "    </tr>\n",
       "    <tr>\n",
       "      <th>2</th>\n",
       "      <td>1</td>\n",
       "      <td>0</td>\n",
       "      <td>0</td>\n",
       "      <td>0</td>\n",
       "      <td>0</td>\n",
       "      <td>0</td>\n",
       "      <td>0</td>\n",
       "      <td>0</td>\n",
       "      <td>0</td>\n",
       "      <td>0</td>\n",
       "      <td>...</td>\n",
       "      <td>0</td>\n",
       "      <td>0</td>\n",
       "      <td>0</td>\n",
       "      <td>0</td>\n",
       "      <td>0</td>\n",
       "      <td>0</td>\n",
       "      <td>0</td>\n",
       "      <td>0</td>\n",
       "      <td>0</td>\n",
       "      <td>0</td>\n",
       "    </tr>\n",
       "    <tr>\n",
       "      <th>3</th>\n",
       "      <td>1</td>\n",
       "      <td>0</td>\n",
       "      <td>0</td>\n",
       "      <td>0</td>\n",
       "      <td>0</td>\n",
       "      <td>0</td>\n",
       "      <td>0</td>\n",
       "      <td>0</td>\n",
       "      <td>0</td>\n",
       "      <td>0</td>\n",
       "      <td>...</td>\n",
       "      <td>0</td>\n",
       "      <td>0</td>\n",
       "      <td>0</td>\n",
       "      <td>0</td>\n",
       "      <td>0</td>\n",
       "      <td>0</td>\n",
       "      <td>0</td>\n",
       "      <td>0</td>\n",
       "      <td>0</td>\n",
       "      <td>0</td>\n",
       "    </tr>\n",
       "  </tbody>\n",
       "</table>\n",
       "<p>3 rows × 39 columns</p>\n",
       "</div>"
      ],
      "text/plain": [
       "   Abule-Egba  Agege  Ajah  Alapere  Alimosho  Amuwo-Odofin  Apapa  Badagry  \\\n",
       "1           1      0     0        0         0             0      0        0   \n",
       "2           1      0     0        0         0             0      0        0   \n",
       "3           1      0     0        0         0             0      0        0   \n",
       "\n",
       "   Bariga  Ejigbo  ...  Ojo  Okota  Orile  Oshodi  Sangotedo  Shomolu  \\\n",
       "1       0       0  ...    0      0      0       0          0        0   \n",
       "2       0       0  ...    0      0      0       0          0        0   \n",
       "3       0       0  ...    0      0      0       0          0        0   \n",
       "\n",
       "   Surulere  VGC  VI  Yaba  \n",
       "1         0    0   0     0  \n",
       "2         0    0   0     0  \n",
       "3         0    0   0     0  \n",
       "\n",
       "[3 rows x 39 columns]"
      ]
     },
     "execution_count": 36,
     "metadata": {},
     "output_type": "execute_result"
    }
   ],
   "source": [
    "dummies = pd.get_dummies(df6.Neighboorhood)\n",
    "dummies.head(3)"
   ]
  },
  {
   "cell_type": "code",
   "execution_count": 37,
   "id": "020d24b4",
   "metadata": {},
   "outputs": [
    {
     "data": {
      "text/html": [
       "<div>\n",
       "<style scoped>\n",
       "    .dataframe tbody tr th:only-of-type {\n",
       "        vertical-align: middle;\n",
       "    }\n",
       "\n",
       "    .dataframe tbody tr th {\n",
       "        vertical-align: top;\n",
       "    }\n",
       "\n",
       "    .dataframe thead th {\n",
       "        text-align: right;\n",
       "    }\n",
       "</style>\n",
       "<table border=\"1\" class=\"dataframe\">\n",
       "  <thead>\n",
       "    <tr style=\"text-align: right;\">\n",
       "      <th></th>\n",
       "      <th>Price</th>\n",
       "      <th>Neighboorhood</th>\n",
       "      <th>bedroom</th>\n",
       "      <th>Abule-Egba</th>\n",
       "      <th>Agege</th>\n",
       "      <th>Ajah</th>\n",
       "      <th>Alapere</th>\n",
       "      <th>Alimosho</th>\n",
       "      <th>Amuwo-Odofin</th>\n",
       "      <th>Apapa</th>\n",
       "      <th>...</th>\n",
       "      <th>Ojo</th>\n",
       "      <th>Okota</th>\n",
       "      <th>Orile</th>\n",
       "      <th>Oshodi</th>\n",
       "      <th>Sangotedo</th>\n",
       "      <th>Shomolu</th>\n",
       "      <th>Surulere</th>\n",
       "      <th>VGC</th>\n",
       "      <th>VI</th>\n",
       "      <th>Yaba</th>\n",
       "    </tr>\n",
       "  </thead>\n",
       "  <tbody>\n",
       "    <tr>\n",
       "      <th>1</th>\n",
       "      <td>400000</td>\n",
       "      <td>Abule-Egba</td>\n",
       "      <td>3</td>\n",
       "      <td>1</td>\n",
       "      <td>0</td>\n",
       "      <td>0</td>\n",
       "      <td>0</td>\n",
       "      <td>0</td>\n",
       "      <td>0</td>\n",
       "      <td>0</td>\n",
       "      <td>...</td>\n",
       "      <td>0</td>\n",
       "      <td>0</td>\n",
       "      <td>0</td>\n",
       "      <td>0</td>\n",
       "      <td>0</td>\n",
       "      <td>0</td>\n",
       "      <td>0</td>\n",
       "      <td>0</td>\n",
       "      <td>0</td>\n",
       "      <td>0</td>\n",
       "    </tr>\n",
       "    <tr>\n",
       "      <th>2</th>\n",
       "      <td>500000</td>\n",
       "      <td>Abule-Egba</td>\n",
       "      <td>3</td>\n",
       "      <td>1</td>\n",
       "      <td>0</td>\n",
       "      <td>0</td>\n",
       "      <td>0</td>\n",
       "      <td>0</td>\n",
       "      <td>0</td>\n",
       "      <td>0</td>\n",
       "      <td>...</td>\n",
       "      <td>0</td>\n",
       "      <td>0</td>\n",
       "      <td>0</td>\n",
       "      <td>0</td>\n",
       "      <td>0</td>\n",
       "      <td>0</td>\n",
       "      <td>0</td>\n",
       "      <td>0</td>\n",
       "      <td>0</td>\n",
       "      <td>0</td>\n",
       "    </tr>\n",
       "    <tr>\n",
       "      <th>3</th>\n",
       "      <td>300000</td>\n",
       "      <td>Abule-Egba</td>\n",
       "      <td>2</td>\n",
       "      <td>1</td>\n",
       "      <td>0</td>\n",
       "      <td>0</td>\n",
       "      <td>0</td>\n",
       "      <td>0</td>\n",
       "      <td>0</td>\n",
       "      <td>0</td>\n",
       "      <td>...</td>\n",
       "      <td>0</td>\n",
       "      <td>0</td>\n",
       "      <td>0</td>\n",
       "      <td>0</td>\n",
       "      <td>0</td>\n",
       "      <td>0</td>\n",
       "      <td>0</td>\n",
       "      <td>0</td>\n",
       "      <td>0</td>\n",
       "      <td>0</td>\n",
       "    </tr>\n",
       "  </tbody>\n",
       "</table>\n",
       "<p>3 rows × 42 columns</p>\n",
       "</div>"
      ],
      "text/plain": [
       "    Price Neighboorhood  bedroom  Abule-Egba  Agege  Ajah  Alapere  Alimosho  \\\n",
       "1  400000    Abule-Egba        3           1      0     0        0         0   \n",
       "2  500000    Abule-Egba        3           1      0     0        0         0   \n",
       "3  300000    Abule-Egba        2           1      0     0        0         0   \n",
       "\n",
       "   Amuwo-Odofin  Apapa  ...  Ojo  Okota  Orile  Oshodi  Sangotedo  Shomolu  \\\n",
       "1             0      0  ...    0      0      0       0          0        0   \n",
       "2             0      0  ...    0      0      0       0          0        0   \n",
       "3             0      0  ...    0      0      0       0          0        0   \n",
       "\n",
       "   Surulere  VGC  VI  Yaba  \n",
       "1         0    0   0     0  \n",
       "2         0    0   0     0  \n",
       "3         0    0   0     0  \n",
       "\n",
       "[3 rows x 42 columns]"
      ]
     },
     "execution_count": 37,
     "metadata": {},
     "output_type": "execute_result"
    }
   ],
   "source": [
    "df7 = pd.concat([df6, dummies], axis='columns')\n",
    "df7.head(3)"
   ]
  },
  {
   "cell_type": "code",
   "execution_count": 38,
   "id": "9ebc8d51",
   "metadata": {},
   "outputs": [
    {
     "data": {
      "text/html": [
       "<div>\n",
       "<style scoped>\n",
       "    .dataframe tbody tr th:only-of-type {\n",
       "        vertical-align: middle;\n",
       "    }\n",
       "\n",
       "    .dataframe tbody tr th {\n",
       "        vertical-align: top;\n",
       "    }\n",
       "\n",
       "    .dataframe thead th {\n",
       "        text-align: right;\n",
       "    }\n",
       "</style>\n",
       "<table border=\"1\" class=\"dataframe\">\n",
       "  <thead>\n",
       "    <tr style=\"text-align: right;\">\n",
       "      <th></th>\n",
       "      <th>Price</th>\n",
       "      <th>bedroom</th>\n",
       "      <th>Abule-Egba</th>\n",
       "      <th>Agege</th>\n",
       "      <th>Ajah</th>\n",
       "      <th>Alapere</th>\n",
       "      <th>Alimosho</th>\n",
       "      <th>Amuwo-Odofin</th>\n",
       "      <th>Apapa</th>\n",
       "      <th>Badagry</th>\n",
       "      <th>...</th>\n",
       "      <th>Ogudu</th>\n",
       "      <th>Ojo</th>\n",
       "      <th>Okota</th>\n",
       "      <th>Orile</th>\n",
       "      <th>Oshodi</th>\n",
       "      <th>Sangotedo</th>\n",
       "      <th>Shomolu</th>\n",
       "      <th>Surulere</th>\n",
       "      <th>VGC</th>\n",
       "      <th>VI</th>\n",
       "    </tr>\n",
       "  </thead>\n",
       "  <tbody>\n",
       "    <tr>\n",
       "      <th>1</th>\n",
       "      <td>400000</td>\n",
       "      <td>3</td>\n",
       "      <td>1</td>\n",
       "      <td>0</td>\n",
       "      <td>0</td>\n",
       "      <td>0</td>\n",
       "      <td>0</td>\n",
       "      <td>0</td>\n",
       "      <td>0</td>\n",
       "      <td>0</td>\n",
       "      <td>...</td>\n",
       "      <td>0</td>\n",
       "      <td>0</td>\n",
       "      <td>0</td>\n",
       "      <td>0</td>\n",
       "      <td>0</td>\n",
       "      <td>0</td>\n",
       "      <td>0</td>\n",
       "      <td>0</td>\n",
       "      <td>0</td>\n",
       "      <td>0</td>\n",
       "    </tr>\n",
       "    <tr>\n",
       "      <th>2</th>\n",
       "      <td>500000</td>\n",
       "      <td>3</td>\n",
       "      <td>1</td>\n",
       "      <td>0</td>\n",
       "      <td>0</td>\n",
       "      <td>0</td>\n",
       "      <td>0</td>\n",
       "      <td>0</td>\n",
       "      <td>0</td>\n",
       "      <td>0</td>\n",
       "      <td>...</td>\n",
       "      <td>0</td>\n",
       "      <td>0</td>\n",
       "      <td>0</td>\n",
       "      <td>0</td>\n",
       "      <td>0</td>\n",
       "      <td>0</td>\n",
       "      <td>0</td>\n",
       "      <td>0</td>\n",
       "      <td>0</td>\n",
       "      <td>0</td>\n",
       "    </tr>\n",
       "    <tr>\n",
       "      <th>3</th>\n",
       "      <td>300000</td>\n",
       "      <td>2</td>\n",
       "      <td>1</td>\n",
       "      <td>0</td>\n",
       "      <td>0</td>\n",
       "      <td>0</td>\n",
       "      <td>0</td>\n",
       "      <td>0</td>\n",
       "      <td>0</td>\n",
       "      <td>0</td>\n",
       "      <td>...</td>\n",
       "      <td>0</td>\n",
       "      <td>0</td>\n",
       "      <td>0</td>\n",
       "      <td>0</td>\n",
       "      <td>0</td>\n",
       "      <td>0</td>\n",
       "      <td>0</td>\n",
       "      <td>0</td>\n",
       "      <td>0</td>\n",
       "      <td>0</td>\n",
       "    </tr>\n",
       "  </tbody>\n",
       "</table>\n",
       "<p>3 rows × 40 columns</p>\n",
       "</div>"
      ],
      "text/plain": [
       "    Price  bedroom  Abule-Egba  Agege  Ajah  Alapere  Alimosho  Amuwo-Odofin  \\\n",
       "1  400000        3           1      0     0        0         0             0   \n",
       "2  500000        3           1      0     0        0         0             0   \n",
       "3  300000        2           1      0     0        0         0             0   \n",
       "\n",
       "   Apapa  Badagry  ...  Ogudu  Ojo  Okota  Orile  Oshodi  Sangotedo  Shomolu  \\\n",
       "1      0        0  ...      0    0      0      0       0          0        0   \n",
       "2      0        0  ...      0    0      0      0       0          0        0   \n",
       "3      0        0  ...      0    0      0      0       0          0        0   \n",
       "\n",
       "   Surulere  VGC  VI  \n",
       "1         0    0   0  \n",
       "2         0    0   0  \n",
       "3         0    0   0  \n",
       "\n",
       "[3 rows x 40 columns]"
      ]
     },
     "execution_count": 38,
     "metadata": {},
     "output_type": "execute_result"
    }
   ],
   "source": [
    "df8 = df7.drop(['Neighboorhood', 'Yaba'], axis='columns')\n",
    "df8.head(3)"
   ]
  },
  {
   "cell_type": "code",
   "execution_count": 39,
   "id": "744ab4a0",
   "metadata": {},
   "outputs": [
    {
     "data": {
      "text/plain": [
       "array([[3, 1, 0, 0, 0, 0, 0, 0, 0, 0, 0, 0, 0, 0, 0, 0, 0, 0, 0, 0, 0, 0,\n",
       "        0, 0, 0, 0, 0, 0, 0, 0, 0, 0, 0, 0, 0, 0, 0, 0, 0]], dtype=int64)"
      ]
     },
     "execution_count": 39,
     "metadata": {},
     "output_type": "execute_result"
    }
   ],
   "source": [
    "x = df8.drop('Price', axis='columns').values\n",
    "x[:1]"
   ]
  },
  {
   "cell_type": "code",
   "execution_count": 40,
   "id": "2e8fab74",
   "metadata": {},
   "outputs": [
    {
     "data": {
      "text/plain": [
       "1    400000\n",
       "2    500000\n",
       "3    300000\n",
       "Name: Price, dtype: int64"
      ]
     },
     "execution_count": 40,
     "metadata": {},
     "output_type": "execute_result"
    }
   ],
   "source": [
    "y = df8.Price\n",
    "y.head(3)"
   ]
  },
  {
   "cell_type": "code",
   "execution_count": 41,
   "id": "0314ad1e",
   "metadata": {
    "scrolled": true
   },
   "outputs": [
    {
     "name": "stdout",
     "output_type": "stream",
     "text": [
      "6452 5161 1291\n"
     ]
    }
   ],
   "source": [
    "from sklearn.model_selection import train_test_split\n",
    "x_train, x_test, y_train, y_test = train_test_split(x, y, test_size=0.2, random_state=0)\n",
    "print(df8.shape[0], x_train.shape[0], x_test.shape[0])"
   ]
  },
  {
   "cell_type": "code",
   "execution_count": 42,
   "id": "6ce3380f",
   "metadata": {},
   "outputs": [
    {
     "data": {
      "text/plain": [
       "0.800936068155607"
      ]
     },
     "execution_count": 42,
     "metadata": {},
     "output_type": "execute_result"
    }
   ],
   "source": [
    "from sklearn.linear_model import LinearRegression\n",
    "model = LinearRegression()\n",
    "model.fit(x_train, y_train)\n",
    "model.score(x_test, y_test)"
   ]
  },
  {
   "cell_type": "markdown",
   "id": "5678f7b6",
   "metadata": {},
   "source": [
    "#### Use K Fold Cross Validation to check the accuracy of our LinearRegression model"
   ]
  },
  {
   "cell_type": "code",
   "execution_count": 43,
   "id": "6abd3445",
   "metadata": {},
   "outputs": [
    {
     "data": {
      "text/plain": [
       "array([0.80093607, 0.7847125 , 0.76282091, 0.81583831, 0.78901866])"
      ]
     },
     "execution_count": 43,
     "metadata": {},
     "output_type": "execute_result"
    }
   ],
   "source": [
    "from sklearn.model_selection import ShuffleSplit\n",
    "from sklearn.model_selection import cross_val_score\n",
    "\n",
    "cv = ShuffleSplit(n_splits=5, test_size=0.2, random_state=0)\n",
    "cross_val_score(LinearRegression(), x, y, cv=cv)"
   ]
  },
  {
   "cell_type": "markdown",
   "id": "240a2a2e",
   "metadata": {},
   "source": [
    "### Find the best model using GridSeachCV"
   ]
  },
  {
   "cell_type": "code",
   "execution_count": 44,
   "id": "d290ac7f",
   "metadata": {
    "scrolled": false
   },
   "outputs": [
    {
     "name": "stderr",
     "output_type": "stream",
     "text": [
      "C:\\Users\\CELESTINE TYJC\\anaconda3\\lib\\site-packages\\sklearn\\linear_model\\_base.py:141: FutureWarning: 'normalize' was deprecated in version 1.0 and will be removed in 1.2.\n",
      "If you wish to scale the data, use Pipeline with a StandardScaler in a preprocessing stage. To reproduce the previous behavior:\n",
      "\n",
      "from sklearn.pipeline import make_pipeline\n",
      "\n",
      "model = make_pipeline(StandardScaler(with_mean=False), LinearRegression())\n",
      "\n",
      "If you wish to pass a sample_weight parameter, you need to pass it as a fit parameter to each step of the pipeline as follows:\n",
      "\n",
      "kwargs = {s[0] + '__sample_weight': sample_weight for s in model.steps}\n",
      "model.fit(X, y, **kwargs)\n",
      "\n",
      "\n",
      "  warnings.warn(\n",
      "C:\\Users\\CELESTINE TYJC\\anaconda3\\lib\\site-packages\\sklearn\\linear_model\\_base.py:141: FutureWarning: 'normalize' was deprecated in version 1.0 and will be removed in 1.2.\n",
      "If you wish to scale the data, use Pipeline with a StandardScaler in a preprocessing stage. To reproduce the previous behavior:\n",
      "\n",
      "from sklearn.pipeline import make_pipeline\n",
      "\n",
      "model = make_pipeline(StandardScaler(with_mean=False), LinearRegression())\n",
      "\n",
      "If you wish to pass a sample_weight parameter, you need to pass it as a fit parameter to each step of the pipeline as follows:\n",
      "\n",
      "kwargs = {s[0] + '__sample_weight': sample_weight for s in model.steps}\n",
      "model.fit(X, y, **kwargs)\n",
      "\n",
      "\n",
      "  warnings.warn(\n",
      "C:\\Users\\CELESTINE TYJC\\anaconda3\\lib\\site-packages\\sklearn\\linear_model\\_base.py:141: FutureWarning: 'normalize' was deprecated in version 1.0 and will be removed in 1.2.\n",
      "If you wish to scale the data, use Pipeline with a StandardScaler in a preprocessing stage. To reproduce the previous behavior:\n",
      "\n",
      "from sklearn.pipeline import make_pipeline\n",
      "\n",
      "model = make_pipeline(StandardScaler(with_mean=False), LinearRegression())\n",
      "\n",
      "If you wish to pass a sample_weight parameter, you need to pass it as a fit parameter to each step of the pipeline as follows:\n",
      "\n",
      "kwargs = {s[0] + '__sample_weight': sample_weight for s in model.steps}\n",
      "model.fit(X, y, **kwargs)\n",
      "\n",
      "\n",
      "  warnings.warn(\n",
      "C:\\Users\\CELESTINE TYJC\\anaconda3\\lib\\site-packages\\sklearn\\linear_model\\_base.py:141: FutureWarning: 'normalize' was deprecated in version 1.0 and will be removed in 1.2.\n",
      "If you wish to scale the data, use Pipeline with a StandardScaler in a preprocessing stage. To reproduce the previous behavior:\n",
      "\n",
      "from sklearn.pipeline import make_pipeline\n",
      "\n",
      "model = make_pipeline(StandardScaler(with_mean=False), LinearRegression())\n",
      "\n",
      "If you wish to pass a sample_weight parameter, you need to pass it as a fit parameter to each step of the pipeline as follows:\n",
      "\n",
      "kwargs = {s[0] + '__sample_weight': sample_weight for s in model.steps}\n",
      "model.fit(X, y, **kwargs)\n",
      "\n",
      "\n",
      "  warnings.warn(\n",
      "C:\\Users\\CELESTINE TYJC\\anaconda3\\lib\\site-packages\\sklearn\\linear_model\\_base.py:141: FutureWarning: 'normalize' was deprecated in version 1.0 and will be removed in 1.2.\n",
      "If you wish to scale the data, use Pipeline with a StandardScaler in a preprocessing stage. To reproduce the previous behavior:\n",
      "\n",
      "from sklearn.pipeline import make_pipeline\n",
      "\n",
      "model = make_pipeline(StandardScaler(with_mean=False), LinearRegression())\n",
      "\n",
      "If you wish to pass a sample_weight parameter, you need to pass it as a fit parameter to each step of the pipeline as follows:\n",
      "\n",
      "kwargs = {s[0] + '__sample_weight': sample_weight for s in model.steps}\n",
      "model.fit(X, y, **kwargs)\n",
      "\n",
      "\n",
      "  warnings.warn(\n",
      "C:\\Users\\CELESTINE TYJC\\anaconda3\\lib\\site-packages\\sklearn\\linear_model\\_base.py:148: FutureWarning: 'normalize' was deprecated in version 1.0 and will be removed in 1.2. Please leave the normalize parameter to its default value to silence this warning. The default behavior of this estimator is to not do any normalization. If normalization is needed please use sklearn.preprocessing.StandardScaler instead.\n",
      "  warnings.warn(\n",
      "C:\\Users\\CELESTINE TYJC\\anaconda3\\lib\\site-packages\\sklearn\\linear_model\\_base.py:148: FutureWarning: 'normalize' was deprecated in version 1.0 and will be removed in 1.2. Please leave the normalize parameter to its default value to silence this warning. The default behavior of this estimator is to not do any normalization. If normalization is needed please use sklearn.preprocessing.StandardScaler instead.\n",
      "  warnings.warn(\n",
      "C:\\Users\\CELESTINE TYJC\\anaconda3\\lib\\site-packages\\sklearn\\linear_model\\_base.py:148: FutureWarning: 'normalize' was deprecated in version 1.0 and will be removed in 1.2. Please leave the normalize parameter to its default value to silence this warning. The default behavior of this estimator is to not do any normalization. If normalization is needed please use sklearn.preprocessing.StandardScaler instead.\n",
      "  warnings.warn(\n",
      "C:\\Users\\CELESTINE TYJC\\anaconda3\\lib\\site-packages\\sklearn\\linear_model\\_base.py:148: FutureWarning: 'normalize' was deprecated in version 1.0 and will be removed in 1.2. Please leave the normalize parameter to its default value to silence this warning. The default behavior of this estimator is to not do any normalization. If normalization is needed please use sklearn.preprocessing.StandardScaler instead.\n",
      "  warnings.warn(\n",
      "C:\\Users\\CELESTINE TYJC\\anaconda3\\lib\\site-packages\\sklearn\\linear_model\\_base.py:148: FutureWarning: 'normalize' was deprecated in version 1.0 and will be removed in 1.2. Please leave the normalize parameter to its default value to silence this warning. The default behavior of this estimator is to not do any normalization. If normalization is needed please use sklearn.preprocessing.StandardScaler instead.\n",
      "  warnings.warn(\n",
      "C:\\Users\\CELESTINE TYJC\\anaconda3\\lib\\site-packages\\sklearn\\linear_model\\_base.py:141: FutureWarning: 'normalize' was deprecated in version 1.0 and will be removed in 1.2.\n",
      "If you wish to scale the data, use Pipeline with a StandardScaler in a preprocessing stage. To reproduce the previous behavior:\n",
      "\n",
      "from sklearn.pipeline import make_pipeline\n",
      "\n",
      "model = make_pipeline(StandardScaler(with_mean=False), LinearRegression())\n",
      "\n",
      "If you wish to pass a sample_weight parameter, you need to pass it as a fit parameter to each step of the pipeline as follows:\n",
      "\n",
      "kwargs = {s[0] + '__sample_weight': sample_weight for s in model.steps}\n",
      "model.fit(X, y, **kwargs)\n",
      "\n",
      "\n",
      "  warnings.warn(\n",
      "C:\\Users\\CELESTINE TYJC\\anaconda3\\lib\\site-packages\\sklearn\\tree\\_classes.py:359: FutureWarning: Criterion 'mse' was deprecated in v1.0 and will be removed in version 1.2. Use `criterion='squared_error'` which is equivalent.\n",
      "  warnings.warn(\n",
      "C:\\Users\\CELESTINE TYJC\\anaconda3\\lib\\site-packages\\sklearn\\tree\\_classes.py:359: FutureWarning: Criterion 'mse' was deprecated in v1.0 and will be removed in version 1.2. Use `criterion='squared_error'` which is equivalent.\n",
      "  warnings.warn(\n",
      "C:\\Users\\CELESTINE TYJC\\anaconda3\\lib\\site-packages\\sklearn\\tree\\_classes.py:359: FutureWarning: Criterion 'mse' was deprecated in v1.0 and will be removed in version 1.2. Use `criterion='squared_error'` which is equivalent.\n",
      "  warnings.warn(\n",
      "C:\\Users\\CELESTINE TYJC\\anaconda3\\lib\\site-packages\\sklearn\\tree\\_classes.py:359: FutureWarning: Criterion 'mse' was deprecated in v1.0 and will be removed in version 1.2. Use `criterion='squared_error'` which is equivalent.\n",
      "  warnings.warn(\n",
      "C:\\Users\\CELESTINE TYJC\\anaconda3\\lib\\site-packages\\sklearn\\tree\\_classes.py:359: FutureWarning: Criterion 'mse' was deprecated in v1.0 and will be removed in version 1.2. Use `criterion='squared_error'` which is equivalent.\n",
      "  warnings.warn(\n",
      "C:\\Users\\CELESTINE TYJC\\anaconda3\\lib\\site-packages\\sklearn\\tree\\_classes.py:359: FutureWarning: Criterion 'mse' was deprecated in v1.0 and will be removed in version 1.2. Use `criterion='squared_error'` which is equivalent.\n",
      "  warnings.warn(\n",
      "C:\\Users\\CELESTINE TYJC\\anaconda3\\lib\\site-packages\\sklearn\\tree\\_classes.py:359: FutureWarning: Criterion 'mse' was deprecated in v1.0 and will be removed in version 1.2. Use `criterion='squared_error'` which is equivalent.\n",
      "  warnings.warn(\n",
      "C:\\Users\\CELESTINE TYJC\\anaconda3\\lib\\site-packages\\sklearn\\tree\\_classes.py:359: FutureWarning: Criterion 'mse' was deprecated in v1.0 and will be removed in version 1.2. Use `criterion='squared_error'` which is equivalent.\n",
      "  warnings.warn(\n",
      "C:\\Users\\CELESTINE TYJC\\anaconda3\\lib\\site-packages\\sklearn\\tree\\_classes.py:359: FutureWarning: Criterion 'mse' was deprecated in v1.0 and will be removed in version 1.2. Use `criterion='squared_error'` which is equivalent.\n",
      "  warnings.warn(\n",
      "C:\\Users\\CELESTINE TYJC\\anaconda3\\lib\\site-packages\\sklearn\\tree\\_classes.py:359: FutureWarning: Criterion 'mse' was deprecated in v1.0 and will be removed in version 1.2. Use `criterion='squared_error'` which is equivalent.\n",
      "  warnings.warn(\n"
     ]
    },
    {
     "data": {
      "text/html": [
       "<div>\n",
       "<style scoped>\n",
       "    .dataframe tbody tr th:only-of-type {\n",
       "        vertical-align: middle;\n",
       "    }\n",
       "\n",
       "    .dataframe tbody tr th {\n",
       "        vertical-align: top;\n",
       "    }\n",
       "\n",
       "    .dataframe thead th {\n",
       "        text-align: right;\n",
       "    }\n",
       "</style>\n",
       "<table border=\"1\" class=\"dataframe\">\n",
       "  <thead>\n",
       "    <tr style=\"text-align: right;\">\n",
       "      <th></th>\n",
       "      <th>Model</th>\n",
       "      <th>Best Score</th>\n",
       "      <th>Best Params</th>\n",
       "    </tr>\n",
       "  </thead>\n",
       "  <tbody>\n",
       "    <tr>\n",
       "      <th>0</th>\n",
       "      <td>LinearRegression</td>\n",
       "      <td>0.790665</td>\n",
       "      <td>{'normalize': True}</td>\n",
       "    </tr>\n",
       "    <tr>\n",
       "      <th>1</th>\n",
       "      <td>lasso</td>\n",
       "      <td>0.790672</td>\n",
       "      <td>{'alpha': 2, 'selection': 'cyclic'}</td>\n",
       "    </tr>\n",
       "    <tr>\n",
       "      <th>2</th>\n",
       "      <td>Decision_Tree</td>\n",
       "      <td>0.824673</td>\n",
       "      <td>{'criterion': 'friedman_mse', 'splitter': 'ran...</td>\n",
       "    </tr>\n",
       "  </tbody>\n",
       "</table>\n",
       "</div>"
      ],
      "text/plain": [
       "              Model  Best Score  \\\n",
       "0  LinearRegression    0.790665   \n",
       "1             lasso    0.790672   \n",
       "2     Decision_Tree    0.824673   \n",
       "\n",
       "                                         Best Params  \n",
       "0                                {'normalize': True}  \n",
       "1                {'alpha': 2, 'selection': 'cyclic'}  \n",
       "2  {'criterion': 'friedman_mse', 'splitter': 'ran...  "
      ]
     },
     "execution_count": 44,
     "metadata": {},
     "output_type": "execute_result"
    }
   ],
   "source": [
    "from sklearn.model_selection import GridSearchCV\n",
    "\n",
    "from sklearn.linear_model import Lasso\n",
    "from sklearn.tree import DecisionTreeRegressor\n",
    "\n",
    "def find_best_model_using_gridsearch(x, y):\n",
    "    algos = {\n",
    "        'LinearRegression': {\n",
    "            'model': LinearRegression(),\n",
    "            'params': {\n",
    "                'normalize': [True, False]\n",
    "            }\n",
    "        },\n",
    "        'lasso': {\n",
    "            'model': Lasso(),\n",
    "            'params': {\n",
    "                'alpha': [1, 2],\n",
    "                'selection': ['random', 'cyclic']\n",
    "            }\n",
    "        },\n",
    "        'Decision_Tree': {\n",
    "            'model': DecisionTreeRegressor(),\n",
    "            'params': {\n",
    "                'criterion': ['mse', 'friedman_mse'],\n",
    "                'splitter': ['best', 'random']\n",
    "            }\n",
    "        }\n",
    "    }\n",
    "    scores = []\n",
    "    cv = ShuffleSplit(n_splits=5, test_size=0.2, random_state=0)\n",
    "    for algo_name, config in algos.items():\n",
    "        gs = GridSearchCV(config['model'], config['params'], cv=cv, return_train_score=False)\n",
    "        gs.fit(x, y)\n",
    "        scores.append({\n",
    "            'Model': algo_name,\n",
    "            'Best Score': gs.best_score_,\n",
    "            'Best Params': gs.best_params_\n",
    "        })\n",
    "    return pd.DataFrame(scores, columns=['Model', 'Best Score', 'Best Params']) \n",
    "find_best_model_using_gridsearch(x, y)"
   ]
  },
  {
   "cell_type": "code",
   "execution_count": 45,
   "id": "37730051",
   "metadata": {},
   "outputs": [
    {
     "data": {
      "text/plain": [
       "0.8360177480745884"
      ]
     },
     "execution_count": 45,
     "metadata": {},
     "output_type": "execute_result"
    }
   ],
   "source": [
    "tree_model = DecisionTreeRegressor(criterion='friedman_mse', splitter='random')\n",
    "tree_model.fit(x_train, y_train)\n",
    "tree_model.score(x_test, y_test)"
   ]
  },
  {
   "cell_type": "code",
   "execution_count": 46,
   "id": "ff354886",
   "metadata": {},
   "outputs": [
    {
     "data": {
      "text/plain": [
       "0.8405360905561048"
      ]
     },
     "execution_count": 46,
     "metadata": {},
     "output_type": "execute_result"
    }
   ],
   "source": [
    "# Train set\n",
    "tree_model.score(x_train, y_train)"
   ]
  },
  {
   "cell_type": "code",
   "execution_count": 47,
   "id": "53ec1f60",
   "metadata": {},
   "outputs": [
    {
     "data": {
      "text/html": [
       "<div>\n",
       "<style scoped>\n",
       "    .dataframe tbody tr th:only-of-type {\n",
       "        vertical-align: middle;\n",
       "    }\n",
       "\n",
       "    .dataframe tbody tr th {\n",
       "        vertical-align: top;\n",
       "    }\n",
       "\n",
       "    .dataframe thead th {\n",
       "        text-align: right;\n",
       "    }\n",
       "</style>\n",
       "<table border=\"1\" class=\"dataframe\">\n",
       "  <thead>\n",
       "    <tr style=\"text-align: right;\">\n",
       "      <th></th>\n",
       "      <th>bedroom</th>\n",
       "      <th>Abule-Egba</th>\n",
       "      <th>Agege</th>\n",
       "      <th>Ajah</th>\n",
       "      <th>Alapere</th>\n",
       "      <th>Alimosho</th>\n",
       "      <th>Amuwo-Odofin</th>\n",
       "      <th>Apapa</th>\n",
       "      <th>Badagry</th>\n",
       "      <th>Bariga</th>\n",
       "      <th>...</th>\n",
       "      <th>Ogudu</th>\n",
       "      <th>Ojo</th>\n",
       "      <th>Okota</th>\n",
       "      <th>Orile</th>\n",
       "      <th>Oshodi</th>\n",
       "      <th>Sangotedo</th>\n",
       "      <th>Shomolu</th>\n",
       "      <th>Surulere</th>\n",
       "      <th>VGC</th>\n",
       "      <th>VI</th>\n",
       "    </tr>\n",
       "  </thead>\n",
       "  <tbody>\n",
       "    <tr>\n",
       "      <th>1</th>\n",
       "      <td>3</td>\n",
       "      <td>1</td>\n",
       "      <td>0</td>\n",
       "      <td>0</td>\n",
       "      <td>0</td>\n",
       "      <td>0</td>\n",
       "      <td>0</td>\n",
       "      <td>0</td>\n",
       "      <td>0</td>\n",
       "      <td>0</td>\n",
       "      <td>...</td>\n",
       "      <td>0</td>\n",
       "      <td>0</td>\n",
       "      <td>0</td>\n",
       "      <td>0</td>\n",
       "      <td>0</td>\n",
       "      <td>0</td>\n",
       "      <td>0</td>\n",
       "      <td>0</td>\n",
       "      <td>0</td>\n",
       "      <td>0</td>\n",
       "    </tr>\n",
       "    <tr>\n",
       "      <th>2</th>\n",
       "      <td>3</td>\n",
       "      <td>1</td>\n",
       "      <td>0</td>\n",
       "      <td>0</td>\n",
       "      <td>0</td>\n",
       "      <td>0</td>\n",
       "      <td>0</td>\n",
       "      <td>0</td>\n",
       "      <td>0</td>\n",
       "      <td>0</td>\n",
       "      <td>...</td>\n",
       "      <td>0</td>\n",
       "      <td>0</td>\n",
       "      <td>0</td>\n",
       "      <td>0</td>\n",
       "      <td>0</td>\n",
       "      <td>0</td>\n",
       "      <td>0</td>\n",
       "      <td>0</td>\n",
       "      <td>0</td>\n",
       "      <td>0</td>\n",
       "    </tr>\n",
       "    <tr>\n",
       "      <th>3</th>\n",
       "      <td>2</td>\n",
       "      <td>1</td>\n",
       "      <td>0</td>\n",
       "      <td>0</td>\n",
       "      <td>0</td>\n",
       "      <td>0</td>\n",
       "      <td>0</td>\n",
       "      <td>0</td>\n",
       "      <td>0</td>\n",
       "      <td>0</td>\n",
       "      <td>...</td>\n",
       "      <td>0</td>\n",
       "      <td>0</td>\n",
       "      <td>0</td>\n",
       "      <td>0</td>\n",
       "      <td>0</td>\n",
       "      <td>0</td>\n",
       "      <td>0</td>\n",
       "      <td>0</td>\n",
       "      <td>0</td>\n",
       "      <td>0</td>\n",
       "    </tr>\n",
       "    <tr>\n",
       "      <th>4</th>\n",
       "      <td>3</td>\n",
       "      <td>1</td>\n",
       "      <td>0</td>\n",
       "      <td>0</td>\n",
       "      <td>0</td>\n",
       "      <td>0</td>\n",
       "      <td>0</td>\n",
       "      <td>0</td>\n",
       "      <td>0</td>\n",
       "      <td>0</td>\n",
       "      <td>...</td>\n",
       "      <td>0</td>\n",
       "      <td>0</td>\n",
       "      <td>0</td>\n",
       "      <td>0</td>\n",
       "      <td>0</td>\n",
       "      <td>0</td>\n",
       "      <td>0</td>\n",
       "      <td>0</td>\n",
       "      <td>0</td>\n",
       "      <td>0</td>\n",
       "    </tr>\n",
       "    <tr>\n",
       "      <th>6</th>\n",
       "      <td>2</td>\n",
       "      <td>1</td>\n",
       "      <td>0</td>\n",
       "      <td>0</td>\n",
       "      <td>0</td>\n",
       "      <td>0</td>\n",
       "      <td>0</td>\n",
       "      <td>0</td>\n",
       "      <td>0</td>\n",
       "      <td>0</td>\n",
       "      <td>...</td>\n",
       "      <td>0</td>\n",
       "      <td>0</td>\n",
       "      <td>0</td>\n",
       "      <td>0</td>\n",
       "      <td>0</td>\n",
       "      <td>0</td>\n",
       "      <td>0</td>\n",
       "      <td>0</td>\n",
       "      <td>0</td>\n",
       "      <td>0</td>\n",
       "    </tr>\n",
       "  </tbody>\n",
       "</table>\n",
       "<p>5 rows × 39 columns</p>\n",
       "</div>"
      ],
      "text/plain": [
       "   bedroom  Abule-Egba  Agege  Ajah  Alapere  Alimosho  Amuwo-Odofin  Apapa  \\\n",
       "1        3           1      0     0        0         0             0      0   \n",
       "2        3           1      0     0        0         0             0      0   \n",
       "3        2           1      0     0        0         0             0      0   \n",
       "4        3           1      0     0        0         0             0      0   \n",
       "6        2           1      0     0        0         0             0      0   \n",
       "\n",
       "   Badagry  Bariga  ...  Ogudu  Ojo  Okota  Orile  Oshodi  Sangotedo  Shomolu  \\\n",
       "1        0       0  ...      0    0      0      0       0          0        0   \n",
       "2        0       0  ...      0    0      0      0       0          0        0   \n",
       "3        0       0  ...      0    0      0      0       0          0        0   \n",
       "4        0       0  ...      0    0      0      0       0          0        0   \n",
       "6        0       0  ...      0    0      0      0       0          0        0   \n",
       "\n",
       "   Surulere  VGC  VI  \n",
       "1         0    0   0  \n",
       "2         0    0   0  \n",
       "3         0    0   0  \n",
       "4         0    0   0  \n",
       "6         0    0   0  \n",
       "\n",
       "[5 rows x 39 columns]"
      ]
     },
     "execution_count": 47,
     "metadata": {},
     "output_type": "execute_result"
    }
   ],
   "source": [
    "df9 = df8.drop('Price', axis='columns')\n",
    "c = df9.copy()\n",
    "c.head()"
   ]
  },
  {
   "cell_type": "code",
   "execution_count": 54,
   "id": "4e292712",
   "metadata": {},
   "outputs": [
    {
     "data": {
      "text/plain": [
       "1002176.8707482993"
      ]
     },
     "execution_count": 54,
     "metadata": {},
     "output_type": "execute_result"
    }
   ],
   "source": [
    "def price_estimator(location, bedroom):\n",
    "    loc_index = np.where(c.columns == location)[0][0]\n",
    "        \n",
    "    b = np.zeros(len(c.columns))\n",
    "    b[0] = bedroom\n",
    "    if loc_index >= 0:\n",
    "        b[loc_index] = 1\n",
    "        \n",
    "    return tree_model.predict([b])[0]\n",
    "\n",
    "price_estimator('Ajah', 3)    "
   ]
  },
  {
   "cell_type": "code",
   "execution_count": 49,
   "id": "3bf48a3f",
   "metadata": {},
   "outputs": [],
   "source": [
    "import pickle\n",
    "with open('lagos_prediction_using_tree.pickle', 'wb') as f:\n",
    "    pickle.dump(tree_model, f)"
   ]
  },
  {
   "cell_type": "code",
   "execution_count": 50,
   "id": "a1c3e0d9",
   "metadata": {},
   "outputs": [],
   "source": [
    "import json\n",
    "columns = {\n",
    "    'location': [val for val in c.columns]\n",
    "}\n",
    "with open('columns.json', 'w') as f:\n",
    "    f.write(json.dumps(columns))"
   ]
  }
 ],
 "metadata": {
  "kernelspec": {
   "display_name": "Python 3 (ipykernel)",
   "language": "python",
   "name": "python3"
  },
  "language_info": {
   "codemirror_mode": {
    "name": "ipython",
    "version": 3
   },
   "file_extension": ".py",
   "mimetype": "text/x-python",
   "name": "python",
   "nbconvert_exporter": "python",
   "pygments_lexer": "ipython3",
   "version": "3.9.12"
  }
 },
 "nbformat": 4,
 "nbformat_minor": 5
}
