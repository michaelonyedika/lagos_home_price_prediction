{
 "cells": [
  {
   "cell_type": "code",
   "execution_count": 1,
   "id": "20ae9f52",
   "metadata": {},
   "outputs": [],
   "source": [
    "import pandas as pd\n",
    "import numpy as np\n",
    "from matplotlib import pyplot as plt\n",
    "%matplotlib inline\n",
    "import matplotlib \n",
    "matplotlib.rcParams[\"figure.figsize\"] = (6,6)"
   ]
  },
  {
   "cell_type": "code",
   "execution_count": 2,
   "id": "500df3c5",
   "metadata": {},
   "outputs": [
    {
     "data": {
      "text/html": [
       "<div>\n",
       "<style scoped>\n",
       "    .dataframe tbody tr th:only-of-type {\n",
       "        vertical-align: middle;\n",
       "    }\n",
       "\n",
       "    .dataframe tbody tr th {\n",
       "        vertical-align: top;\n",
       "    }\n",
       "\n",
       "    .dataframe thead th {\n",
       "        text-align: right;\n",
       "    }\n",
       "</style>\n",
       "<table border=\"1\" class=\"dataframe\">\n",
       "  <thead>\n",
       "    <tr style=\"text-align: right;\">\n",
       "      <th></th>\n",
       "      <th>Unnamed: 0</th>\n",
       "      <th>Price</th>\n",
       "      <th>Pid</th>\n",
       "      <th>Property_name</th>\n",
       "      <th>Address</th>\n",
       "      <th>Neighboorhood</th>\n",
       "    </tr>\n",
       "  </thead>\n",
       "  <tbody>\n",
       "    <tr>\n",
       "      <th>0</th>\n",
       "      <td>0</td>\n",
       "      <td>400000</td>\n",
       "      <td>H1190</td>\n",
       "      <td>1 bedroom mini flat Flat / Apartment for rent ...</td>\n",
       "      <td>Fidiso Estate Abijo Ajah Lagos</td>\n",
       "      <td>Ajah</td>\n",
       "    </tr>\n",
       "    <tr>\n",
       "      <th>1</th>\n",
       "      <td>1</td>\n",
       "      <td>14000000</td>\n",
       "      <td>G7398</td>\n",
       "      <td>3 bedroom Flat / Apartment for rent Gerrard Ge...</td>\n",
       "      <td>Gerrard Gerrard Gerard Road Ikoyi Lagos</td>\n",
       "      <td>Ikoyi</td>\n",
       "    </tr>\n",
       "    <tr>\n",
       "      <th>2</th>\n",
       "      <td>2</td>\n",
       "      <td>200000</td>\n",
       "      <td>H5843</td>\n",
       "      <td>1 bedroom mini flat Flat / Apartment for rent ...</td>\n",
       "      <td>Obadia Akoka Yaba Lagos</td>\n",
       "      <td>Yaba</td>\n",
       "    </tr>\n",
       "    <tr>\n",
       "      <th>3</th>\n",
       "      <td>3</td>\n",
       "      <td>800000</td>\n",
       "      <td>H1194</td>\n",
       "      <td>2 bedroom Flat / Apartment for rent Iju Ishaga...</td>\n",
       "      <td>surulere Iju Ishaga Road Gbaja Surulere Lagos</td>\n",
       "      <td>Surulere</td>\n",
       "    </tr>\n",
       "    <tr>\n",
       "      <th>4</th>\n",
       "      <td>4</td>\n",
       "      <td>300000</td>\n",
       "      <td>H5842</td>\n",
       "      <td>1 bedroom mini flat Flat / Apartment for rent ...</td>\n",
       "      <td>Close to Unilag Abule Oja Yaba Lagos</td>\n",
       "      <td>Yaba</td>\n",
       "    </tr>\n",
       "  </tbody>\n",
       "</table>\n",
       "</div>"
      ],
      "text/plain": [
       "   Unnamed: 0     Price    Pid  \\\n",
       "0           0    400000  H1190   \n",
       "1           1  14000000  G7398   \n",
       "2           2    200000  H5843   \n",
       "3           3    800000  H1194   \n",
       "4           4    300000  H5842   \n",
       "\n",
       "                                       Property_name  \\\n",
       "0  1 bedroom mini flat Flat / Apartment for rent ...   \n",
       "1  3 bedroom Flat / Apartment for rent Gerrard Ge...   \n",
       "2  1 bedroom mini flat Flat / Apartment for rent ...   \n",
       "3  2 bedroom Flat / Apartment for rent Iju Ishaga...   \n",
       "4  1 bedroom mini flat Flat / Apartment for rent ...   \n",
       "\n",
       "                                         Address Neighboorhood  \n",
       "0                 Fidiso Estate Abijo Ajah Lagos          Ajah  \n",
       "1        Gerrard Gerrard Gerard Road Ikoyi Lagos         Ikoyi  \n",
       "2                        Obadia Akoka Yaba Lagos          Yaba  \n",
       "3  surulere Iju Ishaga Road Gbaja Surulere Lagos      Surulere  \n",
       "4           Close to Unilag Abule Oja Yaba Lagos          Yaba  "
      ]
     },
     "execution_count": 2,
     "metadata": {},
     "output_type": "execute_result"
    }
   ],
   "source": [
    "df = pd.read_csv('data/rent_2.csv')\n",
    "df.head()"
   ]
  },
  {
   "cell_type": "code",
   "execution_count": 3,
   "id": "6cec802f",
   "metadata": {},
   "outputs": [
    {
     "data": {
      "text/plain": [
       "(9853, 6)"
      ]
     },
     "execution_count": 3,
     "metadata": {},
     "output_type": "execute_result"
    }
   ],
   "source": [
    "df.shape"
   ]
  },
  {
   "cell_type": "code",
   "execution_count": 4,
   "id": "710a10aa",
   "metadata": {},
   "outputs": [
    {
     "data": {
      "text/plain": [
       "Unnamed: 0       0\n",
       "Price            0\n",
       "Pid              0\n",
       "Property_name    0\n",
       "Address          0\n",
       "Neighboorhood    0\n",
       "dtype: int64"
      ]
     },
     "execution_count": 4,
     "metadata": {},
     "output_type": "execute_result"
    }
   ],
   "source": [
    "df.isnull().sum()"
   ]
  },
  {
   "cell_type": "code",
   "execution_count": 5,
   "id": "132d9a61",
   "metadata": {},
   "outputs": [
    {
     "data": {
      "text/html": [
       "<div>\n",
       "<style scoped>\n",
       "    .dataframe tbody tr th:only-of-type {\n",
       "        vertical-align: middle;\n",
       "    }\n",
       "\n",
       "    .dataframe tbody tr th {\n",
       "        vertical-align: top;\n",
       "    }\n",
       "\n",
       "    .dataframe thead th {\n",
       "        text-align: right;\n",
       "    }\n",
       "</style>\n",
       "<table border=\"1\" class=\"dataframe\">\n",
       "  <thead>\n",
       "    <tr style=\"text-align: right;\">\n",
       "      <th></th>\n",
       "      <th>Price</th>\n",
       "      <th>Property_name</th>\n",
       "      <th>Neighboorhood</th>\n",
       "    </tr>\n",
       "  </thead>\n",
       "  <tbody>\n",
       "    <tr>\n",
       "      <th>9848</th>\n",
       "      <td>400000</td>\n",
       "      <td>1 bedroom mini flat Flat / Apartment for rent ...</td>\n",
       "      <td>Yaba</td>\n",
       "    </tr>\n",
       "    <tr>\n",
       "      <th>9849</th>\n",
       "      <td>800000</td>\n",
       "      <td>3 bedroom Flat / Apartment for rent Onike Yaba...</td>\n",
       "      <td>Yaba</td>\n",
       "    </tr>\n",
       "    <tr>\n",
       "      <th>9850</th>\n",
       "      <td>1000000</td>\n",
       "      <td>2 bedroom Flat / Apartment for rent Adekunle Y...</td>\n",
       "      <td>Yaba</td>\n",
       "    </tr>\n",
       "    <tr>\n",
       "      <th>9851</th>\n",
       "      <td>1500000</td>\n",
       "      <td>3 bedroom Duplex for rent Off Chief Echegile S...</td>\n",
       "      <td>Ogudu</td>\n",
       "    </tr>\n",
       "    <tr>\n",
       "      <th>9852</th>\n",
       "      <td>4000000</td>\n",
       "      <td>8 bedroom Duplex for rent babs Animashuam Bode...</td>\n",
       "      <td>Surulere</td>\n",
       "    </tr>\n",
       "  </tbody>\n",
       "</table>\n",
       "</div>"
      ],
      "text/plain": [
       "        Price                                      Property_name Neighboorhood\n",
       "9848   400000  1 bedroom mini flat Flat / Apartment for rent ...          Yaba\n",
       "9849   800000  3 bedroom Flat / Apartment for rent Onike Yaba...          Yaba\n",
       "9850  1000000  2 bedroom Flat / Apartment for rent Adekunle Y...          Yaba\n",
       "9851  1500000  3 bedroom Duplex for rent Off Chief Echegile S...         Ogudu\n",
       "9852  4000000  8 bedroom Duplex for rent babs Animashuam Bode...      Surulere"
      ]
     },
     "execution_count": 5,
     "metadata": {},
     "output_type": "execute_result"
    }
   ],
   "source": [
    "df = df.drop(['Unnamed: 0', 'Pid', 'Address'], axis='columns')\n",
    "df.tail(5)"
   ]
  },
  {
   "cell_type": "code",
   "execution_count": 6,
   "id": "3504e84d",
   "metadata": {},
   "outputs": [],
   "source": [
    "# df['Price'] = df.Price.apply(lambda x: f'{x:,}')\n",
    "# df.head()"
   ]
  },
  {
   "cell_type": "code",
   "execution_count": 7,
   "id": "e3b8107a",
   "metadata": {},
   "outputs": [],
   "source": [
    "def get_type(x):\n",
    "    if 'mini flat' in x.lower():\n",
    "        c = 'mini flat'\n",
    "    elif 'flat' in x.lower():\n",
    "        c = 'flat'\n",
    "    elif 'self contain' in x.lower():\n",
    "        c = 'self contain'\n",
    "    elif 'duplex' in x.lower():\n",
    "        c = 'duplex'\n",
    "    elif 'bungalow' in x.lower():\n",
    "        c = 'bungalow'\n",
    "    elif 'office space' in x.lower():\n",
    "        c = 'office space'\n",
    "    elif 'commercial property' in x.lower():\n",
    "        c = 'commercial property'\n",
    "    elif 'house' in x.lower():\n",
    "        c = 'duplex'\n",
    "    elif 'shop' in x.lower():\n",
    "        c = 'shop'\n",
    "    else:\n",
    "        c = 'others'\n",
    "    return c\n",
    "    "
   ]
  },
  {
   "cell_type": "code",
   "execution_count": 8,
   "id": "00dc39df",
   "metadata": {},
   "outputs": [
    {
     "data": {
      "text/html": [
       "<div>\n",
       "<style scoped>\n",
       "    .dataframe tbody tr th:only-of-type {\n",
       "        vertical-align: middle;\n",
       "    }\n",
       "\n",
       "    .dataframe tbody tr th {\n",
       "        vertical-align: top;\n",
       "    }\n",
       "\n",
       "    .dataframe thead th {\n",
       "        text-align: right;\n",
       "    }\n",
       "</style>\n",
       "<table border=\"1\" class=\"dataframe\">\n",
       "  <thead>\n",
       "    <tr style=\"text-align: right;\">\n",
       "      <th></th>\n",
       "      <th>Price</th>\n",
       "      <th>Property_name</th>\n",
       "      <th>Neighboorhood</th>\n",
       "      <th>property_type</th>\n",
       "    </tr>\n",
       "  </thead>\n",
       "  <tbody>\n",
       "    <tr>\n",
       "      <th>0</th>\n",
       "      <td>400000</td>\n",
       "      <td>1 bedroom mini flat Flat / Apartment for rent ...</td>\n",
       "      <td>Ajah</td>\n",
       "      <td>mini flat</td>\n",
       "    </tr>\n",
       "    <tr>\n",
       "      <th>1</th>\n",
       "      <td>14000000</td>\n",
       "      <td>3 bedroom Flat / Apartment for rent Gerrard Ge...</td>\n",
       "      <td>Ikoyi</td>\n",
       "      <td>flat</td>\n",
       "    </tr>\n",
       "    <tr>\n",
       "      <th>2</th>\n",
       "      <td>200000</td>\n",
       "      <td>1 bedroom mini flat Flat / Apartment for rent ...</td>\n",
       "      <td>Yaba</td>\n",
       "      <td>mini flat</td>\n",
       "    </tr>\n",
       "    <tr>\n",
       "      <th>3</th>\n",
       "      <td>800000</td>\n",
       "      <td>2 bedroom Flat / Apartment for rent Iju Ishaga...</td>\n",
       "      <td>Surulere</td>\n",
       "      <td>flat</td>\n",
       "    </tr>\n",
       "    <tr>\n",
       "      <th>4</th>\n",
       "      <td>300000</td>\n",
       "      <td>1 bedroom mini flat Flat / Apartment for rent ...</td>\n",
       "      <td>Yaba</td>\n",
       "      <td>mini flat</td>\n",
       "    </tr>\n",
       "  </tbody>\n",
       "</table>\n",
       "</div>"
      ],
      "text/plain": [
       "      Price                                      Property_name Neighboorhood  \\\n",
       "0    400000  1 bedroom mini flat Flat / Apartment for rent ...          Ajah   \n",
       "1  14000000  3 bedroom Flat / Apartment for rent Gerrard Ge...         Ikoyi   \n",
       "2    200000  1 bedroom mini flat Flat / Apartment for rent ...          Yaba   \n",
       "3    800000  2 bedroom Flat / Apartment for rent Iju Ishaga...      Surulere   \n",
       "4    300000  1 bedroom mini flat Flat / Apartment for rent ...          Yaba   \n",
       "\n",
       "  property_type  \n",
       "0     mini flat  \n",
       "1          flat  \n",
       "2     mini flat  \n",
       "3          flat  \n",
       "4     mini flat  "
      ]
     },
     "execution_count": 8,
     "metadata": {},
     "output_type": "execute_result"
    }
   ],
   "source": [
    "df['property_type'] = df.Property_name.apply(get_type)\n",
    "df.head(5)"
   ]
  },
  {
   "cell_type": "code",
   "execution_count": 9,
   "id": "7a58020a",
   "metadata": {},
   "outputs": [],
   "source": [
    "def is_num(x):\n",
    "    tokens = x.split(' ')[0]\n",
    "    try:\n",
    "        int(tokens)\n",
    "    except:\n",
    "        return False\n",
    "    return True"
   ]
  },
  {
   "cell_type": "code",
   "execution_count": 10,
   "id": "df29d7c4",
   "metadata": {
    "scrolled": false
   },
   "outputs": [
    {
     "data": {
      "text/html": [
       "<div>\n",
       "<style scoped>\n",
       "    .dataframe tbody tr th:only-of-type {\n",
       "        vertical-align: middle;\n",
       "    }\n",
       "\n",
       "    .dataframe tbody tr th {\n",
       "        vertical-align: top;\n",
       "    }\n",
       "\n",
       "    .dataframe thead th {\n",
       "        text-align: right;\n",
       "    }\n",
       "</style>\n",
       "<table border=\"1\" class=\"dataframe\">\n",
       "  <thead>\n",
       "    <tr style=\"text-align: right;\">\n",
       "      <th></th>\n",
       "      <th>Price</th>\n",
       "      <th>Property_name</th>\n",
       "      <th>Neighboorhood</th>\n",
       "      <th>property_type</th>\n",
       "    </tr>\n",
       "  </thead>\n",
       "  <tbody>\n",
       "    <tr>\n",
       "      <th>0</th>\n",
       "      <td>400000</td>\n",
       "      <td>1 bedroom mini flat Flat / Apartment for rent ...</td>\n",
       "      <td>Ajah</td>\n",
       "      <td>mini flat</td>\n",
       "    </tr>\n",
       "    <tr>\n",
       "      <th>1</th>\n",
       "      <td>14000000</td>\n",
       "      <td>3 bedroom Flat / Apartment for rent Gerrard Ge...</td>\n",
       "      <td>Ikoyi</td>\n",
       "      <td>flat</td>\n",
       "    </tr>\n",
       "    <tr>\n",
       "      <th>2</th>\n",
       "      <td>200000</td>\n",
       "      <td>1 bedroom mini flat Flat / Apartment for rent ...</td>\n",
       "      <td>Yaba</td>\n",
       "      <td>mini flat</td>\n",
       "    </tr>\n",
       "    <tr>\n",
       "      <th>3</th>\n",
       "      <td>800000</td>\n",
       "      <td>2 bedroom Flat / Apartment for rent Iju Ishaga...</td>\n",
       "      <td>Surulere</td>\n",
       "      <td>flat</td>\n",
       "    </tr>\n",
       "    <tr>\n",
       "      <th>4</th>\n",
       "      <td>300000</td>\n",
       "      <td>1 bedroom mini flat Flat / Apartment for rent ...</td>\n",
       "      <td>Yaba</td>\n",
       "      <td>mini flat</td>\n",
       "    </tr>\n",
       "  </tbody>\n",
       "</table>\n",
       "</div>"
      ],
      "text/plain": [
       "      Price                                      Property_name Neighboorhood  \\\n",
       "0    400000  1 bedroom mini flat Flat / Apartment for rent ...          Ajah   \n",
       "1  14000000  3 bedroom Flat / Apartment for rent Gerrard Ge...         Ikoyi   \n",
       "2    200000  1 bedroom mini flat Flat / Apartment for rent ...          Yaba   \n",
       "3    800000  2 bedroom Flat / Apartment for rent Iju Ishaga...      Surulere   \n",
       "4    300000  1 bedroom mini flat Flat / Apartment for rent ...          Yaba   \n",
       "\n",
       "  property_type  \n",
       "0     mini flat  \n",
       "1          flat  \n",
       "2     mini flat  \n",
       "3          flat  \n",
       "4     mini flat  "
      ]
     },
     "execution_count": 10,
     "metadata": {},
     "output_type": "execute_result"
    }
   ],
   "source": [
    "df2 = df[df.Property_name.apply(is_num)]\n",
    "df2.head()"
   ]
  },
  {
   "cell_type": "code",
   "execution_count": 11,
   "id": "3f4bc5ee",
   "metadata": {},
   "outputs": [
    {
     "name": "stderr",
     "output_type": "stream",
     "text": [
      "C:\\Users\\CELESTINE TYJC\\AppData\\Local\\Temp\\ipykernel_19608\\1611498689.py:1: SettingWithCopyWarning: \n",
      "A value is trying to be set on a copy of a slice from a DataFrame.\n",
      "Try using .loc[row_indexer,col_indexer] = value instead\n",
      "\n",
      "See the caveats in the documentation: https://pandas.pydata.org/pandas-docs/stable/user_guide/indexing.html#returning-a-view-versus-a-copy\n",
      "  df2['bedroom'] = df2.Property_name.apply(lambda x: int(x.split(' ')[0]))\n"
     ]
    },
    {
     "data": {
      "text/html": [
       "<div>\n",
       "<style scoped>\n",
       "    .dataframe tbody tr th:only-of-type {\n",
       "        vertical-align: middle;\n",
       "    }\n",
       "\n",
       "    .dataframe tbody tr th {\n",
       "        vertical-align: top;\n",
       "    }\n",
       "\n",
       "    .dataframe thead th {\n",
       "        text-align: right;\n",
       "    }\n",
       "</style>\n",
       "<table border=\"1\" class=\"dataframe\">\n",
       "  <thead>\n",
       "    <tr style=\"text-align: right;\">\n",
       "      <th></th>\n",
       "      <th>Price</th>\n",
       "      <th>Property_name</th>\n",
       "      <th>Neighboorhood</th>\n",
       "      <th>property_type</th>\n",
       "      <th>bedroom</th>\n",
       "    </tr>\n",
       "  </thead>\n",
       "  <tbody>\n",
       "    <tr>\n",
       "      <th>0</th>\n",
       "      <td>400000</td>\n",
       "      <td>1 bedroom mini flat Flat / Apartment for rent ...</td>\n",
       "      <td>Ajah</td>\n",
       "      <td>mini flat</td>\n",
       "      <td>1</td>\n",
       "    </tr>\n",
       "    <tr>\n",
       "      <th>1</th>\n",
       "      <td>14000000</td>\n",
       "      <td>3 bedroom Flat / Apartment for rent Gerrard Ge...</td>\n",
       "      <td>Ikoyi</td>\n",
       "      <td>flat</td>\n",
       "      <td>3</td>\n",
       "    </tr>\n",
       "    <tr>\n",
       "      <th>2</th>\n",
       "      <td>200000</td>\n",
       "      <td>1 bedroom mini flat Flat / Apartment for rent ...</td>\n",
       "      <td>Yaba</td>\n",
       "      <td>mini flat</td>\n",
       "      <td>1</td>\n",
       "    </tr>\n",
       "    <tr>\n",
       "      <th>3</th>\n",
       "      <td>800000</td>\n",
       "      <td>2 bedroom Flat / Apartment for rent Iju Ishaga...</td>\n",
       "      <td>Surulere</td>\n",
       "      <td>flat</td>\n",
       "      <td>2</td>\n",
       "    </tr>\n",
       "    <tr>\n",
       "      <th>4</th>\n",
       "      <td>300000</td>\n",
       "      <td>1 bedroom mini flat Flat / Apartment for rent ...</td>\n",
       "      <td>Yaba</td>\n",
       "      <td>mini flat</td>\n",
       "      <td>1</td>\n",
       "    </tr>\n",
       "  </tbody>\n",
       "</table>\n",
       "</div>"
      ],
      "text/plain": [
       "      Price                                      Property_name Neighboorhood  \\\n",
       "0    400000  1 bedroom mini flat Flat / Apartment for rent ...          Ajah   \n",
       "1  14000000  3 bedroom Flat / Apartment for rent Gerrard Ge...         Ikoyi   \n",
       "2    200000  1 bedroom mini flat Flat / Apartment for rent ...          Yaba   \n",
       "3    800000  2 bedroom Flat / Apartment for rent Iju Ishaga...      Surulere   \n",
       "4    300000  1 bedroom mini flat Flat / Apartment for rent ...          Yaba   \n",
       "\n",
       "  property_type  bedroom  \n",
       "0     mini flat        1  \n",
       "1          flat        3  \n",
       "2     mini flat        1  \n",
       "3          flat        2  \n",
       "4     mini flat        1  "
      ]
     },
     "execution_count": 11,
     "metadata": {},
     "output_type": "execute_result"
    }
   ],
   "source": [
    "df2['bedroom'] = df2.Property_name.apply(lambda x: int(x.split(' ')[0]))\n",
    "df2.head()"
   ]
  },
  {
   "cell_type": "code",
   "execution_count": 12,
   "id": "606ffe60",
   "metadata": {},
   "outputs": [
    {
     "data": {
      "text/plain": [
       "flat                   5443\n",
       "duplex                 1921\n",
       "mini flat              1156\n",
       "office space            130\n",
       "bungalow                110\n",
       "commercial property      63\n",
       "self contain              4\n",
       "shop                      2\n",
       "others                    2\n",
       "Name: property_type, dtype: int64"
      ]
     },
     "execution_count": 12,
     "metadata": {},
     "output_type": "execute_result"
    }
   ],
   "source": [
    "df2.property_type.value_counts()"
   ]
  },
  {
   "cell_type": "code",
   "execution_count": 13,
   "id": "5b7813ec",
   "metadata": {},
   "outputs": [
    {
     "name": "stderr",
     "output_type": "stream",
     "text": [
      "C:\\Users\\CELESTINE TYJC\\AppData\\Local\\Temp\\ipykernel_19608\\244480120.py:1: FutureWarning: Dropping of nuisance columns in DataFrame reductions (with 'numeric_only=None') is deprecated; in a future version this will raise TypeError.  Select only valid columns before calling the reduction.\n",
      "  df2[df2.property_type == 'flat'].median()\n"
     ]
    },
    {
     "data": {
      "text/plain": [
       "Price      900000.0\n",
       "bedroom         3.0\n",
       "dtype: float64"
      ]
     },
     "execution_count": 13,
     "metadata": {},
     "output_type": "execute_result"
    }
   ],
   "source": [
    "df2[df2.property_type == 'flat'].median()"
   ]
  },
  {
   "cell_type": "code",
   "execution_count": 14,
   "id": "17ad6f1c",
   "metadata": {
    "scrolled": false
   },
   "outputs": [
    {
     "name": "stdout",
     "output_type": "stream",
     "text": [
      "1022\n"
     ]
    },
    {
     "data": {
      "text/html": [
       "<div>\n",
       "<style scoped>\n",
       "    .dataframe tbody tr th:only-of-type {\n",
       "        vertical-align: middle;\n",
       "    }\n",
       "\n",
       "    .dataframe tbody tr th {\n",
       "        vertical-align: top;\n",
       "    }\n",
       "\n",
       "    .dataframe thead th {\n",
       "        text-align: right;\n",
       "    }\n",
       "</style>\n",
       "<table border=\"1\" class=\"dataframe\">\n",
       "  <thead>\n",
       "    <tr style=\"text-align: right;\">\n",
       "      <th></th>\n",
       "      <th>Price</th>\n",
       "      <th>Property_name</th>\n",
       "      <th>Neighboorhood</th>\n",
       "      <th>property_type</th>\n",
       "    </tr>\n",
       "  </thead>\n",
       "  <tbody>\n",
       "    <tr>\n",
       "      <th>6</th>\n",
       "      <td>300000</td>\n",
       "      <td>Self Contain for rent Akoka Abule-Oja Yaba Lagos</td>\n",
       "      <td>Yaba</td>\n",
       "      <td>self contain</td>\n",
       "    </tr>\n",
       "    <tr>\n",
       "      <th>11</th>\n",
       "      <td>7000</td>\n",
       "      <td>Shop for rent Fola Agoro Yaba Lagos</td>\n",
       "      <td>Yaba</td>\n",
       "      <td>shop</td>\n",
       "    </tr>\n",
       "    <tr>\n",
       "      <th>13</th>\n",
       "      <td>500000</td>\n",
       "      <td>Office Space for rent GRA Phase 2 Beside Karis...</td>\n",
       "      <td>Kosofe</td>\n",
       "      <td>office space</td>\n",
       "    </tr>\n",
       "    <tr>\n",
       "      <th>27</th>\n",
       "      <td>1500000</td>\n",
       "      <td>300.0 square meter Flat / Apartment for rent A...</td>\n",
       "      <td>Yaba</td>\n",
       "      <td>flat</td>\n",
       "    </tr>\n",
       "    <tr>\n",
       "      <th>37</th>\n",
       "      <td>250000</td>\n",
       "      <td>Flat / Apartment for rent Shomolu Shomolu Lagos</td>\n",
       "      <td>Shomolu</td>\n",
       "      <td>flat</td>\n",
       "    </tr>\n",
       "    <tr>\n",
       "      <th>41</th>\n",
       "      <td>300000</td>\n",
       "      <td>Self Contain for rent Shomolu Shomolu Lagos</td>\n",
       "      <td>Shomolu</td>\n",
       "      <td>self contain</td>\n",
       "    </tr>\n",
       "    <tr>\n",
       "      <th>43</th>\n",
       "      <td>5000000</td>\n",
       "      <td>Flat / Apartment for rent Adeola Odeku Victori...</td>\n",
       "      <td>VI</td>\n",
       "      <td>flat</td>\n",
       "    </tr>\n",
       "    <tr>\n",
       "      <th>48</th>\n",
       "      <td>120000</td>\n",
       "      <td>Shop for rent Akoka Yaba Lagos</td>\n",
       "      <td>Yaba</td>\n",
       "      <td>shop</td>\n",
       "    </tr>\n",
       "    <tr>\n",
       "      <th>73</th>\n",
       "      <td>300000</td>\n",
       "      <td>Self Contain for rent Abule-Oja Yaba Lagos</td>\n",
       "      <td>Yaba</td>\n",
       "      <td>self contain</td>\n",
       "    </tr>\n",
       "    <tr>\n",
       "      <th>74</th>\n",
       "      <td>300000</td>\n",
       "      <td>Self Contain for rent Abule-Oja Yaba Lagos</td>\n",
       "      <td>Yaba</td>\n",
       "      <td>self contain</td>\n",
       "    </tr>\n",
       "  </tbody>\n",
       "</table>\n",
       "</div>"
      ],
      "text/plain": [
       "      Price                                      Property_name Neighboorhood  \\\n",
       "6    300000   Self Contain for rent Akoka Abule-Oja Yaba Lagos          Yaba   \n",
       "11     7000                Shop for rent Fola Agoro Yaba Lagos          Yaba   \n",
       "13   500000  Office Space for rent GRA Phase 2 Beside Karis...        Kosofe   \n",
       "27  1500000  300.0 square meter Flat / Apartment for rent A...          Yaba   \n",
       "37   250000    Flat / Apartment for rent Shomolu Shomolu Lagos       Shomolu   \n",
       "41   300000        Self Contain for rent Shomolu Shomolu Lagos       Shomolu   \n",
       "43  5000000  Flat / Apartment for rent Adeola Odeku Victori...            VI   \n",
       "48   120000                     Shop for rent Akoka Yaba Lagos          Yaba   \n",
       "73   300000         Self Contain for rent Abule-Oja Yaba Lagos          Yaba   \n",
       "74   300000         Self Contain for rent Abule-Oja Yaba Lagos          Yaba   \n",
       "\n",
       "   property_type  \n",
       "6   self contain  \n",
       "11          shop  \n",
       "13  office space  \n",
       "27          flat  \n",
       "37          flat  \n",
       "41  self contain  \n",
       "43          flat  \n",
       "48          shop  \n",
       "73  self contain  \n",
       "74  self contain  "
      ]
     },
     "execution_count": 14,
     "metadata": {},
     "output_type": "execute_result"
    }
   ],
   "source": [
    "df_office_and_shop = df[~df.Property_name.apply(is_num)]\n",
    "print(len(df_office_and_shop))\n",
    "df_office_and_shop.head(10)"
   ]
  },
  {
   "cell_type": "code",
   "execution_count": 15,
   "id": "4c874936",
   "metadata": {},
   "outputs": [
    {
     "data": {
      "text/plain": [
       "office space           424\n",
       "self contain           232\n",
       "commercial property    203\n",
       "shop                    72\n",
       "others                  39\n",
       "flat                    37\n",
       "duplex                  10\n",
       "bungalow                 5\n",
       "Name: property_type, dtype: int64"
      ]
     },
     "execution_count": 15,
     "metadata": {},
     "output_type": "execute_result"
    }
   ],
   "source": [
    "df_office_and_shop.property_type.value_counts()"
   ]
  },
  {
   "cell_type": "code",
   "execution_count": 16,
   "id": "876d446e",
   "metadata": {
    "scrolled": false
   },
   "outputs": [
    {
     "data": {
      "text/html": [
       "<div>\n",
       "<style scoped>\n",
       "    .dataframe tbody tr th:only-of-type {\n",
       "        vertical-align: middle;\n",
       "    }\n",
       "\n",
       "    .dataframe tbody tr th {\n",
       "        vertical-align: top;\n",
       "    }\n",
       "\n",
       "    .dataframe thead th {\n",
       "        text-align: right;\n",
       "    }\n",
       "</style>\n",
       "<table border=\"1\" class=\"dataframe\">\n",
       "  <thead>\n",
       "    <tr style=\"text-align: right;\">\n",
       "      <th></th>\n",
       "      <th>Price</th>\n",
       "      <th>Property_name</th>\n",
       "      <th>Neighboorhood</th>\n",
       "      <th>property_type</th>\n",
       "    </tr>\n",
       "  </thead>\n",
       "  <tbody>\n",
       "    <tr>\n",
       "      <th>13</th>\n",
       "      <td>500000</td>\n",
       "      <td>Office Space for rent GRA Phase 2 Beside Karis...</td>\n",
       "      <td>Kosofe</td>\n",
       "      <td>office space</td>\n",
       "    </tr>\n",
       "    <tr>\n",
       "      <th>151</th>\n",
       "      <td>60000</td>\n",
       "      <td>Office Space for rent 1004 Ligali Ayorinde Vic...</td>\n",
       "      <td>VI</td>\n",
       "      <td>office space</td>\n",
       "    </tr>\n",
       "    <tr>\n",
       "      <th>162</th>\n",
       "      <td>20000</td>\n",
       "      <td>Office Space for rent Off medical road, Obafem...</td>\n",
       "      <td>Ikeja</td>\n",
       "      <td>office space</td>\n",
       "    </tr>\n",
       "    <tr>\n",
       "      <th>163</th>\n",
       "      <td>150000</td>\n",
       "      <td>Office Space for rent GRA Ikeja GRA Ikeja Lagos</td>\n",
       "      <td>Ikeja</td>\n",
       "      <td>office space</td>\n",
       "    </tr>\n",
       "    <tr>\n",
       "      <th>164</th>\n",
       "      <td>40000</td>\n",
       "      <td>Office Space for rent Ikeja GRA Ikeja Lagos</td>\n",
       "      <td>Ikeja</td>\n",
       "      <td>office space</td>\n",
       "    </tr>\n",
       "  </tbody>\n",
       "</table>\n",
       "</div>"
      ],
      "text/plain": [
       "      Price                                      Property_name Neighboorhood  \\\n",
       "13   500000  Office Space for rent GRA Phase 2 Beside Karis...        Kosofe   \n",
       "151   60000  Office Space for rent 1004 Ligali Ayorinde Vic...            VI   \n",
       "162   20000  Office Space for rent Off medical road, Obafem...         Ikeja   \n",
       "163  150000    Office Space for rent GRA Ikeja GRA Ikeja Lagos         Ikeja   \n",
       "164   40000        Office Space for rent Ikeja GRA Ikeja Lagos         Ikeja   \n",
       "\n",
       "    property_type  \n",
       "13   office space  \n",
       "151  office space  \n",
       "162  office space  \n",
       "163  office space  \n",
       "164  office space  "
      ]
     },
     "execution_count": 16,
     "metadata": {},
     "output_type": "execute_result"
    }
   ],
   "source": [
    "df_office_and_shop[df_office_and_shop.property_type == 'office space'].head(5)"
   ]
  },
  {
   "cell_type": "code",
   "execution_count": 17,
   "id": "d26fc008",
   "metadata": {},
   "outputs": [],
   "source": [
    "def get_bed(x):\n",
    "    if x == 'mini flat':\n",
    "        c = 1\n",
    "    elif x == 'flat':\n",
    "        c = 3\n",
    "    elif x == 'self contain':\n",
    "        c = 1\n",
    "    elif x == 'duplex':\n",
    "        c = 4\n",
    "    elif x == 'bungalow':\n",
    "        c = 3\n",
    "    elif x == 'office space':\n",
    "        c = 3\n",
    "    elif x == 'commercial property':\n",
    "        c = 4\n",
    "    elif x == 'house':\n",
    "        c = 4\n",
    "    elif x == 'shop':\n",
    "        c = 1\n",
    "    else:\n",
    "        c = 0\n",
    "    return c\n",
    "    "
   ]
  },
  {
   "cell_type": "code",
   "execution_count": 18,
   "id": "238ac9a3",
   "metadata": {},
   "outputs": [
    {
     "name": "stderr",
     "output_type": "stream",
     "text": [
      "C:\\Users\\CELESTINE TYJC\\AppData\\Local\\Temp\\ipykernel_19608\\1015097959.py:1: SettingWithCopyWarning: \n",
      "A value is trying to be set on a copy of a slice from a DataFrame.\n",
      "Try using .loc[row_indexer,col_indexer] = value instead\n",
      "\n",
      "See the caveats in the documentation: https://pandas.pydata.org/pandas-docs/stable/user_guide/indexing.html#returning-a-view-versus-a-copy\n",
      "  df_office_and_shop['bedroom'] = df_office_and_shop.property_type.apply(get_bed)\n"
     ]
    },
    {
     "data": {
      "text/html": [
       "<div>\n",
       "<style scoped>\n",
       "    .dataframe tbody tr th:only-of-type {\n",
       "        vertical-align: middle;\n",
       "    }\n",
       "\n",
       "    .dataframe tbody tr th {\n",
       "        vertical-align: top;\n",
       "    }\n",
       "\n",
       "    .dataframe thead th {\n",
       "        text-align: right;\n",
       "    }\n",
       "</style>\n",
       "<table border=\"1\" class=\"dataframe\">\n",
       "  <thead>\n",
       "    <tr style=\"text-align: right;\">\n",
       "      <th></th>\n",
       "      <th>Price</th>\n",
       "      <th>Property_name</th>\n",
       "      <th>Neighboorhood</th>\n",
       "      <th>property_type</th>\n",
       "      <th>bedroom</th>\n",
       "    </tr>\n",
       "  </thead>\n",
       "  <tbody>\n",
       "    <tr>\n",
       "      <th>6</th>\n",
       "      <td>300000</td>\n",
       "      <td>Self Contain for rent Akoka Abule-Oja Yaba Lagos</td>\n",
       "      <td>Yaba</td>\n",
       "      <td>self contain</td>\n",
       "      <td>1</td>\n",
       "    </tr>\n",
       "    <tr>\n",
       "      <th>11</th>\n",
       "      <td>7000</td>\n",
       "      <td>Shop for rent Fola Agoro Yaba Lagos</td>\n",
       "      <td>Yaba</td>\n",
       "      <td>shop</td>\n",
       "      <td>1</td>\n",
       "    </tr>\n",
       "    <tr>\n",
       "      <th>13</th>\n",
       "      <td>500000</td>\n",
       "      <td>Office Space for rent GRA Phase 2 Beside Karis...</td>\n",
       "      <td>Kosofe</td>\n",
       "      <td>office space</td>\n",
       "      <td>3</td>\n",
       "    </tr>\n",
       "    <tr>\n",
       "      <th>27</th>\n",
       "      <td>1500000</td>\n",
       "      <td>300.0 square meter Flat / Apartment for rent A...</td>\n",
       "      <td>Yaba</td>\n",
       "      <td>flat</td>\n",
       "      <td>3</td>\n",
       "    </tr>\n",
       "    <tr>\n",
       "      <th>37</th>\n",
       "      <td>250000</td>\n",
       "      <td>Flat / Apartment for rent Shomolu Shomolu Lagos</td>\n",
       "      <td>Shomolu</td>\n",
       "      <td>flat</td>\n",
       "      <td>3</td>\n",
       "    </tr>\n",
       "  </tbody>\n",
       "</table>\n",
       "</div>"
      ],
      "text/plain": [
       "      Price                                      Property_name Neighboorhood  \\\n",
       "6    300000   Self Contain for rent Akoka Abule-Oja Yaba Lagos          Yaba   \n",
       "11     7000                Shop for rent Fola Agoro Yaba Lagos          Yaba   \n",
       "13   500000  Office Space for rent GRA Phase 2 Beside Karis...        Kosofe   \n",
       "27  1500000  300.0 square meter Flat / Apartment for rent A...          Yaba   \n",
       "37   250000    Flat / Apartment for rent Shomolu Shomolu Lagos       Shomolu   \n",
       "\n",
       "   property_type  bedroom  \n",
       "6   self contain        1  \n",
       "11          shop        1  \n",
       "13  office space        3  \n",
       "27          flat        3  \n",
       "37          flat        3  "
      ]
     },
     "execution_count": 18,
     "metadata": {},
     "output_type": "execute_result"
    }
   ],
   "source": [
    "df_office_and_shop['bedroom'] = df_office_and_shop.property_type.apply(get_bed)\n",
    "df_office_and_shop.head()"
   ]
  },
  {
   "cell_type": "code",
   "execution_count": 19,
   "id": "8bbc059b",
   "metadata": {},
   "outputs": [
    {
     "data": {
      "text/plain": [
       "(9853, 5)"
      ]
     },
     "execution_count": 19,
     "metadata": {},
     "output_type": "execute_result"
    }
   ],
   "source": [
    "df3 = pd.concat([df2, df_office_and_shop], axis='rows')\n",
    "df3.shape\n",
    "# df3 = df2.copy()"
   ]
  },
  {
   "cell_type": "code",
   "execution_count": 20,
   "id": "65707c96",
   "metadata": {},
   "outputs": [],
   "source": [
    "mask = df3[df3.property_type == 'others']\n",
    "df3 = df3.drop(mask.index)"
   ]
  },
  {
   "cell_type": "code",
   "execution_count": 21,
   "id": "f4bfdf92",
   "metadata": {},
   "outputs": [
    {
     "data": {
      "text/plain": [
       "flat                   5480\n",
       "duplex                 1931\n",
       "mini flat              1156\n",
       "office space            554\n",
       "commercial property     266\n",
       "self contain            236\n",
       "bungalow                115\n",
       "shop                     74\n",
       "Name: property_type, dtype: int64"
      ]
     },
     "execution_count": 21,
     "metadata": {},
     "output_type": "execute_result"
    }
   ],
   "source": [
    "df3.property_type.value_counts()"
   ]
  },
  {
   "cell_type": "code",
   "execution_count": 22,
   "id": "41dfb174",
   "metadata": {
    "scrolled": true
   },
   "outputs": [
    {
     "data": {
      "text/html": [
       "<div>\n",
       "<style scoped>\n",
       "    .dataframe tbody tr th:only-of-type {\n",
       "        vertical-align: middle;\n",
       "    }\n",
       "\n",
       "    .dataframe tbody tr th {\n",
       "        vertical-align: top;\n",
       "    }\n",
       "\n",
       "    .dataframe thead th {\n",
       "        text-align: right;\n",
       "    }\n",
       "</style>\n",
       "<table border=\"1\" class=\"dataframe\">\n",
       "  <thead>\n",
       "    <tr style=\"text-align: right;\">\n",
       "      <th></th>\n",
       "      <th>Price</th>\n",
       "      <th>Property_name</th>\n",
       "      <th>Neighboorhood</th>\n",
       "      <th>property_type</th>\n",
       "      <th>bedroom</th>\n",
       "    </tr>\n",
       "  </thead>\n",
       "  <tbody>\n",
       "    <tr>\n",
       "      <th>0</th>\n",
       "      <td>400000</td>\n",
       "      <td>1 bedroom mini flat Flat / Apartment for rent ...</td>\n",
       "      <td>Ajah</td>\n",
       "      <td>mini flat</td>\n",
       "      <td>1</td>\n",
       "    </tr>\n",
       "    <tr>\n",
       "      <th>1</th>\n",
       "      <td>14000000</td>\n",
       "      <td>3 bedroom Flat / Apartment for rent Gerrard Ge...</td>\n",
       "      <td>Ikoyi</td>\n",
       "      <td>flat</td>\n",
       "      <td>3</td>\n",
       "    </tr>\n",
       "    <tr>\n",
       "      <th>2</th>\n",
       "      <td>200000</td>\n",
       "      <td>1 bedroom mini flat Flat / Apartment for rent ...</td>\n",
       "      <td>Yaba</td>\n",
       "      <td>mini flat</td>\n",
       "      <td>1</td>\n",
       "    </tr>\n",
       "    <tr>\n",
       "      <th>3</th>\n",
       "      <td>800000</td>\n",
       "      <td>2 bedroom Flat / Apartment for rent Iju Ishaga...</td>\n",
       "      <td>Surulere</td>\n",
       "      <td>flat</td>\n",
       "      <td>2</td>\n",
       "    </tr>\n",
       "    <tr>\n",
       "      <th>4</th>\n",
       "      <td>300000</td>\n",
       "      <td>1 bedroom mini flat Flat / Apartment for rent ...</td>\n",
       "      <td>Yaba</td>\n",
       "      <td>mini flat</td>\n",
       "      <td>1</td>\n",
       "    </tr>\n",
       "  </tbody>\n",
       "</table>\n",
       "</div>"
      ],
      "text/plain": [
       "      Price                                      Property_name Neighboorhood  \\\n",
       "0    400000  1 bedroom mini flat Flat / Apartment for rent ...          Ajah   \n",
       "1  14000000  3 bedroom Flat / Apartment for rent Gerrard Ge...         Ikoyi   \n",
       "2    200000  1 bedroom mini flat Flat / Apartment for rent ...          Yaba   \n",
       "3    800000  2 bedroom Flat / Apartment for rent Iju Ishaga...      Surulere   \n",
       "4    300000  1 bedroom mini flat Flat / Apartment for rent ...          Yaba   \n",
       "\n",
       "  property_type  bedroom  \n",
       "0     mini flat        1  \n",
       "1          flat        3  \n",
       "2     mini flat        1  \n",
       "3          flat        2  \n",
       "4     mini flat        1  "
      ]
     },
     "execution_count": 22,
     "metadata": {},
     "output_type": "execute_result"
    }
   ],
   "source": [
    "df3.head() "
   ]
  },
  {
   "cell_type": "code",
   "execution_count": 23,
   "id": "ca70faf6",
   "metadata": {},
   "outputs": [
    {
     "data": {
      "text/plain": [
       "3     4433\n",
       "2     1748\n",
       "1     1460\n",
       "4     1420\n",
       "5      593\n",
       "6       67\n",
       "7       38\n",
       "10      35\n",
       "8       14\n",
       "9        4\n",
       "Name: bedroom, dtype: int64"
      ]
     },
     "execution_count": 23,
     "metadata": {},
     "output_type": "execute_result"
    }
   ],
   "source": [
    "df3.bedroom.value_counts()"
   ]
  },
  {
   "cell_type": "code",
   "execution_count": 24,
   "id": "60a3166b",
   "metadata": {
    "scrolled": false
   },
   "outputs": [],
   "source": [
    "df3['bedroom'] = df3.bedroom.apply(lambda x: int(x))"
   ]
  },
  {
   "cell_type": "code",
   "execution_count": 25,
   "id": "01c782ec",
   "metadata": {
    "scrolled": false
   },
   "outputs": [
    {
     "data": {
      "text/html": [
       "<div>\n",
       "<style scoped>\n",
       "    .dataframe tbody tr th:only-of-type {\n",
       "        vertical-align: middle;\n",
       "    }\n",
       "\n",
       "    .dataframe tbody tr th {\n",
       "        vertical-align: top;\n",
       "    }\n",
       "\n",
       "    .dataframe thead th {\n",
       "        text-align: right;\n",
       "    }\n",
       "</style>\n",
       "<table border=\"1\" class=\"dataframe\">\n",
       "  <thead>\n",
       "    <tr style=\"text-align: right;\">\n",
       "      <th></th>\n",
       "      <th>Price</th>\n",
       "      <th>Property_name</th>\n",
       "      <th>Neighboorhood</th>\n",
       "      <th>property_type</th>\n",
       "      <th>bedroom</th>\n",
       "    </tr>\n",
       "  </thead>\n",
       "  <tbody>\n",
       "    <tr>\n",
       "      <th>111</th>\n",
       "      <td>3000000</td>\n",
       "      <td>6 bedroom Duplex for rent Oke-Alo Millenuim/UP...</td>\n",
       "      <td>Gbagada</td>\n",
       "      <td>duplex</td>\n",
       "      <td>6</td>\n",
       "    </tr>\n",
       "    <tr>\n",
       "      <th>119</th>\n",
       "      <td>3500000</td>\n",
       "      <td>6 bedroom Duplex for rent Gbagada Phase2 Phase...</td>\n",
       "      <td>Gbagada</td>\n",
       "      <td>duplex</td>\n",
       "      <td>6</td>\n",
       "    </tr>\n",
       "    <tr>\n",
       "      <th>180</th>\n",
       "      <td>2500000</td>\n",
       "      <td>6 bedroom Duplex for rent Kilo-Marsha Surulere...</td>\n",
       "      <td>Surulere</td>\n",
       "      <td>duplex</td>\n",
       "      <td>6</td>\n",
       "    </tr>\n",
       "    <tr>\n",
       "      <th>410</th>\n",
       "      <td>3800000</td>\n",
       "      <td>7 bedroom Duplex for rent Okealo Millenuim/UPS...</td>\n",
       "      <td>Gbagada</td>\n",
       "      <td>duplex</td>\n",
       "      <td>7</td>\n",
       "    </tr>\n",
       "    <tr>\n",
       "      <th>463</th>\n",
       "      <td>12000000</td>\n",
       "      <td>7 bedroom Commercial Property for rent Ademola...</td>\n",
       "      <td>VI</td>\n",
       "      <td>commercial property</td>\n",
       "      <td>7</td>\n",
       "    </tr>\n",
       "  </tbody>\n",
       "</table>\n",
       "</div>"
      ],
      "text/plain": [
       "        Price                                      Property_name  \\\n",
       "111   3000000  6 bedroom Duplex for rent Oke-Alo Millenuim/UP...   \n",
       "119   3500000  6 bedroom Duplex for rent Gbagada Phase2 Phase...   \n",
       "180   2500000  6 bedroom Duplex for rent Kilo-Marsha Surulere...   \n",
       "410   3800000  7 bedroom Duplex for rent Okealo Millenuim/UPS...   \n",
       "463  12000000  7 bedroom Commercial Property for rent Ademola...   \n",
       "\n",
       "    Neighboorhood        property_type  bedroom  \n",
       "111       Gbagada               duplex        6  \n",
       "119       Gbagada               duplex        6  \n",
       "180      Surulere               duplex        6  \n",
       "410       Gbagada               duplex        7  \n",
       "463            VI  commercial property        7  "
      ]
     },
     "execution_count": 25,
     "metadata": {},
     "output_type": "execute_result"
    }
   ],
   "source": [
    "df3[df3['bedroom'] >= 6].head()"
   ]
  },
  {
   "cell_type": "code",
   "execution_count": 26,
   "id": "3011b91e",
   "metadata": {
    "scrolled": false
   },
   "outputs": [
    {
     "name": "stdout",
     "output_type": "stream",
     "text": [
      "42\n"
     ]
    },
    {
     "data": {
      "text/plain": [
       "Lekki           1706\n",
       "Yaba            1130\n",
       "Ikeja            791\n",
       "Surulere         618\n",
       "Ojo              550\n",
       "Ikoyi            548\n",
       "Gbagada          475\n",
       "VI               468\n",
       "Ajah             440\n",
       "Ogba             295\n",
       "Kosofe           289\n",
       "Ipaja            247\n",
       "Shomolu          233\n",
       "Isolo            219\n",
       "Okota            218\n",
       "Maryland         185\n",
       "Ikorodu          167\n",
       "Sangotedo        163\n",
       "Ogudu            155\n",
       "Amuwo-Odofin     139\n",
       "Alimosho         116\n",
       "Abule-Egba        98\n",
       "Alapere           85\n",
       "Oshodi            72\n",
       "Ilupeju           70\n",
       "Agege             56\n",
       "Bariga            55\n",
       "Igando            41\n",
       "Apapa             31\n",
       "Ibeju-Lekki       26\n",
       "Mushin            22\n",
       "Ikosi             21\n",
       "Lagos-Island      21\n",
       "Idimu             18\n",
       "Badagry           17\n",
       "Orile              8\n",
       "VGC                6\n",
       "Ejigbo             6\n",
       "Ifako-Ijaiye       3\n",
       "Obalende           2\n",
       "Ijora              1\n",
       "Epe                1\n",
       "Name: Neighboorhood, dtype: int64"
      ]
     },
     "execution_count": 26,
     "metadata": {},
     "output_type": "execute_result"
    }
   ],
   "source": [
    "print(df3.Neighboorhood.unique().shape[0])\n",
    "df3.Neighboorhood.value_counts()"
   ]
  },
  {
   "cell_type": "code",
   "execution_count": 27,
   "id": "48522b9e",
   "metadata": {},
   "outputs": [
    {
     "data": {
      "text/plain": [
       "count    9.812000e+03\n",
       "mean     2.431849e+06\n",
       "std      9.271038e+06\n",
       "min      2.000000e+00\n",
       "25%      5.000000e+05\n",
       "50%      1.000000e+06\n",
       "75%      2.500000e+06\n",
       "max      6.000000e+08\n",
       "Name: Price, dtype: float64"
      ]
     },
     "execution_count": 27,
     "metadata": {},
     "output_type": "execute_result"
    }
   ],
   "source": [
    "df3.Price.describe()"
   ]
  },
  {
   "cell_type": "code",
   "execution_count": 28,
   "id": "180c59fc",
   "metadata": {},
   "outputs": [
    {
     "data": {
      "text/plain": [
       "[9812.0,\n",
       " 2431848.9953118633,\n",
       " 9271038.436943846,\n",
       " 2.0,\n",
       " 500000.0,\n",
       " 1000000.0,\n",
       " 2500000.0,\n",
       " 600000000.0]"
      ]
     },
     "execution_count": 28,
     "metadata": {},
     "output_type": "execute_result"
    }
   ],
   "source": [
    "list(df3.Price.describe())"
   ]
  },
  {
   "cell_type": "code",
   "execution_count": 29,
   "id": "2ae7890a",
   "metadata": {},
   "outputs": [
    {
     "data": {
      "image/png": "[encoded data removed]",
      "text/plain": [
       "<Figure size 432x432 with 1 Axes>"
      ]
     },
     "metadata": {
      "needs_background": "light"
     },
     "output_type": "display_data"
    }
   ],
   "source": [
    "plt.hist(df3.Price, rwidth=0.8, log=True)\n",
    "plt.rcParams['figure.figsize'] = (4,4)\n",
    "plt.show()"
   ]
  },
  {
   "cell_type": "code",
   "execution_count": 30,
   "id": "38b12672",
   "metadata": {
    "scrolled": false
   },
   "outputs": [
    {
     "data": {
      "text/plain": [
       "<seaborn.axisgrid.FacetGrid at 0x23b0ae5fd90>"
      ]
     },
     "execution_count": 30,
     "metadata": {},
     "output_type": "execute_result"
    },
    {
     "data": {
      "image/png": "[encoded data removed]",
      "text/plain": [
       "<Figure size 360x360 with 1 Axes>"
      ]
     },
     "metadata": {
      "needs_background": "light"
     },
     "output_type": "display_data"
    }
   ],
   "source": [
    "import seaborn as sns\n",
    "sns.displot(df3.Price)"
   ]
  },
  {
   "cell_type": "code",
   "execution_count": 31,
   "id": "b32ce952",
   "metadata": {
    "scrolled": false
   },
   "outputs": [
    {
     "data": {
      "text/plain": [
       "<seaborn.axisgrid.FacetGrid at 0x23b0b2f7520>"
      ]
     },
     "execution_count": 31,
     "metadata": {},
     "output_type": "execute_result"
    },
    {
     "data": {
      "image/png": "[encoded data removed]",
      "text/plain": [
       "<Figure size 360x360 with 1 Axes>"
      ]
     },
     "metadata": {
      "needs_background": "light"
     },
     "output_type": "display_data"
    }
   ],
   "source": [
    "sns.displot(df3.Price, log_scale=True)"
   ]
  },
  {
   "cell_type": "markdown",
   "id": "1ad2f09d",
   "metadata": {},
   "source": [
    "<h2 style='color: blue'>Price Outlier Remover using 1 standard deviation</h2>\n",
    "Grouping it by Neighboorhood"
   ]
  },
  {
   "cell_type": "code",
   "execution_count": 32,
   "id": "9d038d64",
   "metadata": {
    "scrolled": true
   },
   "outputs": [],
   "source": [
    "def outlier_price_remover(df):\n",
    "    out_df = pd.DataFrame()\n",
    "    for location, location_df in df.groupby('Neighboorhood'):\n",
    "        m = np.mean(location_df.Price)\n",
    "        std = np.std(location_df.Price)    \n",
    "        reduce_df = location_df[(location_df.Price >(m-std)) & (location_df.Price <=(m+std))]\n",
    "        out_df = pd.concat([out_df, reduce_df], ignore_index=True)\n",
    "    return out_df \n",
    "df4 = outlier_price_remover(df3)\n",
    "# df4.head()"
   ]
  },
  {
   "cell_type": "code",
   "execution_count": 33,
   "id": "48dd1d29",
   "metadata": {
    "scrolled": true
   },
   "outputs": [
    {
     "data": {
      "text/plain": [
       "{'Abule-Egba': (-5773712.897539191, 8280855.754682049),\n",
       " 'Agege': (-1515709.5036036416, 3872138.075032213),\n",
       " 'Ajah': (-444004.4201112344, 2500140.783747598),\n",
       " 'Alapere': (-3109979.642030904, 5390450.2302661985),\n",
       " 'Alimosho': (-289852.4284947087, 1449593.8078050534),\n",
       " 'Amuwo-Odofin': (266175.6996162776, 1730923.580959262),\n",
       " 'Apapa': (-62541396.08479428, 95947112.21382654),\n",
       " 'Badagry': (-1073309.13132693, 3827426.7783857537),\n",
       " 'Bariga': (245187.15763533727, 779176.478728299),\n",
       " 'Ejigbo': (-771375.8409852625, 3421375.8409852628),\n",
       " 'Epe': (12000000.0, 12000000.0),\n",
       " 'Gbagada': (397259.30758912314, 1940504.902937193),\n",
       " 'Ibeju-Lekki': (-270805.97120910394, 2205421.355824488),\n",
       " 'Idimu': (-793252.6697840884, 2267697.1142285326),\n",
       " 'Ifako-Ijaiye': (452099.8687664699, 714566.7979001969),\n",
       " 'Igando': (-705657.4272320521, 2513950.110158881),\n",
       " 'Ijora': (20000.0, 20000.0),\n",
       " 'Ikeja': (-17976586.959912162, 25367997.88785148),\n",
       " 'Ikorodu': (-13693984.916083507, 18973283.11967632),\n",
       " 'Ikosi': (-48120.719704262214, 1886435.005418548),\n",
       " 'Ikoyi': (1965952.345311582, 16313179.041549731),\n",
       " 'Ilupeju': (-353246.7787449225, 3796712.4930306366),\n",
       " 'Ipaja': (-120997.10190113151, 911118.5593910101),\n",
       " 'Isolo': (-223799.64838108653, 2115671.794499808),\n",
       " 'Kosofe': (550947.6185158927, 2939924.3538024463),\n",
       " 'Lagos-Island': (-1402305.511678131, 3788076.9402495595),\n",
       " 'Lekki': (-3199731.547111117, 9775560.972667975),\n",
       " 'Maryland': (314859.6525945368, 4445843.050108166),\n",
       " 'Mushin': (-970750.8536343774, 2275869.035452559),\n",
       " 'Obalende': (800000.0, 800000.0),\n",
       " 'Ogba': (-418360.50751490775, 3109649.9990403317),\n",
       " 'Ogudu': (-4986143.8870231435, 8610660.016055401),\n",
       " 'Ojo': (-1337693.0664337145, 3509065.7937064413),\n",
       " 'Okota': (215227.88394638064, 1235406.9784389406),\n",
       " 'Orile': (-650929.0989562985, 3638429.0989562985),\n",
       " 'Oshodi': (-1485886.6619841787, 3280922.7730952897),\n",
       " 'Sangotedo': (-3374563.6723827943, 6040821.341094451),\n",
       " 'Shomolu': (104162.65924014442, 1141760.0875409716),\n",
       " 'Surulere': (-536556.162018056, 2647079.948425823),\n",
       " 'VGC': (1424797.087923141, 3738536.245410192),\n",
       " 'VI': (-4717518.470130529, 16180723.042780101),\n",
       " 'Yaba': (-763480.7079488134, 2641393.9822850963)}"
      ]
     },
     "execution_count": 33,
     "metadata": {},
     "output_type": "execute_result"
    }
   ],
   "source": [
    "def outlier_price_remover(df):\n",
    "    view = {}\n",
    "#     out_df = pd.DataFrame()\n",
    "    for location, location_df in df.groupby('Neighboorhood'):\n",
    "        m = np.mean(location_df.Price)\n",
    "        std = np.std(location_df.Price)    \n",
    "        reduce_df = location_df[(location_df.Price >(m-std)) & (location_df.Price <=(m+std))]\n",
    "#         out_df = pd.concat([out_df, reduce_df], ignore_index=True)\n",
    "        view[location] = (m-std, m+std)\n",
    "    return view #out_df \n",
    "std_value = outlier_price_remover(df3)\n",
    "std_value"
   ]
  },
  {
   "cell_type": "code",
   "execution_count": 34,
   "id": "86d90a91",
   "metadata": {},
   "outputs": [],
   "source": [
    "def outlier_price_remover_p_type(df):\n",
    "    out_df = pd.DataFrame()\n",
    "    for location, location_df in df.groupby('property_type'):\n",
    "        m = np.mean(location_df.Price)\n",
    "        std = np.std(location_df.Price)    \n",
    "        reduce_df = location_df[(location_df.Price >(m-std)) & (location_df.Price <=(m+std))]\n",
    "        out_df = pd.concat([out_df, reduce_df], ignore_index=True)\n",
    "    return out_df \n",
    "df4 = outlier_price_remover_p_type(df4)\n",
    "# df4.head()"
   ]
  },
  {
   "cell_type": "code",
   "execution_count": 35,
   "id": "37d47b77",
   "metadata": {},
   "outputs": [
    {
     "data": {
      "text/plain": [
       "{'Abule-Egba': (-12108.362674562843, 973398.685255208),\n",
       " 'Agege': (226824.93027683639, 1102609.0319873146),\n",
       " 'Ajah': (415151.846766326, 1409434.4416497499),\n",
       " 'Alapere': (369906.58451358514, 961451.4401777729),\n",
       " 'Alimosho': (211081.43608237835, 633640.7861398439),\n",
       " 'Amuwo-Odofin': (542430.6267584797, 1212199.00287115),\n",
       " 'Apapa': (-222325.34022385068, 2564368.197366708),\n",
       " 'Badagry': (132105.91499022496, 505036.94215263217),\n",
       " 'Bariga': (319030.38929146144, 680969.6107085386),\n",
       " 'Ejigbo': (221477.0045364728, 558522.9954635272),\n",
       " 'Gbagada': (625425.9428440015, 1296002.6285845698),\n",
       " 'Ibeju-Lekki': (184820.21357002557, 1075634.33188452),\n",
       " 'Idimu': (175893.11364297068, 561753.9451805587),\n",
       " 'Ifako-Ijaiye': (650000.0, 700000.0),\n",
       " 'Igando': (89107.55352009967, 861945.0780588477),\n",
       " 'Ikeja': (467578.4199544431, 3458749.514471786),\n",
       " 'Ikorodu': (-131050.83593649312, 1170407.1273272214),\n",
       " 'Ikosi': (200158.20020675717, 944541.7997932428),\n",
       " 'Ikoyi': (3099481.018423322, 5902460.729149492),\n",
       " 'Ilupeju': (59156.62145970925, 2167771.2473927494),\n",
       " 'Ipaja': (210739.54237715525, 462427.12428951135),\n",
       " 'Isolo': (378229.7883801296, 1118436.8782865372),\n",
       " 'Kosofe': (858131.5646380142, 2138996.640490191),\n",
       " 'Lagos-Island': (-126356.82143326063, 868525.2424858923),\n",
       " 'Lekki': (1200608.1108252818, 3949684.6545567336),\n",
       " 'Maryland': (706036.8165043645, 2564992.5952603417),\n",
       " 'Mushin': (42884.60243216652, 562477.3023297382),\n",
       " 'Ogba': (257315.34306326287, 1599780.505993341),\n",
       " 'Ogudu': (293280.63576146576, 2093561.4695016919),\n",
       " 'Ojo': (288630.5128161161, 1460200.5284412513),\n",
       " 'Okota': (489688.98590772704, 828811.014092273),\n",
       " 'Orile': (153306.5150005679, 1260979.1992851463),\n",
       " 'Oshodi': (37180.33899480209, 1094856.8038623407),\n",
       " 'Sangotedo': (334780.0781652756, 1479056.3998221457),\n",
       " 'Shomolu': (271561.7207617274, 776343.0411430345),\n",
       " 'Surulere': (314784.28460294125, 1428663.2452096653),\n",
       " 'VGC': (2131534.156157351, 3368465.843842649),\n",
       " 'VI': (679092.6610307856, 4466284.3977927435),\n",
       " 'Yaba': (246517.31749082555, 1274886.4208269315)}"
      ]
     },
     "execution_count": 35,
     "metadata": {},
     "output_type": "execute_result"
    }
   ],
   "source": [
    "def outlier_price_remover_p_type(df):\n",
    "    view = {}\n",
    "#     out_df = pd.DataFrame()\n",
    "    for location, location_df in df.groupby('property_type'):\n",
    "        m = np.mean(location_df.Price)\n",
    "        std = np.std(location_df.Price)    \n",
    "        reduce_df = location_df[(location_df.Price >(m-std)) & (location_df.Price <=(m+std))]\n",
    "#         out_df = pd.concat([out_df, reduce_df], ignore_index=True)\n",
    "        view[location] = (m-std, m+std)\n",
    "    return view #out_df \n",
    "std_value_by_type = outlier_price_remover(df4)\n",
    "std_value_by_type"
   ]
  },
  {
   "cell_type": "code",
   "execution_count": 36,
   "id": "33ef7520",
   "metadata": {},
   "outputs": [
    {
     "name": "stdout",
     "output_type": "stream",
     "text": [
      "(8179, 5)\n"
     ]
    },
    {
     "data": {
      "text/plain": [
       "1633"
      ]
     },
     "execution_count": 36,
     "metadata": {},
     "output_type": "execute_result"
    }
   ],
   "source": [
    "print(df4.shape)\n",
    "df3.shape[0]-df4.shape[0]"
   ]
  },
  {
   "cell_type": "code",
   "execution_count": 37,
   "id": "9288faa3",
   "metadata": {},
   "outputs": [
    {
     "data": {
      "text/plain": [
       "count    8.179000e+03\n",
       "mean     1.330466e+06\n",
       "std      1.251159e+06\n",
       "min      2.000000e+00\n",
       "25%      5.000000e+05\n",
       "50%      8.500000e+05\n",
       "75%      1.800000e+06\n",
       "max      6.700000e+06\n",
       "Name: Price, dtype: float64"
      ]
     },
     "execution_count": 37,
     "metadata": {},
     "output_type": "execute_result"
    }
   ],
   "source": [
    "df4.Price.describe()"
   ]
  },
  {
   "cell_type": "code",
   "execution_count": 38,
   "id": "78e6bdf6",
   "metadata": {},
   "outputs": [
    {
     "data": {
      "text/plain": [
       "[8179.0,\n",
       " 1330466.040102702,\n",
       " 1251159.123082452,\n",
       " 2.0,\n",
       " 500000.0,\n",
       " 850000.0,\n",
       " 1800000.0,\n",
       " 6700000.0]"
      ]
     },
     "execution_count": 38,
     "metadata": {},
     "output_type": "execute_result"
    }
   ],
   "source": [
    "list(df4.Price.describe())"
   ]
  },
  {
   "cell_type": "code",
   "execution_count": 39,
   "id": "a5fab1b8",
   "metadata": {},
   "outputs": [
    {
     "data": {
      "image/png": "[encoded data removed]",
      "text/plain": [
       "<Figure size 288x288 with 1 Axes>"
      ]
     },
     "metadata": {
      "needs_background": "light"
     },
     "output_type": "display_data"
    }
   ],
   "source": [
    "plt.hist(df4.Price, rwidth=0.8, log=True)\n",
    "plt.show()"
   ]
  },
  {
   "cell_type": "code",
   "execution_count": 40,
   "id": "ac0bbbed",
   "metadata": {},
   "outputs": [
    {
     "data": {
      "image/png": "[encoded data removed]",
      "text/plain": [
       "<Figure size 288x288 with 1 Axes>"
      ]
     },
     "metadata": {
      "needs_background": "light"
     },
     "output_type": "display_data"
    }
   ],
   "source": [
    "plt.hist(df4.bedroom, rwidth=0.8)\n",
    "plt.rcParams['figure.figsize'] = (6, 6)"
   ]
  },
  {
   "cell_type": "markdown",
   "id": "98faf1b5",
   "metadata": {},
   "source": [
    "<h2 style='color: blue'>Bedroom Outlier Remover</h2>\n",
    "<h3 style='color: purple'>Removing rows with no. of bedroom higher then 7 bedrooms</h3>"
   ]
  },
  {
   "cell_type": "code",
   "execution_count": 41,
   "id": "2a3700c1",
   "metadata": {},
   "outputs": [
    {
     "name": "stdout",
     "output_type": "stream",
     "text": [
      "(17, 5)\n"
     ]
    },
    {
     "data": {
      "text/html": [
       "<div>\n",
       "<style scoped>\n",
       "    .dataframe tbody tr th:only-of-type {\n",
       "        vertical-align: middle;\n",
       "    }\n",
       "\n",
       "    .dataframe tbody tr th {\n",
       "        vertical-align: top;\n",
       "    }\n",
       "\n",
       "    .dataframe thead th {\n",
       "        text-align: right;\n",
       "    }\n",
       "</style>\n",
       "<table border=\"1\" class=\"dataframe\">\n",
       "  <thead>\n",
       "    <tr style=\"text-align: right;\">\n",
       "      <th></th>\n",
       "      <th>Price</th>\n",
       "      <th>Property_name</th>\n",
       "      <th>Neighboorhood</th>\n",
       "      <th>property_type</th>\n",
       "      <th>bedroom</th>\n",
       "    </tr>\n",
       "  </thead>\n",
       "  <tbody>\n",
       "    <tr>\n",
       "      <th>0</th>\n",
       "      <td>200000</td>\n",
       "      <td>3 bedroom Bungalow for rent Toll Gate Alagbado...</td>\n",
       "      <td>Abule-Egba</td>\n",
       "      <td>bungalow</td>\n",
       "      <td>3</td>\n",
       "    </tr>\n",
       "    <tr>\n",
       "      <th>1</th>\n",
       "      <td>350000</td>\n",
       "      <td>2 bedroom Bungalow for rent Oja Oba Abule Egba...</td>\n",
       "      <td>Abule-Egba</td>\n",
       "      <td>bungalow</td>\n",
       "      <td>2</td>\n",
       "    </tr>\n",
       "    <tr>\n",
       "      <th>2</th>\n",
       "      <td>1000000</td>\n",
       "      <td>4 bedroom Bungalow for rent Fagba Agege Lagos</td>\n",
       "      <td>Agege</td>\n",
       "      <td>bungalow</td>\n",
       "      <td>4</td>\n",
       "    </tr>\n",
       "    <tr>\n",
       "      <th>3</th>\n",
       "      <td>600000</td>\n",
       "      <td>3 bedroom Bungalow for rent Alexander estate O...</td>\n",
       "      <td>Agege</td>\n",
       "      <td>bungalow</td>\n",
       "      <td>3</td>\n",
       "    </tr>\n",
       "    <tr>\n",
       "      <th>4</th>\n",
       "      <td>650000</td>\n",
       "      <td>3 bedroom Bungalow for rent off Jonathan Coker...</td>\n",
       "      <td>Agege</td>\n",
       "      <td>bungalow</td>\n",
       "      <td>3</td>\n",
       "    </tr>\n",
       "  </tbody>\n",
       "</table>\n",
       "</div>"
      ],
      "text/plain": [
       "     Price                                      Property_name Neighboorhood  \\\n",
       "0   200000  3 bedroom Bungalow for rent Toll Gate Alagbado...    Abule-Egba   \n",
       "1   350000  2 bedroom Bungalow for rent Oja Oba Abule Egba...    Abule-Egba   \n",
       "2  1000000      4 bedroom Bungalow for rent Fagba Agege Lagos         Agege   \n",
       "3   600000  3 bedroom Bungalow for rent Alexander estate O...         Agege   \n",
       "4   650000  3 bedroom Bungalow for rent off Jonathan Coker...         Agege   \n",
       "\n",
       "  property_type  bedroom  \n",
       "0      bungalow        3  \n",
       "1      bungalow        2  \n",
       "2      bungalow        4  \n",
       "3      bungalow        3  \n",
       "4      bungalow        3  "
      ]
     },
     "execution_count": 41,
     "metadata": {},
     "output_type": "execute_result"
    }
   ],
   "source": [
    "print(df4[df4.bedroom >= 8].shape)\n",
    "df5 = df4[df4.bedroom < 8]\n",
    "df5.head()"
   ]
  },
  {
   "cell_type": "code",
   "execution_count": 42,
   "id": "ed59c5e2",
   "metadata": {},
   "outputs": [
    {
     "data": {
      "text/plain": [
       "(array([1248., 1635.,    0., 3841.,    0., 1033.,  360.,    0.,   29.,\n",
       "          16.]),\n",
       " array([1. , 1.6, 2.2, 2.8, 3.4, 4. , 4.6, 5.2, 5.8, 6.4, 7. ]),\n",
       " <BarContainer object of 10 artists>)"
      ]
     },
     "execution_count": 42,
     "metadata": {},
     "output_type": "execute_result"
    },
    {
     "data": {
      "image/png": "[encoded data removed]",
      "text/plain": [
       "<Figure size 432x432 with 1 Axes>"
      ]
     },
     "metadata": {
      "needs_background": "light"
     },
     "output_type": "display_data"
    }
   ],
   "source": [
    "plt.hist(df5.bedroom, rwidth=0.5)"
   ]
  },
  {
   "cell_type": "markdown",
   "id": "b829fa9c",
   "metadata": {},
   "source": [
    "<h2 style='color: blue'>Comparing Price of 2 bedroom & 3 bedroom in same Neighboorhood</h2>"
   ]
  },
  {
   "cell_type": "code",
   "execution_count": 43,
   "id": "dbe60788",
   "metadata": {},
   "outputs": [
    {
     "data": {
      "image/png": "[encoded data removed]",
      "text/plain": [
       "<Figure size 1080x720 with 1 Axes>"
      ]
     },
     "metadata": {
      "needs_background": "light"
     },
     "output_type": "display_data"
    }
   ],
   "source": [
    "def plot_scatter_plot(df, location):\n",
    "    bedroom2 = df[(df.Neighboorhood == location) & (df.bedroom == 2)]\n",
    "    bedroom3 = df[(df.Neighboorhood == location) & (df.bedroom == 3)]\n",
    "    plt.rcParams['figure.figsize'] = (15, 10)\n",
    "    plt.scatter(bedroom2.bedroom, bedroom2.Price, color='blue', label='2 Bedroom', s=50)\n",
    "    plt.scatter(bedroom3.bedroom, bedroom3.Price, color='red', label='2 Bedroom', s=50) \n",
    "    plt.xlabel('No. of Bedroom')\n",
    "    plt.ylabel('Price')\n",
    "    plt.title(location)\n",
    "    plt.legend()\n",
    "    \n",
    "\n",
    "plot_scatter_plot(df5, 'Lekki')    "
   ]
  },
  {
   "cell_type": "code",
   "execution_count": 44,
   "id": "9db379a9",
   "metadata": {},
   "outputs": [
    {
     "data": {
      "text/plain": [
       "(6702, 5)"
      ]
     },
     "execution_count": 44,
     "metadata": {},
     "output_type": "execute_result"
    }
   ],
   "source": [
    "def bedroom_outlier_remover(df):\n",
    "    exclude_indices = np.array([])\n",
    "    for location, location_df in df.groupby('Neighboorhood'):\n",
    "        bedroom_stats = {}\n",
    "        for br, br_df in location_df.groupby('bedroom'):\n",
    "            bedroom_stats[br] = {\n",
    "                'mean': np.mean(br_df.Price),\n",
    "                'std': np.std(br_df.Price),\n",
    "                'count': br_df.shape[0]\n",
    "            }\n",
    "        for br, br_df in location_df.groupby('bedroom'):\n",
    "            stats = bedroom_stats.get(br-1)\n",
    "            if stats and stats['count'] > 5:\n",
    "                exclude_indices = np.append(exclude_indices, br_df[br_df.Price<(stats['mean'])].index.values)\n",
    "    return df.drop(exclude_indices, axis='index')\n",
    "    \n",
    "df6 = bedroom_outlier_remover(df5)\n",
    "df6.shape"
   ]
  },
  {
   "cell_type": "code",
   "execution_count": 45,
   "id": "9935aed5",
   "metadata": {},
   "outputs": [
    {
     "data": {
      "text/plain": [
       "1460"
      ]
     },
     "execution_count": 45,
     "metadata": {},
     "output_type": "execute_result"
    }
   ],
   "source": [
    "df5.shape[0]-df6.shape[0]"
   ]
  },
  {
   "cell_type": "code",
   "execution_count": 46,
   "id": "07b4ce0f",
   "metadata": {},
   "outputs": [
    {
     "data": {
      "image/png": "[encoded data removed]",
      "text/plain": [
       "<Figure size 1080x720 with 1 Axes>"
      ]
     },
     "metadata": {
      "needs_background": "light"
     },
     "output_type": "display_data"
    }
   ],
   "source": [
    "plot_scatter_plot(df6, 'Lekki')    "
   ]
  },
  {
   "cell_type": "code",
   "execution_count": 47,
   "id": "cbacc3ec",
   "metadata": {},
   "outputs": [
    {
     "data": {
      "image/png": "[encoded data removed]",
      "text/plain": [
       "<Figure size 1080x720 with 1 Axes>"
      ]
     },
     "metadata": {
      "needs_background": "light"
     },
     "output_type": "display_data"
    }
   ],
   "source": [
    "plt.hist(df6.Price, rwidth=0.8)\n",
    "plt.xlabel('Price')\n",
    "plt.ylabel('Count')\n",
    "plt.show()"
   ]
  },
  {
   "cell_type": "code",
   "execution_count": 48,
   "id": "232d63b9",
   "metadata": {
    "scrolled": true
   },
   "outputs": [
    {
     "data": {
      "text/html": [
       "<div>\n",
       "<style scoped>\n",
       "    .dataframe tbody tr th:only-of-type {\n",
       "        vertical-align: middle;\n",
       "    }\n",
       "\n",
       "    .dataframe tbody tr th {\n",
       "        vertical-align: top;\n",
       "    }\n",
       "\n",
       "    .dataframe thead th {\n",
       "        text-align: right;\n",
       "    }\n",
       "</style>\n",
       "<table border=\"1\" class=\"dataframe\">\n",
       "  <thead>\n",
       "    <tr style=\"text-align: right;\">\n",
       "      <th></th>\n",
       "      <th>Price</th>\n",
       "      <th>Neighboorhood</th>\n",
       "      <th>property_type</th>\n",
       "      <th>bedroom</th>\n",
       "    </tr>\n",
       "  </thead>\n",
       "  <tbody>\n",
       "    <tr>\n",
       "      <th>1</th>\n",
       "      <td>350000</td>\n",
       "      <td>Abule-Egba</td>\n",
       "      <td>bungalow</td>\n",
       "      <td>2</td>\n",
       "    </tr>\n",
       "    <tr>\n",
       "      <th>2</th>\n",
       "      <td>1000000</td>\n",
       "      <td>Agege</td>\n",
       "      <td>bungalow</td>\n",
       "      <td>4</td>\n",
       "    </tr>\n",
       "    <tr>\n",
       "      <th>3</th>\n",
       "      <td>600000</td>\n",
       "      <td>Agege</td>\n",
       "      <td>bungalow</td>\n",
       "      <td>3</td>\n",
       "    </tr>\n",
       "    <tr>\n",
       "      <th>4</th>\n",
       "      <td>650000</td>\n",
       "      <td>Agege</td>\n",
       "      <td>bungalow</td>\n",
       "      <td>3</td>\n",
       "    </tr>\n",
       "    <tr>\n",
       "      <th>5</th>\n",
       "      <td>1200000</td>\n",
       "      <td>Ajah</td>\n",
       "      <td>bungalow</td>\n",
       "      <td>4</td>\n",
       "    </tr>\n",
       "  </tbody>\n",
       "</table>\n",
       "</div>"
      ],
      "text/plain": [
       "     Price Neighboorhood property_type  bedroom\n",
       "1   350000    Abule-Egba      bungalow        2\n",
       "2  1000000         Agege      bungalow        4\n",
       "3   600000         Agege      bungalow        3\n",
       "4   650000         Agege      bungalow        3\n",
       "5  1200000          Ajah      bungalow        4"
      ]
     },
     "execution_count": 48,
     "metadata": {},
     "output_type": "execute_result"
    }
   ],
   "source": [
    "df7 = df6.drop('Property_name', axis='columns')\n",
    "df7.head()"
   ]
  },
  {
   "cell_type": "code",
   "execution_count": 49,
   "id": "c0f5bd5c",
   "metadata": {
    "scrolled": true
   },
   "outputs": [
    {
     "data": {
      "text/plain": [
       "flat                   3923\n",
       "duplex                 1214\n",
       "mini flat              1002\n",
       "self contain            191\n",
       "office space            186\n",
       "bungalow                 73\n",
       "commercial property      58\n",
       "shop                     55\n",
       "Name: property_type, dtype: int64"
      ]
     },
     "execution_count": 49,
     "metadata": {},
     "output_type": "execute_result"
    }
   ],
   "source": [
    "df7.property_type.value_counts()"
   ]
  },
  {
   "cell_type": "code",
   "execution_count": 50,
   "id": "67fb29d1",
   "metadata": {},
   "outputs": [
    {
     "data": {
      "text/html": [
       "<div>\n",
       "<style scoped>\n",
       "    .dataframe tbody tr th:only-of-type {\n",
       "        vertical-align: middle;\n",
       "    }\n",
       "\n",
       "    .dataframe tbody tr th {\n",
       "        vertical-align: top;\n",
       "    }\n",
       "\n",
       "    .dataframe thead th {\n",
       "        text-align: right;\n",
       "    }\n",
       "</style>\n",
       "<table border=\"1\" class=\"dataframe\">\n",
       "  <thead>\n",
       "    <tr style=\"text-align: right;\">\n",
       "      <th></th>\n",
       "      <th>bungalow</th>\n",
       "      <th>commercial property</th>\n",
       "      <th>duplex</th>\n",
       "      <th>flat</th>\n",
       "      <th>mini flat</th>\n",
       "      <th>office space</th>\n",
       "      <th>self contain</th>\n",
       "      <th>shop</th>\n",
       "    </tr>\n",
       "  </thead>\n",
       "  <tbody>\n",
       "    <tr>\n",
       "      <th>1</th>\n",
       "      <td>1</td>\n",
       "      <td>0</td>\n",
       "      <td>0</td>\n",
       "      <td>0</td>\n",
       "      <td>0</td>\n",
       "      <td>0</td>\n",
       "      <td>0</td>\n",
       "      <td>0</td>\n",
       "    </tr>\n",
       "    <tr>\n",
       "      <th>2</th>\n",
       "      <td>1</td>\n",
       "      <td>0</td>\n",
       "      <td>0</td>\n",
       "      <td>0</td>\n",
       "      <td>0</td>\n",
       "      <td>0</td>\n",
       "      <td>0</td>\n",
       "      <td>0</td>\n",
       "    </tr>\n",
       "    <tr>\n",
       "      <th>3</th>\n",
       "      <td>1</td>\n",
       "      <td>0</td>\n",
       "      <td>0</td>\n",
       "      <td>0</td>\n",
       "      <td>0</td>\n",
       "      <td>0</td>\n",
       "      <td>0</td>\n",
       "      <td>0</td>\n",
       "    </tr>\n",
       "    <tr>\n",
       "      <th>4</th>\n",
       "      <td>1</td>\n",
       "      <td>0</td>\n",
       "      <td>0</td>\n",
       "      <td>0</td>\n",
       "      <td>0</td>\n",
       "      <td>0</td>\n",
       "      <td>0</td>\n",
       "      <td>0</td>\n",
       "    </tr>\n",
       "    <tr>\n",
       "      <th>5</th>\n",
       "      <td>1</td>\n",
       "      <td>0</td>\n",
       "      <td>0</td>\n",
       "      <td>0</td>\n",
       "      <td>0</td>\n",
       "      <td>0</td>\n",
       "      <td>0</td>\n",
       "      <td>0</td>\n",
       "    </tr>\n",
       "  </tbody>\n",
       "</table>\n",
       "</div>"
      ],
      "text/plain": [
       "   bungalow  commercial property  duplex  flat  mini flat  office space  \\\n",
       "1         1                    0       0     0          0             0   \n",
       "2         1                    0       0     0          0             0   \n",
       "3         1                    0       0     0          0             0   \n",
       "4         1                    0       0     0          0             0   \n",
       "5         1                    0       0     0          0             0   \n",
       "\n",
       "   self contain  shop  \n",
       "1             0     0  \n",
       "2             0     0  \n",
       "3             0     0  \n",
       "4             0     0  \n",
       "5             0     0  "
      ]
     },
     "execution_count": 50,
     "metadata": {},
     "output_type": "execute_result"
    }
   ],
   "source": [
    "property_type_dummies = pd.get_dummies(df7.property_type)\n",
    "property_type_dummies.head()"
   ]
  },
  {
   "cell_type": "code",
   "execution_count": 51,
   "id": "4c069168",
   "metadata": {},
   "outputs": [
    {
     "data": {
      "text/html": [
       "<div>\n",
       "<style scoped>\n",
       "    .dataframe tbody tr th:only-of-type {\n",
       "        vertical-align: middle;\n",
       "    }\n",
       "\n",
       "    .dataframe tbody tr th {\n",
       "        vertical-align: top;\n",
       "    }\n",
       "\n",
       "    .dataframe thead th {\n",
       "        text-align: right;\n",
       "    }\n",
       "</style>\n",
       "<table border=\"1\" class=\"dataframe\">\n",
       "  <thead>\n",
       "    <tr style=\"text-align: right;\">\n",
       "      <th></th>\n",
       "      <th>Abule-Egba</th>\n",
       "      <th>Agege</th>\n",
       "      <th>Ajah</th>\n",
       "      <th>Alapere</th>\n",
       "      <th>Alimosho</th>\n",
       "      <th>Amuwo-Odofin</th>\n",
       "      <th>Apapa</th>\n",
       "      <th>Badagry</th>\n",
       "      <th>Bariga</th>\n",
       "      <th>Ejigbo</th>\n",
       "      <th>...</th>\n",
       "      <th>Ojo</th>\n",
       "      <th>Okota</th>\n",
       "      <th>Orile</th>\n",
       "      <th>Oshodi</th>\n",
       "      <th>Sangotedo</th>\n",
       "      <th>Shomolu</th>\n",
       "      <th>Surulere</th>\n",
       "      <th>VGC</th>\n",
       "      <th>VI</th>\n",
       "      <th>Yaba</th>\n",
       "    </tr>\n",
       "  </thead>\n",
       "  <tbody>\n",
       "    <tr>\n",
       "      <th>1</th>\n",
       "      <td>1</td>\n",
       "      <td>0</td>\n",
       "      <td>0</td>\n",
       "      <td>0</td>\n",
       "      <td>0</td>\n",
       "      <td>0</td>\n",
       "      <td>0</td>\n",
       "      <td>0</td>\n",
       "      <td>0</td>\n",
       "      <td>0</td>\n",
       "      <td>...</td>\n",
       "      <td>0</td>\n",
       "      <td>0</td>\n",
       "      <td>0</td>\n",
       "      <td>0</td>\n",
       "      <td>0</td>\n",
       "      <td>0</td>\n",
       "      <td>0</td>\n",
       "      <td>0</td>\n",
       "      <td>0</td>\n",
       "      <td>0</td>\n",
       "    </tr>\n",
       "    <tr>\n",
       "      <th>2</th>\n",
       "      <td>0</td>\n",
       "      <td>1</td>\n",
       "      <td>0</td>\n",
       "      <td>0</td>\n",
       "      <td>0</td>\n",
       "      <td>0</td>\n",
       "      <td>0</td>\n",
       "      <td>0</td>\n",
       "      <td>0</td>\n",
       "      <td>0</td>\n",
       "      <td>...</td>\n",
       "      <td>0</td>\n",
       "      <td>0</td>\n",
       "      <td>0</td>\n",
       "      <td>0</td>\n",
       "      <td>0</td>\n",
       "      <td>0</td>\n",
       "      <td>0</td>\n",
       "      <td>0</td>\n",
       "      <td>0</td>\n",
       "      <td>0</td>\n",
       "    </tr>\n",
       "    <tr>\n",
       "      <th>3</th>\n",
       "      <td>0</td>\n",
       "      <td>1</td>\n",
       "      <td>0</td>\n",
       "      <td>0</td>\n",
       "      <td>0</td>\n",
       "      <td>0</td>\n",
       "      <td>0</td>\n",
       "      <td>0</td>\n",
       "      <td>0</td>\n",
       "      <td>0</td>\n",
       "      <td>...</td>\n",
       "      <td>0</td>\n",
       "      <td>0</td>\n",
       "      <td>0</td>\n",
       "      <td>0</td>\n",
       "      <td>0</td>\n",
       "      <td>0</td>\n",
       "      <td>0</td>\n",
       "      <td>0</td>\n",
       "      <td>0</td>\n",
       "      <td>0</td>\n",
       "    </tr>\n",
       "  </tbody>\n",
       "</table>\n",
       "<p>3 rows × 39 columns</p>\n",
       "</div>"
      ],
      "text/plain": [
       "   Abule-Egba  Agege  Ajah  Alapere  Alimosho  Amuwo-Odofin  Apapa  Badagry  \\\n",
       "1           1      0     0        0         0             0      0        0   \n",
       "2           0      1     0        0         0             0      0        0   \n",
       "3           0      1     0        0         0             0      0        0   \n",
       "\n",
       "   Bariga  Ejigbo  ...  Ojo  Okota  Orile  Oshodi  Sangotedo  Shomolu  \\\n",
       "1       0       0  ...    0      0      0       0          0        0   \n",
       "2       0       0  ...    0      0      0       0          0        0   \n",
       "3       0       0  ...    0      0      0       0          0        0   \n",
       "\n",
       "   Surulere  VGC  VI  Yaba  \n",
       "1         0    0   0     0  \n",
       "2         0    0   0     0  \n",
       "3         0    0   0     0  \n",
       "\n",
       "[3 rows x 39 columns]"
      ]
     },
     "execution_count": 51,
     "metadata": {},
     "output_type": "execute_result"
    }
   ],
   "source": [
    "location_dummies = pd.get_dummies(df7.Neighboorhood)\n",
    "location_dummies.head(3)"
   ]
  },
  {
   "cell_type": "code",
   "execution_count": 52,
   "id": "020d24b4",
   "metadata": {},
   "outputs": [
    {
     "data": {
      "text/html": [
       "<div>\n",
       "<style scoped>\n",
       "    .dataframe tbody tr th:only-of-type {\n",
       "        vertical-align: middle;\n",
       "    }\n",
       "\n",
       "    .dataframe tbody tr th {\n",
       "        vertical-align: top;\n",
       "    }\n",
       "\n",
       "    .dataframe thead th {\n",
       "        text-align: right;\n",
       "    }\n",
       "</style>\n",
       "<table border=\"1\" class=\"dataframe\">\n",
       "  <thead>\n",
       "    <tr style=\"text-align: right;\">\n",
       "      <th></th>\n",
       "      <th>Price</th>\n",
       "      <th>Neighboorhood</th>\n",
       "      <th>property_type</th>\n",
       "      <th>bedroom</th>\n",
       "      <th>bungalow</th>\n",
       "      <th>commercial property</th>\n",
       "      <th>duplex</th>\n",
       "      <th>flat</th>\n",
       "      <th>mini flat</th>\n",
       "      <th>office space</th>\n",
       "      <th>...</th>\n",
       "      <th>Ojo</th>\n",
       "      <th>Okota</th>\n",
       "      <th>Orile</th>\n",
       "      <th>Oshodi</th>\n",
       "      <th>Sangotedo</th>\n",
       "      <th>Shomolu</th>\n",
       "      <th>Surulere</th>\n",
       "      <th>VGC</th>\n",
       "      <th>VI</th>\n",
       "      <th>Yaba</th>\n",
       "    </tr>\n",
       "  </thead>\n",
       "  <tbody>\n",
       "    <tr>\n",
       "      <th>1</th>\n",
       "      <td>350000</td>\n",
       "      <td>Abule-Egba</td>\n",
       "      <td>bungalow</td>\n",
       "      <td>2</td>\n",
       "      <td>1</td>\n",
       "      <td>0</td>\n",
       "      <td>0</td>\n",
       "      <td>0</td>\n",
       "      <td>0</td>\n",
       "      <td>0</td>\n",
       "      <td>...</td>\n",
       "      <td>0</td>\n",
       "      <td>0</td>\n",
       "      <td>0</td>\n",
       "      <td>0</td>\n",
       "      <td>0</td>\n",
       "      <td>0</td>\n",
       "      <td>0</td>\n",
       "      <td>0</td>\n",
       "      <td>0</td>\n",
       "      <td>0</td>\n",
       "    </tr>\n",
       "    <tr>\n",
       "      <th>2</th>\n",
       "      <td>1000000</td>\n",
       "      <td>Agege</td>\n",
       "      <td>bungalow</td>\n",
       "      <td>4</td>\n",
       "      <td>1</td>\n",
       "      <td>0</td>\n",
       "      <td>0</td>\n",
       "      <td>0</td>\n",
       "      <td>0</td>\n",
       "      <td>0</td>\n",
       "      <td>...</td>\n",
       "      <td>0</td>\n",
       "      <td>0</td>\n",
       "      <td>0</td>\n",
       "      <td>0</td>\n",
       "      <td>0</td>\n",
       "      <td>0</td>\n",
       "      <td>0</td>\n",
       "      <td>0</td>\n",
       "      <td>0</td>\n",
       "      <td>0</td>\n",
       "    </tr>\n",
       "    <tr>\n",
       "      <th>3</th>\n",
       "      <td>600000</td>\n",
       "      <td>Agege</td>\n",
       "      <td>bungalow</td>\n",
       "      <td>3</td>\n",
       "      <td>1</td>\n",
       "      <td>0</td>\n",
       "      <td>0</td>\n",
       "      <td>0</td>\n",
       "      <td>0</td>\n",
       "      <td>0</td>\n",
       "      <td>...</td>\n",
       "      <td>0</td>\n",
       "      <td>0</td>\n",
       "      <td>0</td>\n",
       "      <td>0</td>\n",
       "      <td>0</td>\n",
       "      <td>0</td>\n",
       "      <td>0</td>\n",
       "      <td>0</td>\n",
       "      <td>0</td>\n",
       "      <td>0</td>\n",
       "    </tr>\n",
       "  </tbody>\n",
       "</table>\n",
       "<p>3 rows × 51 columns</p>\n",
       "</div>"
      ],
      "text/plain": [
       "     Price Neighboorhood property_type  bedroom  bungalow  \\\n",
       "1   350000    Abule-Egba      bungalow        2         1   \n",
       "2  1000000         Agege      bungalow        4         1   \n",
       "3   600000         Agege      bungalow        3         1   \n",
       "\n",
       "   commercial property  duplex  flat  mini flat  office space  ...  Ojo  \\\n",
       "1                    0       0     0          0             0  ...    0   \n",
       "2                    0       0     0          0             0  ...    0   \n",
       "3                    0       0     0          0             0  ...    0   \n",
       "\n",
       "   Okota  Orile  Oshodi  Sangotedo  Shomolu  Surulere  VGC  VI  Yaba  \n",
       "1      0      0       0          0        0         0    0   0     0  \n",
       "2      0      0       0          0        0         0    0   0     0  \n",
       "3      0      0       0          0        0         0    0   0     0  \n",
       "\n",
       "[3 rows x 51 columns]"
      ]
     },
     "execution_count": 52,
     "metadata": {},
     "output_type": "execute_result"
    }
   ],
   "source": [
    "df8 = pd.concat([df7, property_type_dummies, location_dummies], axis='columns')\n",
    "# df8 = pd.concat([df7, location_dummies], axis='columns')\n",
    "df8.head(3)"
   ]
  },
  {
   "cell_type": "code",
   "execution_count": 53,
   "id": "9ebc8d51",
   "metadata": {},
   "outputs": [
    {
     "data": {
      "text/html": [
       "<div>\n",
       "<style scoped>\n",
       "    .dataframe tbody tr th:only-of-type {\n",
       "        vertical-align: middle;\n",
       "    }\n",
       "\n",
       "    .dataframe tbody tr th {\n",
       "        vertical-align: top;\n",
       "    }\n",
       "\n",
       "    .dataframe thead th {\n",
       "        text-align: right;\n",
       "    }\n",
       "</style>\n",
       "<table border=\"1\" class=\"dataframe\">\n",
       "  <thead>\n",
       "    <tr style=\"text-align: right;\">\n",
       "      <th></th>\n",
       "      <th>Price</th>\n",
       "      <th>bedroom</th>\n",
       "      <th>bungalow</th>\n",
       "      <th>commercial property</th>\n",
       "      <th>duplex</th>\n",
       "      <th>flat</th>\n",
       "      <th>mini flat</th>\n",
       "      <th>office space</th>\n",
       "      <th>self contain</th>\n",
       "      <th>Abule-Egba</th>\n",
       "      <th>...</th>\n",
       "      <th>Ogudu</th>\n",
       "      <th>Ojo</th>\n",
       "      <th>Okota</th>\n",
       "      <th>Orile</th>\n",
       "      <th>Oshodi</th>\n",
       "      <th>Sangotedo</th>\n",
       "      <th>Shomolu</th>\n",
       "      <th>Surulere</th>\n",
       "      <th>VGC</th>\n",
       "      <th>VI</th>\n",
       "    </tr>\n",
       "  </thead>\n",
       "  <tbody>\n",
       "    <tr>\n",
       "      <th>1</th>\n",
       "      <td>350000</td>\n",
       "      <td>2</td>\n",
       "      <td>1</td>\n",
       "      <td>0</td>\n",
       "      <td>0</td>\n",
       "      <td>0</td>\n",
       "      <td>0</td>\n",
       "      <td>0</td>\n",
       "      <td>0</td>\n",
       "      <td>1</td>\n",
       "      <td>...</td>\n",
       "      <td>0</td>\n",
       "      <td>0</td>\n",
       "      <td>0</td>\n",
       "      <td>0</td>\n",
       "      <td>0</td>\n",
       "      <td>0</td>\n",
       "      <td>0</td>\n",
       "      <td>0</td>\n",
       "      <td>0</td>\n",
       "      <td>0</td>\n",
       "    </tr>\n",
       "    <tr>\n",
       "      <th>2</th>\n",
       "      <td>1000000</td>\n",
       "      <td>4</td>\n",
       "      <td>1</td>\n",
       "      <td>0</td>\n",
       "      <td>0</td>\n",
       "      <td>0</td>\n",
       "      <td>0</td>\n",
       "      <td>0</td>\n",
       "      <td>0</td>\n",
       "      <td>0</td>\n",
       "      <td>...</td>\n",
       "      <td>0</td>\n",
       "      <td>0</td>\n",
       "      <td>0</td>\n",
       "      <td>0</td>\n",
       "      <td>0</td>\n",
       "      <td>0</td>\n",
       "      <td>0</td>\n",
       "      <td>0</td>\n",
       "      <td>0</td>\n",
       "      <td>0</td>\n",
       "    </tr>\n",
       "    <tr>\n",
       "      <th>3</th>\n",
       "      <td>600000</td>\n",
       "      <td>3</td>\n",
       "      <td>1</td>\n",
       "      <td>0</td>\n",
       "      <td>0</td>\n",
       "      <td>0</td>\n",
       "      <td>0</td>\n",
       "      <td>0</td>\n",
       "      <td>0</td>\n",
       "      <td>0</td>\n",
       "      <td>...</td>\n",
       "      <td>0</td>\n",
       "      <td>0</td>\n",
       "      <td>0</td>\n",
       "      <td>0</td>\n",
       "      <td>0</td>\n",
       "      <td>0</td>\n",
       "      <td>0</td>\n",
       "      <td>0</td>\n",
       "      <td>0</td>\n",
       "      <td>0</td>\n",
       "    </tr>\n",
       "  </tbody>\n",
       "</table>\n",
       "<p>3 rows × 47 columns</p>\n",
       "</div>"
      ],
      "text/plain": [
       "     Price  bedroom  bungalow  commercial property  duplex  flat  mini flat  \\\n",
       "1   350000        2         1                    0       0     0          0   \n",
       "2  1000000        4         1                    0       0     0          0   \n",
       "3   600000        3         1                    0       0     0          0   \n",
       "\n",
       "   office space  self contain  Abule-Egba  ...  Ogudu  Ojo  Okota  Orile  \\\n",
       "1             0             0           1  ...      0    0      0      0   \n",
       "2             0             0           0  ...      0    0      0      0   \n",
       "3             0             0           0  ...      0    0      0      0   \n",
       "\n",
       "   Oshodi  Sangotedo  Shomolu  Surulere  VGC  VI  \n",
       "1       0          0        0         0    0   0  \n",
       "2       0          0        0         0    0   0  \n",
       "3       0          0        0         0    0   0  \n",
       "\n",
       "[3 rows x 47 columns]"
      ]
     },
     "execution_count": 53,
     "metadata": {},
     "output_type": "execute_result"
    }
   ],
   "source": [
    "df9 = df8.drop(['Neighboorhood', 'property_type', 'shop', 'Yaba'], axis='columns')\n",
    "columns_df = df8.drop(['Neighboorhood', 'property_type', 'Price'], axis='columns')\n",
    "model_column_df = df9.copy()\n",
    "model_column_df = model_column_df.drop('Price', axis='columns')\n",
    "df9.head(3)"
   ]
  },
  {
   "cell_type": "code",
   "execution_count": 54,
   "id": "744ab4a0",
   "metadata": {},
   "outputs": [
    {
     "data": {
      "text/plain": [
       "array([[2, 1, 0, 0, 0, 0, 0, 0, 1, 0, 0, 0, 0, 0, 0, 0, 0, 0, 0, 0, 0, 0,\n",
       "        0, 0, 0, 0, 0, 0, 0, 0, 0, 0, 0, 0, 0, 0, 0, 0, 0, 0, 0, 0, 0, 0,\n",
       "        0, 0]], dtype=int64)"
      ]
     },
     "execution_count": 54,
     "metadata": {},
     "output_type": "execute_result"
    }
   ],
   "source": [
    "x = df9.drop('Price', axis='columns').values\n",
    "x[:1]"
   ]
  },
  {
   "cell_type": "code",
   "execution_count": 55,
   "id": "2e8fab74",
   "metadata": {},
   "outputs": [
    {
     "data": {
      "text/plain": [
       "1     350000\n",
       "2    1000000\n",
       "3     600000\n",
       "Name: Price, dtype: int64"
      ]
     },
     "execution_count": 55,
     "metadata": {},
     "output_type": "execute_result"
    }
   ],
   "source": [
    "y = df9.Price\n",
    "y.head(3)"
   ]
  },
  {
   "cell_type": "code",
   "execution_count": 56,
   "id": "0314ad1e",
   "metadata": {
    "scrolled": true
   },
   "outputs": [
    {
     "name": "stdout",
     "output_type": "stream",
     "text": [
      "6702 5361 1341\n"
     ]
    }
   ],
   "source": [
    "from sklearn.model_selection import train_test_split\n",
    "x_train, x_test, y_train, y_test = train_test_split(x, y, test_size=0.2, random_state=0)\n",
    "print(df9.shape[0], x_train.shape[0], x_test.shape[0])"
   ]
  },
  {
   "cell_type": "code",
   "execution_count": 57,
   "id": "6ce3380f",
   "metadata": {},
   "outputs": [
    {
     "data": {
      "text/plain": [
       "0.81592040045128"
      ]
     },
     "execution_count": 57,
     "metadata": {},
     "output_type": "execute_result"
    }
   ],
   "source": [
    "from sklearn.linear_model import LinearRegression\n",
    "model = LinearRegression()\n",
    "model.fit(x_train, y_train)\n",
    "model.score(x_test, y_test)"
   ]
  },
  {
   "cell_type": "markdown",
   "id": "5678f7b6",
   "metadata": {},
   "source": [
    "#### Use K Fold Cross Validation to check the accuracy of our LinearRegression model"
   ]
  },
  {
   "cell_type": "code",
   "execution_count": 58,
   "id": "6abd3445",
   "metadata": {},
   "outputs": [
    {
     "data": {
      "text/plain": [
       "array([0.8159204 , 0.82872378, 0.83692563, 0.83531468, 0.83405748])"
      ]
     },
     "execution_count": 58,
     "metadata": {},
     "output_type": "execute_result"
    }
   ],
   "source": [
    "from sklearn.model_selection import ShuffleSplit\n",
    "from sklearn.model_selection import cross_val_score\n",
    "\n",
    "cv = ShuffleSplit(n_splits=5, test_size=0.2, random_state=0)\n",
    "cross_val_score(LinearRegression(), x, y, cv=cv)"
   ]
  },
  {
   "cell_type": "markdown",
   "id": "240a2a2e",
   "metadata": {},
   "source": [
    "### Find the best model using GridSeachCV"
   ]
  },
  {
   "cell_type": "code",
   "execution_count": 59,
   "id": "d290ac7f",
   "metadata": {
    "scrolled": false
   },
   "outputs": [
    {
     "name": "stderr",
     "output_type": "stream",
     "text": [
      "C:\\Users\\CELESTINE TYJC\\anaconda3\\lib\\site-packages\\sklearn\\linear_model\\_base.py:141: FutureWarning: 'normalize' was deprecated in version 1.0 and will be removed in 1.2.\n",
      "If you wish to scale the data, use Pipeline with a StandardScaler in a preprocessing stage. To reproduce the previous behavior:\n",
      "\n",
      "from sklearn.pipeline import make_pipeline\n",
      "\n",
      "model = make_pipeline(StandardScaler(with_mean=False), LinearRegression())\n",
      "\n",
      "If you wish to pass a sample_weight parameter, you need to pass it as a fit parameter to each step of the pipeline as follows:\n",
      "\n",
      "kwargs = {s[0] + '__sample_weight': sample_weight for s in model.steps}\n",
      "model.fit(X, y, **kwargs)\n",
      "\n",
      "\n",
      "  warnings.warn(\n",
      "C:\\Users\\CELESTINE TYJC\\anaconda3\\lib\\site-packages\\sklearn\\linear_model\\_base.py:141: FutureWarning: 'normalize' was deprecated in version 1.0 and will be removed in 1.2.\n",
      "If you wish to scale the data, use Pipeline with a StandardScaler in a preprocessing stage. To reproduce the previous behavior:\n",
      "\n",
      "from sklearn.pipeline import make_pipeline\n",
      "\n",
      "model = make_pipeline(StandardScaler(with_mean=False), LinearRegression())\n",
      "\n",
      "If you wish to pass a sample_weight parameter, you need to pass it as a fit parameter to each step of the pipeline as follows:\n",
      "\n",
      "kwargs = {s[0] + '__sample_weight': sample_weight for s in model.steps}\n",
      "model.fit(X, y, **kwargs)\n",
      "\n",
      "\n",
      "  warnings.warn(\n",
      "C:\\Users\\CELESTINE TYJC\\anaconda3\\lib\\site-packages\\sklearn\\linear_model\\_base.py:141: FutureWarning: 'normalize' was deprecated in version 1.0 and will be removed in 1.2.\n",
      "If you wish to scale the data, use Pipeline with a StandardScaler in a preprocessing stage. To reproduce the previous behavior:\n",
      "\n",
      "from sklearn.pipeline import make_pipeline\n",
      "\n",
      "model = make_pipeline(StandardScaler(with_mean=False), LinearRegression())\n",
      "\n",
      "If you wish to pass a sample_weight parameter, you need to pass it as a fit parameter to each step of the pipeline as follows:\n",
      "\n",
      "kwargs = {s[0] + '__sample_weight': sample_weight for s in model.steps}\n",
      "model.fit(X, y, **kwargs)\n",
      "\n",
      "\n",
      "  warnings.warn(\n",
      "C:\\Users\\CELESTINE TYJC\\anaconda3\\lib\\site-packages\\sklearn\\linear_model\\_base.py:141: FutureWarning: 'normalize' was deprecated in version 1.0 and will be removed in 1.2.\n",
      "If you wish to scale the data, use Pipeline with a StandardScaler in a preprocessing stage. To reproduce the previous behavior:\n",
      "\n",
      "from sklearn.pipeline import make_pipeline\n",
      "\n",
      "model = make_pipeline(StandardScaler(with_mean=False), LinearRegression())\n",
      "\n",
      "If you wish to pass a sample_weight parameter, you need to pass it as a fit parameter to each step of the pipeline as follows:\n",
      "\n",
      "kwargs = {s[0] + '__sample_weight': sample_weight for s in model.steps}\n",
      "model.fit(X, y, **kwargs)\n",
      "\n",
      "\n",
      "  warnings.warn(\n",
      "C:\\Users\\CELESTINE TYJC\\anaconda3\\lib\\site-packages\\sklearn\\linear_model\\_base.py:141: FutureWarning: 'normalize' was deprecated in version 1.0 and will be removed in 1.2.\n",
      "If you wish to scale the data, use Pipeline with a StandardScaler in a preprocessing stage. To reproduce the previous behavior:\n",
      "\n",
      "from sklearn.pipeline import make_pipeline\n",
      "\n",
      "model = make_pipeline(StandardScaler(with_mean=False), LinearRegression())\n",
      "\n",
      "If you wish to pass a sample_weight parameter, you need to pass it as a fit parameter to each step of the pipeline as follows:\n",
      "\n",
      "kwargs = {s[0] + '__sample_weight': sample_weight for s in model.steps}\n",
      "model.fit(X, y, **kwargs)\n",
      "\n",
      "\n",
      "  warnings.warn(\n",
      "C:\\Users\\CELESTINE TYJC\\anaconda3\\lib\\site-packages\\sklearn\\linear_model\\_base.py:148: FutureWarning: 'normalize' was deprecated in version 1.0 and will be removed in 1.2. Please leave the normalize parameter to its default value to silence this warning. The default behavior of this estimator is to not do any normalization. If normalization is needed please use sklearn.preprocessing.StandardScaler instead.\n",
      "  warnings.warn(\n",
      "C:\\Users\\CELESTINE TYJC\\anaconda3\\lib\\site-packages\\sklearn\\linear_model\\_base.py:148: FutureWarning: 'normalize' was deprecated in version 1.0 and will be removed in 1.2. Please leave the normalize parameter to its default value to silence this warning. The default behavior of this estimator is to not do any normalization. If normalization is needed please use sklearn.preprocessing.StandardScaler instead.\n",
      "  warnings.warn(\n",
      "C:\\Users\\CELESTINE TYJC\\anaconda3\\lib\\site-packages\\sklearn\\linear_model\\_base.py:148: FutureWarning: 'normalize' was deprecated in version 1.0 and will be removed in 1.2. Please leave the normalize parameter to its default value to silence this warning. The default behavior of this estimator is to not do any normalization. If normalization is needed please use sklearn.preprocessing.StandardScaler instead.\n",
      "  warnings.warn(\n",
      "C:\\Users\\CELESTINE TYJC\\anaconda3\\lib\\site-packages\\sklearn\\linear_model\\_base.py:148: FutureWarning: 'normalize' was deprecated in version 1.0 and will be removed in 1.2. Please leave the normalize parameter to its default value to silence this warning. The default behavior of this estimator is to not do any normalization. If normalization is needed please use sklearn.preprocessing.StandardScaler instead.\n",
      "  warnings.warn(\n",
      "C:\\Users\\CELESTINE TYJC\\anaconda3\\lib\\site-packages\\sklearn\\linear_model\\_base.py:148: FutureWarning: 'normalize' was deprecated in version 1.0 and will be removed in 1.2. Please leave the normalize parameter to its default value to silence this warning. The default behavior of this estimator is to not do any normalization. If normalization is needed please use sklearn.preprocessing.StandardScaler instead.\n",
      "  warnings.warn(\n",
      "C:\\Users\\CELESTINE TYJC\\anaconda3\\lib\\site-packages\\sklearn\\linear_model\\_base.py:141: FutureWarning: 'normalize' was deprecated in version 1.0 and will be removed in 1.2.\n",
      "If you wish to scale the data, use Pipeline with a StandardScaler in a preprocessing stage. To reproduce the previous behavior:\n",
      "\n",
      "from sklearn.pipeline import make_pipeline\n",
      "\n",
      "model = make_pipeline(StandardScaler(with_mean=False), LinearRegression())\n",
      "\n",
      "If you wish to pass a sample_weight parameter, you need to pass it as a fit parameter to each step of the pipeline as follows:\n",
      "\n",
      "kwargs = {s[0] + '__sample_weight': sample_weight for s in model.steps}\n",
      "model.fit(X, y, **kwargs)\n",
      "\n",
      "\n",
      "  warnings.warn(\n",
      "C:\\Users\\CELESTINE TYJC\\anaconda3\\lib\\site-packages\\sklearn\\tree\\_classes.py:359: FutureWarning: Criterion 'mse' was deprecated in v1.0 and will be removed in version 1.2. Use `criterion='squared_error'` which is equivalent.\n",
      "  warnings.warn(\n",
      "C:\\Users\\CELESTINE TYJC\\anaconda3\\lib\\site-packages\\sklearn\\tree\\_classes.py:359: FutureWarning: Criterion 'mse' was deprecated in v1.0 and will be removed in version 1.2. Use `criterion='squared_error'` which is equivalent.\n",
      "  warnings.warn(\n",
      "C:\\Users\\CELESTINE TYJC\\anaconda3\\lib\\site-packages\\sklearn\\tree\\_classes.py:359: FutureWarning: Criterion 'mse' was deprecated in v1.0 and will be removed in version 1.2. Use `criterion='squared_error'` which is equivalent.\n",
      "  warnings.warn(\n",
      "C:\\Users\\CELESTINE TYJC\\anaconda3\\lib\\site-packages\\sklearn\\tree\\_classes.py:359: FutureWarning: Criterion 'mse' was deprecated in v1.0 and will be removed in version 1.2. Use `criterion='squared_error'` which is equivalent.\n",
      "  warnings.warn(\n",
      "C:\\Users\\CELESTINE TYJC\\anaconda3\\lib\\site-packages\\sklearn\\tree\\_classes.py:359: FutureWarning: Criterion 'mse' was deprecated in v1.0 and will be removed in version 1.2. Use `criterion='squared_error'` which is equivalent.\n",
      "  warnings.warn(\n",
      "C:\\Users\\CELESTINE TYJC\\anaconda3\\lib\\site-packages\\sklearn\\tree\\_classes.py:359: FutureWarning: Criterion 'mse' was deprecated in v1.0 and will be removed in version 1.2. Use `criterion='squared_error'` which is equivalent.\n",
      "  warnings.warn(\n",
      "C:\\Users\\CELESTINE TYJC\\anaconda3\\lib\\site-packages\\sklearn\\tree\\_classes.py:359: FutureWarning: Criterion 'mse' was deprecated in v1.0 and will be removed in version 1.2. Use `criterion='squared_error'` which is equivalent.\n",
      "  warnings.warn(\n",
      "C:\\Users\\CELESTINE TYJC\\anaconda3\\lib\\site-packages\\sklearn\\tree\\_classes.py:359: FutureWarning: Criterion 'mse' was deprecated in v1.0 and will be removed in version 1.2. Use `criterion='squared_error'` which is equivalent.\n",
      "  warnings.warn(\n",
      "C:\\Users\\CELESTINE TYJC\\anaconda3\\lib\\site-packages\\sklearn\\tree\\_classes.py:359: FutureWarning: Criterion 'mse' was deprecated in v1.0 and will be removed in version 1.2. Use `criterion='squared_error'` which is equivalent.\n",
      "  warnings.warn(\n",
      "C:\\Users\\CELESTINE TYJC\\anaconda3\\lib\\site-packages\\sklearn\\tree\\_classes.py:359: FutureWarning: Criterion 'mse' was deprecated in v1.0 and will be removed in version 1.2. Use `criterion='squared_error'` which is equivalent.\n",
      "  warnings.warn(\n"
     ]
    },
    {
     "data": {
      "text/html": [
       "<div>\n",
       "<style scoped>\n",
       "    .dataframe tbody tr th:only-of-type {\n",
       "        vertical-align: middle;\n",
       "    }\n",
       "\n",
       "    .dataframe tbody tr th {\n",
       "        vertical-align: top;\n",
       "    }\n",
       "\n",
       "    .dataframe thead th {\n",
       "        text-align: right;\n",
       "    }\n",
       "</style>\n",
       "<table border=\"1\" class=\"dataframe\">\n",
       "  <thead>\n",
       "    <tr style=\"text-align: right;\">\n",
       "      <th></th>\n",
       "      <th>Model</th>\n",
       "      <th>Best Score</th>\n",
       "      <th>Best Params</th>\n",
       "    </tr>\n",
       "  </thead>\n",
       "  <tbody>\n",
       "    <tr>\n",
       "      <th>0</th>\n",
       "      <td>LinearRegression</td>\n",
       "      <td>0.830188</td>\n",
       "      <td>{'normalize': True}</td>\n",
       "    </tr>\n",
       "    <tr>\n",
       "      <th>1</th>\n",
       "      <td>lasso</td>\n",
       "      <td>0.830188</td>\n",
       "      <td>{'alpha': 1, 'selection': 'cyclic'}</td>\n",
       "    </tr>\n",
       "    <tr>\n",
       "      <th>2</th>\n",
       "      <td>Decision_Tree</td>\n",
       "      <td>0.850814</td>\n",
       "      <td>{'criterion': 'friedman_mse', 'splitter': 'best'}</td>\n",
       "    </tr>\n",
       "  </tbody>\n",
       "</table>\n",
       "</div>"
      ],
      "text/plain": [
       "              Model  Best Score  \\\n",
       "0  LinearRegression    0.830188   \n",
       "1             lasso    0.830188   \n",
       "2     Decision_Tree    0.850814   \n",
       "\n",
       "                                         Best Params  \n",
       "0                                {'normalize': True}  \n",
       "1                {'alpha': 1, 'selection': 'cyclic'}  \n",
       "2  {'criterion': 'friedman_mse', 'splitter': 'best'}  "
      ]
     },
     "execution_count": 59,
     "metadata": {},
     "output_type": "execute_result"
    }
   ],
   "source": [
    "from sklearn.model_selection import GridSearchCV\n",
    "\n",
    "from sklearn.linear_model import Lasso\n",
    "from sklearn.tree import DecisionTreeRegressor\n",
    "\n",
    "def find_best_model_using_gridsearch(x, y):\n",
    "    algos = {\n",
    "        'LinearRegression': {\n",
    "            'model': LinearRegression(),\n",
    "            'params': {\n",
    "                'normalize': [True, False]\n",
    "            }\n",
    "        },\n",
    "        'lasso': {\n",
    "            'model': Lasso(),\n",
    "            'params': {\n",
    "                'alpha': [1, 2],\n",
    "                'selection': ['random', 'cyclic']\n",
    "            }\n",
    "        },\n",
    "        'Decision_Tree': {\n",
    "            'model': DecisionTreeRegressor(),\n",
    "            'params': {\n",
    "                'criterion': ['mse', 'friedman_mse'],\n",
    "                'splitter': ['best', 'random']\n",
    "            }\n",
    "        }\n",
    "    }\n",
    "    scores = []\n",
    "    cv = ShuffleSplit(n_splits=5, test_size=0.2, random_state=0)\n",
    "    for algo_name, config in algos.items():\n",
    "        gs = GridSearchCV(config['model'], config['params'], cv=cv, return_train_score=False)\n",
    "        gs.fit(x, y)\n",
    "        scores.append({\n",
    "            'Model': algo_name,\n",
    "            'Best Score': gs.best_score_,\n",
    "            'Best Params': gs.best_params_\n",
    "        })\n",
    "    return pd.DataFrame(scores, columns=['Model', 'Best Score', 'Best Params']) \n",
    "find_best_model_using_gridsearch(x, y)"
   ]
  },
  {
   "cell_type": "code",
   "execution_count": 60,
   "id": "37730051",
   "metadata": {},
   "outputs": [
    {
     "data": {
      "text/plain": [
       "0.8334433574054125"
      ]
     },
     "execution_count": 60,
     "metadata": {},
     "output_type": "execute_result"
    }
   ],
   "source": [
    "tree_model = DecisionTreeRegressor(criterion='friedman_mse', splitter='best')\n",
    "tree_model.fit(x_train, y_train)\n",
    "tree_model.score(x_test, y_test)"
   ]
  },
  {
   "cell_type": "code",
   "execution_count": 61,
   "id": "ff354886",
   "metadata": {},
   "outputs": [
    {
     "data": {
      "text/plain": [
       "0.8797940651361245"
      ]
     },
     "execution_count": 61,
     "metadata": {},
     "output_type": "execute_result"
    }
   ],
   "source": [
    "# Train set\n",
    "tree_model.score(x_train, y_train)"
   ]
  },
  {
   "cell_type": "code",
   "execution_count": 62,
   "id": "3bf48a3f",
   "metadata": {},
   "outputs": [],
   "source": [
    "import pickle\n",
    "with open('lagos_prediction_using_tree_now.pickle', 'wb') as f:\n",
    "    pickle.dump(tree_model, f)"
   ]
  },
  {
   "cell_type": "code",
   "execution_count": 63,
   "id": "a1c3e0d9",
   "metadata": {},
   "outputs": [],
   "source": [
    "import json\n",
    "location_columns = {\n",
    "    'location': [val.lower() for val in columns_df.columns]\n",
    "}\n",
    "\n",
    "model_columns = {\n",
    "    'model_columns': [val.lower() for val in model_column_df]\n",
    "}\n",
    "\n",
    "with open('lagos_columns_now.json', 'w') as f:\n",
    "    f.write(json.dumps(location_columns))\n",
    "    \n",
    "with open('model_columns_now.json', 'w') as f:\n",
    "    f.write(json.dumps(model_columns))"
   ]
  },
  {
   "cell_type": "code",
   "execution_count": 117,
   "id": "fab6afda",
   "metadata": {
    "scrolled": true
   },
   "outputs": [
    {
     "data": {
      "text/plain": [
       "'1,500,000'"
      ]
     },
     "execution_count": 117,
     "metadata": {},
     "output_type": "execute_result"
    }
   ],
   "source": [
    "def price_estimator(location, p_type, bedroom):\n",
    "    try:\n",
    "        loc_index = model_columns['model_columns'].index(location.lower())\n",
    "    except:\n",
    "        loc_index = -1\n",
    "    try:\n",
    "        type_index = model_columns['model_columns'].index(p_type.lower())\n",
    "    except:\n",
    "        type_index = -1 \n",
    "        \n",
    "    b = np.zeros(len(model_columns['model_columns']))\n",
    "    b[0] = bedroom\n",
    "    if loc_index >= 0:\n",
    "        b[loc_index] = 1\n",
    "    if type_index >= 0:\n",
    "        b[type_index] = 1\n",
    "    \n",
    "    num = round(tree_model.predict([b])[0])\n",
    "    return f'{num:,}'\n",
    "\n",
    "price_estimator('agege', 'bungalow', 5)   "
   ]
  },
  {
   "cell_type": "code",
   "execution_count": 95,
   "id": "ccc5c1f4",
   "metadata": {},
   "outputs": [
    {
     "data": {
      "text/plain": [
       "'1,500,000'"
      ]
     },
     "execution_count": 95,
     "metadata": {},
     "output_type": "execute_result"
    }
   ],
   "source": [
    "def get_estimated_price(location, p_type, bhk):\n",
    "    try:\n",
    "        loc_index = model_columns['model_columns'].index(location.lower())\n",
    "    except:\n",
    "        loc_index = -1\n",
    "    try:\n",
    "        type_index = model_columns['model_columns'].index(p_type.lower())\n",
    "    except:\n",
    "        type_index = -1\n",
    "\n",
    "    z = np.zeros(len(model_columns['model_columns']))\n",
    "    z[0] = bhk\n",
    "\n",
    "    if loc_index >= 0:\n",
    "        z[loc_index] = 1\n",
    "    if type_index >= 0:\n",
    "        z[type_index] = 1\n",
    "    num = round(tree_model.predict([z])[0])\n",
    "    return f'{num:,}'\n",
    "\n",
    "get_estimated_price('yaba', 'flat', 5)"
   ]
  },
  {
   "cell_type": "code",
   "execution_count": 66,
   "id": "84033f97",
   "metadata": {},
   "outputs": [
    {
     "data": {
      "text/plain": [
       "46"
      ]
     },
     "execution_count": 66,
     "metadata": {},
     "output_type": "execute_result"
    }
   ],
   "source": [
    "len(model_columns['model_columns'])"
   ]
  },
  {
   "cell_type": "code",
   "execution_count": 67,
   "id": "a86ccb74",
   "metadata": {},
   "outputs": [
    {
     "data": {
      "text/plain": [
       "True"
      ]
     },
     "execution_count": 67,
     "metadata": {},
     "output_type": "execute_result"
    }
   ],
   "source": [
    "'Alimosho'.lower() in location_columns['location']"
   ]
  },
  {
   "cell_type": "code",
   "execution_count": 68,
   "id": "8641a26b",
   "metadata": {},
   "outputs": [
    {
     "data": {
      "text/plain": [
       "21"
      ]
     },
     "execution_count": 68,
     "metadata": {},
     "output_type": "execute_result"
    }
   ],
   "source": [
    "location_columns['location'].index('idimu'.lower())"
   ]
  },
  {
   "cell_type": "code",
   "execution_count": 70,
   "id": "5b90594f",
   "metadata": {},
   "outputs": [
    {
     "data": {
      "text/plain": [
       "['bungalow',\n",
       " 'commercial property',\n",
       " 'duplex',\n",
       " 'flat',\n",
       " 'mini flat',\n",
       " 'office space',\n",
       " 'self contain',\n",
       " 'shop']"
      ]
     },
     "execution_count": 70,
     "metadata": {},
     "output_type": "execute_result"
    }
   ],
   "source": [
    "location_columns['location'][1:9]"
   ]
  }
 ],
 "metadata": {
  "kernelspec": {
   "display_name": "Python 3 (ipykernel)",
   "language": "python",
   "name": "python3"
  },
  "language_info": {
   "codemirror_mode": {
    "name": "ipython",
    "version": 3
   },
   "file_extension": ".py",
   "mimetype": "text/x-python",
   "name": "python",
   "nbconvert_exporter": "python",
   "pygments_lexer": "ipython3",
   "version": "3.9.12"
  }
 },
 "nbformat": 4,
 "nbformat_minor": 5
}
